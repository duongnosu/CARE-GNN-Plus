{
  "nbformat": 4,
  "nbformat_minor": 0,
  "metadata": {
    "colab": {
      "provenance": [],
      "collapsed_sections": [
        "vgc_IXmrsMsi",
        "pMMXzKSIscPF",
        "v8nnzr7eshFO",
        "bQ7lHU80sne3",
        "EkkxmM9HsvIu",
        "YZz5ExDfsy9h",
        "oCJPxrOZs2_k",
        "dUOYlzCXs_5Y",
        "8aD-aqsDtpZH",
        "4txumyILun1_"
      ]
    },
    "kernelspec": {
      "name": "python3",
      "display_name": "Python 3"
    },
    "language_info": {
      "name": "python"
    }
  },
  "cells": [
    {
      "cell_type": "code",
      "execution_count": 1,
      "metadata": {
        "colab": {
          "base_uri": "https://localhost:8080/"
        },
        "id": "F99nQSaSpdEr",
        "outputId": "0a2e4689-1e20-4b74-d825-cfd9e694855f"
      },
      "outputs": [
        {
          "output_type": "stream",
          "name": "stdout",
          "text": [
            "Cloning into 'CARE-GNN-Plus'...\n",
            "remote: Enumerating objects: 135, done.\u001b[K\n",
            "remote: Counting objects: 100% (47/47), done.\u001b[K\n",
            "remote: Compressing objects: 100% (24/24), done.\u001b[K\n",
            "remote: Total 135 (delta 31), reused 23 (delta 23), pack-reused 88 (from 1)\u001b[K\n",
            "Receiving objects: 100% (135/135), 39.97 MiB | 13.10 MiB/s, done.\n",
            "Resolving deltas: 100% (59/59), done.\n"
          ]
        }
      ],
      "source": [
        "!git clone https://github.com/duongnosu/CARE-GNN-Plus.git"
      ]
    },
    {
      "cell_type": "code",
      "source": [
        "from google.colab import drive\n",
        "drive.mount('/content/drive')"
      ],
      "metadata": {
        "colab": {
          "base_uri": "https://localhost:8080/"
        },
        "id": "k6GEcx-dqa5v",
        "outputId": "e4427610-8444-438f-99a6-63ed1d903995"
      },
      "execution_count": 2,
      "outputs": [
        {
          "output_type": "stream",
          "name": "stdout",
          "text": [
            "Mounted at /content/drive\n"
          ]
        }
      ]
    },
    {
      "cell_type": "code",
      "source": [
        "ls"
      ],
      "metadata": {
        "colab": {
          "base_uri": "https://localhost:8080/"
        },
        "id": "_k7fx1xfqidE",
        "outputId": "19b81ab2-b67a-408b-a8b9-c6bfb6a6355a"
      },
      "execution_count": 4,
      "outputs": [
        {
          "output_type": "stream",
          "name": "stdout",
          "text": [
            "\u001b[0m\u001b[01;34mCARE-GNN-Plus\u001b[0m/  \u001b[01;34mdrive\u001b[0m/  \u001b[01;34msample_data\u001b[0m/\n"
          ]
        }
      ]
    },
    {
      "cell_type": "code",
      "source": [
        "cd CARE-GNN-Plus/"
      ],
      "metadata": {
        "colab": {
          "base_uri": "https://localhost:8080/"
        },
        "id": "G68MQm3Xqluc",
        "outputId": "2387adb2-e958-4808-c062-8c70aa63237d"
      },
      "execution_count": 5,
      "outputs": [
        {
          "output_type": "stream",
          "name": "stdout",
          "text": [
            "/content/CARE-GNN-Plus\n"
          ]
        }
      ]
    },
    {
      "cell_type": "code",
      "source": [
        "cd data/"
      ],
      "metadata": {
        "colab": {
          "base_uri": "https://localhost:8080/"
        },
        "id": "o8tCdR95qvwR",
        "outputId": "d59bd950-93d4-4161-ef55-5aca5c350b96"
      },
      "execution_count": 6,
      "outputs": [
        {
          "output_type": "stream",
          "name": "stdout",
          "text": [
            "/content/CARE-GNN-Plus/data\n"
          ]
        }
      ]
    },
    {
      "cell_type": "code",
      "source": [
        "ls"
      ],
      "metadata": {
        "colab": {
          "base_uri": "https://localhost:8080/"
        },
        "id": "mSE_ATL0qzvC",
        "outputId": "31d5e35d-e8ee-4f42-c6d1-80dfd7b0360e"
      },
      "execution_count": 7,
      "outputs": [
        {
          "output_type": "stream",
          "name": "stdout",
          "text": [
            "Amazon.zip  YelpChi.zip\n"
          ]
        }
      ]
    },
    {
      "cell_type": "code",
      "source": [
        "!unzip Amazon.zip"
      ],
      "metadata": {
        "colab": {
          "base_uri": "https://localhost:8080/"
        },
        "id": "OsaV3mNZq0-_",
        "outputId": "9ccb204d-ca82-4b44-ac9c-16ccb59fc5f9"
      },
      "execution_count": 8,
      "outputs": [
        {
          "output_type": "stream",
          "name": "stdout",
          "text": [
            "Archive:  Amazon.zip\n",
            "  inflating: Amazon.mat              \n"
          ]
        }
      ]
    },
    {
      "cell_type": "code",
      "source": [
        "cd ..\n"
      ],
      "metadata": {
        "colab": {
          "base_uri": "https://localhost:8080/"
        },
        "id": "nhxAILBZq5Po",
        "outputId": "0f87e3a8-8c99-473c-8875-7dbbb9211816"
      },
      "execution_count": 9,
      "outputs": [
        {
          "output_type": "stream",
          "name": "stdout",
          "text": [
            "/content/CARE-GNN-Plus\n"
          ]
        }
      ]
    },
    {
      "cell_type": "code",
      "source": [
        "!python3 data_process.py"
      ],
      "metadata": {
        "id": "ep83kBoBq7w2"
      },
      "execution_count": 10,
      "outputs": []
    },
    {
      "cell_type": "code",
      "source": [],
      "metadata": {
        "id": "sY6wjSMtrbFk"
      },
      "execution_count": null,
      "outputs": []
    },
    {
      "cell_type": "markdown",
      "source": [
        "# Vizialization"
      ],
      "metadata": {
        "id": "WfqrcEClrdKW"
      }
    },
    {
      "cell_type": "code",
      "source": [
        "import numpy as np\n",
        "import torch\n",
        "import torch.nn as nn\n",
        "from scipy.io import loadmat\n",
        "import pickle\n",
        "import matplotlib.pyplot as plt\n",
        "from sklearn.model_selection import train_test_split\n",
        "import networkx as nx\n",
        "import random\n",
        "from matplotlib.patches import Patch\n",
        "\n",
        "from torch.nn import init\n",
        "import torch.nn.functional as F\n",
        "from torch.autograd import Variable\n",
        "from operator import itemgetter\n",
        "import math\n",
        "\n",
        "# Import your existing modules\n",
        "from model import OneLayerCARE\n",
        "from layers import IntraAgg, InterAgg\n",
        "from utils import normalize, pos_neg_split, undersample, test_care\n",
        "\n",
        "\n",
        "# Set seeds for reproducibility\n",
        "np.random.seed(42)\n",
        "torch.manual_seed(42)\n",
        "random.seed(42)\n"
      ],
      "metadata": {
        "id": "qn6iQmiIrf3M"
      },
      "execution_count": 11,
      "outputs": []
    },
    {
      "cell_type": "code",
      "source": [
        "print(\"=== Amazon Fraud Detection Dataset ===\")\n",
        "\n",
        "# Load public dataset of Amazon.mat file directly\n",
        "data_file = loadmat('data/Amazon.mat')\n",
        "labels = data_file['label'].flatten() # Binary labels: 0=benign, 1=fraudulent\n",
        "feat_data = data_file['features'].todense().A # Convert sparse matrix to dense array\n",
        "\n",
        "\n",
        "\n",
        "# Load the preprocessed adjacency lists for different user relations\n",
        "# These represent different ways users can be connected in the fraud detection graph\n",
        "\n",
        "# User-Product-User relation: connects users who reviewed the same products\n",
        "with open('data/amz_upu_adjlists.pickle', 'rb') as f:\n",
        "    relation1 = pickle.load(f)  # User-Product-User\n",
        "\n",
        "# User-Service-User relation: connects users with similar service interactions\n",
        "with open('data/amz_usu_adjlists.pickle', 'rb') as f:\n",
        "    relation2 = pickle.load(f)  # User-Service-User\n",
        "\n",
        "# User-View-User relation: connects users with similar viewing/rating patterns\n",
        "with open('data/amz_uvu_adjlists.pickle', 'rb') as f:\n",
        "    relation3 = pickle.load(f)  # User-View-User\n",
        "\n",
        "# Create homogeneous adjacency list (combine all relations)\n",
        "homo = data_file['homo']\n",
        "\n",
        "print(f\"Dataset Statistics:\")\n",
        "print(f\"Total nodes: {len(labels)}\") # Total number of users in the dataset\n",
        "print(f\"Fraudulent users: {np.sum(labels == 1)} ({np.mean(labels==1)*100:.2f}%)\")  # Count and percentage of fraudsters\n",
        "print(f\"Feature dimensions: {feat_data.shape}\") # Shape of feature matrix (users x features)\n",
        "\n",
        "print(f\"\\nRelation Statistics:\")\n",
        "print(f\"User-Product-User nodes: {len(relation1)}\")\n",
        "print(f\"User-Service-User nodes: {len(relation2)}\")\n",
        "print(f\"User-View-User nodes: {len(relation3)}\")\n",
        "\n",
        "print(f\"\\n=== Feature Preprocessing ===\")\n",
        "# Normalize feature data to improve training stability and convergence\n",
        "# This is crucial for neural networks to handle features with different scales\n",
        "feat_data_normalized = normalize(feat_data)\n",
        "\n",
        "# Create PyTorch embedding layer for efficient feature processing\n",
        "# The embedding layer allows for fast lookup of user features during training\n",
        "features = nn.Embedding(feat_data.shape[0], feat_data.shape[1])\n",
        "features.weight = nn.Parameter(torch.FloatTensor(feat_data_normalized), requires_grad=False) # requires_grad=False because user features are fixed (not trainable parameters)\n",
        "\n",
        "# Organize adjacency lists for multi-relation graph processing\n",
        "# Each relation represents a different type of connection between users\n",
        "adj_lists = [relation1, relation2, relation3]\n",
        "print(\"✅ Features normalized and prepared\")\n",
        "print(\"✅ Adjacency lists organized\")\n",
        "\n",
        "# Visualize class distribution\n",
        "plt.figure(figsize=(8, 4))\n",
        "plt.bar(['Benign', 'Fraudulent'], [np.sum(labels == 0), np.sum(labels == 1)])\n",
        "plt.title('Class Distribution in Amazon Dataset')\n",
        "plt.ylabel('Number of Users')\n",
        "plt.show()"
      ],
      "metadata": {
        "colab": {
          "base_uri": "https://localhost:8080/",
          "height": 621
        },
        "id": "yEvxRcIsrink",
        "outputId": "5c2644d5-83e3-4fdf-f3eb-401519b0dda5"
      },
      "execution_count": 14,
      "outputs": [
        {
          "output_type": "stream",
          "name": "stdout",
          "text": [
            "=== Amazon Fraud Detection Dataset ===\n",
            "Dataset Statistics:\n",
            "Total nodes: 11944\n",
            "Fraudulent users: 821 (6.87%)\n",
            "Feature dimensions: (11944, 25)\n",
            "\n",
            "Relation Statistics:\n",
            "User-Product-User nodes: 11944\n",
            "User-Service-User nodes: 11944\n",
            "User-View-User nodes: 11944\n",
            "\n",
            "=== Feature Preprocessing ===\n",
            "✅ Features normalized and prepared\n",
            "✅ Adjacency lists organized\n"
          ]
        },
        {
          "output_type": "display_data",
          "data": {
            "text/plain": [
              "<Figure size 800x400 with 1 Axes>"
            ],
            "image/png": "[encoded data removed]"
          },
          "metadata": {}
        }
      ]
    },
    {
      "cell_type": "code",
      "source": [
        "# =========================================================================\n",
        "# Graph Structure Visualization\n",
        "# =========================================================================\n",
        "\n",
        "\n",
        "print(\"=== Example of Graph Structure Visualization ===\")\n",
        "\n",
        "# Load the User-Product-User (UPU) adjacency list data\n",
        "# UPU relation connects users who have reviewed the same products\n",
        "with open(\"data/amz_upu_adjlists.pickle\", \"rb\") as f:\n",
        "    adjlist = pickle.load(f)\n",
        "\n",
        "# Build NetworkX graph from UPU relation\n",
        "# Each node represents a user, edges connect users who reviewed same products\n",
        "G = nx.Graph()\n",
        "for node, neighbors in adjlist.items():\n",
        "    for neighbor in neighbors:\n",
        "        if node != neighbor: # To avoid self-loops\n",
        "            G.add_edge(node, neighbor)\n",
        "\n",
        "# Extract Largest Connected Component\n",
        "# Focus on the main connected component where most fraud activity occurs\n",
        "largest_cc = max(nx.connected_components(G), key=len)\n",
        "subG = G.subgraph(largest_cc).copy()\n",
        "\n",
        "def sample_fraud_subgraph(graph, labels, radius=1, target_size=25):\n",
        "    \"\"\"\n",
        "    Sample a subgraph centered on a fraudulent user for visualization.\n",
        "\n",
        "    Purpose: Create a manageable visualization that shows fraud patterns\n",
        "    Strategy:\n",
        "    - Start with a fraudulent user as center (ego node)\n",
        "    - Include their neighborhood to show fraud clustering\n",
        "    - Limit size for clear visualization\n",
        "\n",
        "    Args:\n",
        "        graph: NetworkX graph to sample from\n",
        "        labels: Dictionary mapping node_id -> label (0=benign, 1=fraud)\n",
        "        radius: How many hops to include (1=direct neighbors only)\n",
        "        target_size: Maximum nodes to include for clear visualization\n",
        "\n",
        "    Returns:\n",
        "        ego_node: The center fraudulent user\n",
        "        ego_subG: Sampled subgraph around the center user\n",
        "    \"\"\"\n",
        "    # Find all fraudulent users in the graph\n",
        "    fraud_nodes = [node for node in graph.nodes() if labels[node]==1]\n",
        "\n",
        "    # Filter to fraud nodes with reasonable connectivity (5-30 connections)\n",
        "    # Too few connections = isolated, too many = visualization becomes messy\n",
        "    filtered_fraud_nodes = [n for n in fraud_nodes if 5 <= graph.degree(n) <= 30]\n",
        "\n",
        "    # Fallback to any fraud node if filtering removes all candidates\n",
        "    if not filtered_fraud_nodes:\n",
        "        filtered_fraud_nodes = fraud_nodes\n",
        "\n",
        "    # Randomly select a fraud node as the center for ego network analysis\n",
        "    ego_node = random.choice(filtered_fraud_nodes)\n",
        "\n",
        "    # Create ego graph: center node + all neighbors within 'radius' hops\n",
        "    # This shows local fraud patterns and how fraudsters connect to others\n",
        "    ego_subG = nx.ego_graph(graph, ego_node, radius=radius)\n",
        "\n",
        "    # Limit size for clear visualization\n",
        "    # If too many nodes, randomly sample while keeping the structure meaningful\n",
        "    if ego_subG.number_of_nodes() > target_size:\n",
        "        sampled_nodes = random.sample(list(ego_subG.nodes()), target_size)\n",
        "        ego_subG = ego_subG.subgraph(sampled_nodes).copy()\n",
        "\n",
        "    return ego_node, ego_subG\n",
        "\n",
        "def visualize_fraud_subgraph(subgraph, labels, ego_node):\n",
        "    \"\"\"\n",
        "    Create a visual representation of the fraud network structure.\n",
        "\n",
        "    Purpose: Show how fraudulent and benign users are connected\n",
        "    Key insights this reveals:\n",
        "    - Fraud clustering patterns (red nodes grouped together)\n",
        "    - Mixed fraud-benign connections (heterophilic edges)\n",
        "    - Network density that justifies GCN aggregation\n",
        "\n",
        "    Color scheme:\n",
        "    - Red: Fraudulent users (the targets we want to detect)\n",
        "    - Sky blue: Benign/legitimate users\n",
        "    - Larger nodes: Fraudulent users (emphasis on fraud patterns)\n",
        "    \"\"\"\n",
        "\n",
        "    # Red = fraudulent (what we want to detect)\n",
        "    # Sky blue = benign/legitimate users\n",
        "    colors = ['red' if labels[node]==1 else 'skyblue' for node in subgraph.nodes()]\n",
        "\n",
        "    # Size nodes based on fraud labels\n",
        "    # Larger fraud nodes help visualize fraud clustering patterns\n",
        "    sizes = [600 if labels[node]==1 else 300 for node in subgraph.nodes()]\n",
        "\n",
        "    plt.figure(figsize=(10, 8))\n",
        "\n",
        "    # k=1.5 provides good spacing, seed=42 for reproducible layouts\n",
        "    pos = nx.spring_layout(subgraph, seed=42, k=1.5)\n",
        "\n",
        "    # Draw edges and nodes\n",
        "    nx.draw_networkx_edges(subgraph, pos, edge_color='grey', alpha=0.6, width=1.2)\n",
        "    nx.draw_networkx_nodes(subgraph, pos, node_color=colors, node_size=sizes,\n",
        "                          alpha=0.9, edgecolors='black', linewidths=1)\n",
        "\n",
        "    # Draw node IDs\n",
        "    for node, (x, y) in pos.items():\n",
        "        plt.text(x, y, str(node), fontsize=9, ha='center', va='center',\n",
        "                color='white', weight='bold')\n",
        "\n",
        "    # Legend\n",
        "    legend_elements = [\n",
        "        Patch(facecolor='red', label='Fraudulent Users'),\n",
        "        Patch(facecolor='skyblue', label='Benign Users')\n",
        "    ]\n",
        "    plt.legend(handles=legend_elements, loc='upper right', fontsize=12)\n",
        "\n",
        "    plt.title(f'Example of User-Product-User (UPU) Relation Network\\n'\n",
        "              f'Ego Network centered on Fraudulent User {ego_node}',\n",
        "              fontsize=14, pad=20)\n",
        "    plt.axis('off')\n",
        "    plt.tight_layout()\n",
        "    plt.show()\n",
        "\n",
        "# Generate visualization\n",
        "print(\"Generating example UPU network visualization...\")\n",
        "ego_node, small_subG = sample_fraud_subgraph(subG, labels, radius=1, target_size=20)\n",
        "print(f\"\\nExample Ego Network (centered on fraudulent user {ego_node}):\")\n",
        "visualize_fraud_subgraph(small_subG, labels, ego_node)"
      ],
      "metadata": {
        "colab": {
          "base_uri": "https://localhost:8080/",
          "height": 871
        },
        "id": "cAMeNqxGr0o_",
        "outputId": "090933f4-c900-401c-adf1-90175b4a5a55"
      },
      "execution_count": 16,
      "outputs": [
        {
          "output_type": "stream",
          "name": "stdout",
          "text": [
            "=== Example of Graph Structure Visualization ===\n",
            "Generating example UPU network visualization...\n",
            "\n",
            "Example Ego Network (centered on fraudulent user 5755):\n"
          ]
        },
        {
          "output_type": "display_data",
          "data": {
            "text/plain": [
              "<Figure size 1000x800 with 1 Axes>"
            ],
            "image/png": "[encoded data removed]"
          },
          "metadata": {}
        }
      ]
    },
    {
      "cell_type": "markdown",
      "source": [
        "# Paper Implementation CARE-GNN"
      ],
      "metadata": {
        "id": "vgc_IXmrsMsi"
      }
    },
    {
      "cell_type": "code",
      "source": [
        "# =========================================================================\n",
        "# CARE-GNN Model Architecture Setup\n",
        "# =========================================================================\n",
        "# Purpose: Configure and initialize the complete CARE-GNN model architecture\n",
        "# This section builds the multi-relation graph neural network with adaptive\n",
        "# neighbor filtering for fraud detection on Amazon dataset\n",
        "# =========================================================================\n",
        "\n",
        "print(\"=== CARE-GNN Architecture ===\")\n",
        "\n",
        "# Core Architecture Parameters\n",
        "embed_dim = 64      # Output embedding dimension for node representations\n",
        "                    # - Controls model capacity and representation richness\n",
        "                    # - 64 dims balance expressiveness vs computational efficiency\n",
        "                    # - Sufficient for capturing fraud patterns in Amazon dataset\n",
        "\n",
        "# Reinforcement Learning Parameters\n",
        "step_size = 0.02    # RL action step size for adaptive threshold learning\n",
        "                    # - Controls how quickly thresholds adapt during training\n",
        "                    # - Smaller values = more stable but slower convergence\n",
        "                    # - 0.02 provides good balance for fraud detection tasks (from the repo.)\n",
        "\n",
        "# Loss Function Parameters\n",
        "lambda_1 = 2.0      # Weight for similarity loss in combined objective\n",
        "                    # - Balances GNN loss vs label-aware similarity loss\n",
        "                    # - lambda_1 > 1 emphasizes similarity learning (good for camouflaged fraud)\n",
        "                    # - Higher values help detect fraudsters who mimic legitimate behavior\n",
        "\n",
        "# Training Parameters\n",
        "batch_size = 256    # Number of nodes processed per training batch\n",
        "                    # - Balances memory usage vs gradient quality\n",
        "                    # - Larger batches = more stable gradients but higher memory\n",
        "                    # - 256 is optimal for most fraud detection datasets\n",
        "\n",
        "print(f\"Model Configuration:\")\n",
        "print(f\"- Embedding dimension: {embed_dim}\")\n",
        "print(f\"- RL step size: {step_size}\")\n",
        "print(f\"- Similarity loss weight: {lambda_1}\")\n",
        "print(f\"- Batch size: {batch_size}\")\n",
        "\n",
        "# Build CARE-GNN model , which follow the main githup repo https://github.com/YingtongDou/CARE-GNN\n",
        "intra1 = IntraAgg(features, feat_data.shape[1], cuda=False)\n",
        "intra2 = IntraAgg(features, feat_data.shape[1], cuda=False)\n",
        "intra3 = IntraAgg(features, feat_data.shape[1], cuda=False)\n",
        "\n",
        "inter = InterAgg(features, feat_data.shape[1], embed_dim, adj_lists,\n",
        "                 [intra1, intra2, intra3], inter='GNN', step_size=step_size, cuda=False)\n",
        "\n",
        "model = OneLayerCARE(num_classes=2, inter1=inter, lambda_1=lambda_1)\n",
        "\n",
        "print(f\"✅ CARE-GNN model built successfully!\")\n",
        "print(f\"Total parameters: {sum(p.numel() for p in model.parameters()):,}\")"
      ],
      "metadata": {
        "colab": {
          "base_uri": "https://localhost:8080/"
        },
        "id": "dg5kMTSJsSHw",
        "outputId": "93634a9e-d982-4224-c1ca-65f000def21e"
      },
      "execution_count": 17,
      "outputs": [
        {
          "output_type": "stream",
          "name": "stdout",
          "text": [
            "=== CARE-GNN Architecture ===\n",
            "Model Configuration:\n",
            "- Embedding dimension: 64\n",
            "- RL step size: 0.02\n",
            "- Similarity loss weight: 2.0\n",
            "- Batch size: 256\n",
            "✅ CARE-GNN model built successfully!\n",
            "Total parameters: 300,700\n"
          ]
        }
      ]
    },
    {
      "cell_type": "markdown",
      "source": [
        "# Proposed CARE-GNN-Plus"
      ],
      "metadata": {
        "id": "pMMXzKSIscPF"
      }
    },
    {
      "cell_type": "markdown",
      "source": [
        "### Inter Relation Aggregator using GNN\n",
        "\n"
      ],
      "metadata": {
        "id": "v8nnzr7eshFO"
      }
    },
    {
      "cell_type": "code",
      "source": [
        "class InterAgg_leaky(nn.Module):\n",
        "\n",
        "\tdef __init__(self, features, feature_dim,\n",
        "\t\t\t\t embed_dim, adj_lists, intraggs,\n",
        "\t\t\t\t inter='GNN', step_size=0.02, cuda=True):\n",
        "\t\t\"\"\"\n",
        "\t\tInitialize the inter-relation aggregator\n",
        "\t\t:param features: the input node features or embeddings for all nodes\n",
        "\t\t:param feature_dim: the input dimension\n",
        "\t\t:param embed_dim: the output dimension\n",
        "\t\t:param adj_lists: a list of adjacency lists for each single-relation graph\n",
        "\t\t:param intraggs: the intra-relation aggregators used by each single-relation graph\n",
        "\t\t:param inter: the aggregator type: 'Att', 'Weight', 'Mean', 'GNN'\n",
        "\t\t:param step_size: the RL action step size\n",
        "\t\t:param cuda: whether to use GPU\n",
        "\t\t\"\"\"\n",
        "\t\tsuper(InterAgg_leaky, self).__init__()\n",
        "\n",
        "\t\tself.features = features\n",
        "\t\tself.dropout = 0.6\n",
        "\t\tself.adj_lists = adj_lists\n",
        "\t\tself.intra_agg1 = intraggs[0]\n",
        "\t\tself.intra_agg2 = intraggs[1]\n",
        "\t\tself.intra_agg3 = intraggs[2]\n",
        "\t\tself.embed_dim = embed_dim\n",
        "\t\tself.feat_dim = feature_dim\n",
        "\t\tself.inter = inter\n",
        "\t\tself.step_size = step_size\n",
        "\t\tself.cuda = cuda\n",
        "\t\tself.intra_agg1.cuda = cuda\n",
        "\t\tself.intra_agg2.cuda = cuda\n",
        "\t\tself.intra_agg3.cuda = cuda\n",
        "\n",
        "\t\t# RL condition flag\n",
        "\t\tself.RL = True\n",
        "\n",
        "\t\t# number of batches for current epoch, assigned during training\n",
        "\t\tself.batch_num = 0\n",
        "\n",
        "\t\t# initial filtering thresholds\n",
        "\t\tself.thresholds = [0.5, 0.5, 0.5]\n",
        "\n",
        "\t\t# the activation function used by attention mechanism\n",
        "\t\tself.leakyrelu = nn.LeakyReLU(0.2)\n",
        "\n",
        "\t\t# parameter used to transform node embeddings before inter-relation aggregation\n",
        "\t\tself.weight = nn.Parameter(torch.FloatTensor(self.feat_dim, self.embed_dim))\n",
        "\t\tinit.xavier_uniform_(self.weight)\n",
        "\n",
        "\t\t# weight parameter for each relation used by CARE-Weight\n",
        "\t\tself.alpha = nn.Parameter(torch.FloatTensor(self.embed_dim, 3))\n",
        "\t\tinit.xavier_uniform_(self.alpha)\n",
        "\n",
        "\t\t# parameters used by attention layer\n",
        "\t\tself.a = nn.Parameter(torch.FloatTensor(2 * self.embed_dim, 1))\n",
        "\t\tinit.xavier_uniform_(self.a)\n",
        "\n",
        "\t\t# label predictor for similarity measure\n",
        "\t\tself.label_clf = nn.Linear(self.feat_dim, 2)\n",
        "\n",
        "\t\t# initialize the parameter logs\n",
        "\t\tself.weights_log = []\n",
        "\t\tself.thresholds_log = [self.thresholds]\n",
        "\t\tself.relation_score_log = []\n",
        "\n",
        "\tdef forward(self, nodes, labels, train_flag=True):\n",
        "\t\t\"\"\"\n",
        "\t\t:param nodes: a list of batch node ids\n",
        "\t\t:param labels: a list of batch node labels, only used by the RLModule\n",
        "\t\t:param train_flag: indicates whether in training or testing mode\n",
        "\t\t:return combined: the embeddings of a batch of input node features\n",
        "\t\t:return center_scores: the label-aware scores of batch nodes\n",
        "\t\t\"\"\"\n",
        "\n",
        "\t\t# extract 1-hop neighbor ids from adj lists of each single-relation graph\n",
        "\t\tto_neighs = []\n",
        "\t\tfor adj_list in self.adj_lists:\n",
        "\t\t\tto_neighs.append([set(adj_list[int(node)]) for node in nodes])\n",
        "\n",
        "\t\t# find unique nodes and their neighbors used in current batch\n",
        "\t\tunique_nodes = set.union(set.union(*to_neighs[0]), set.union(*to_neighs[1]),\n",
        "\t\t\t\t\t\t\t\t set.union(*to_neighs[2], set(nodes)))\n",
        "\n",
        "\t\t# calculate label-aware scores\n",
        "\t\tif self.cuda:\n",
        "\t\t\tbatch_features = self.features(torch.cuda.LongTensor(list(unique_nodes)))\n",
        "\t\telse:\n",
        "\t\t\tbatch_features = self.features(torch.LongTensor(list(unique_nodes)))\n",
        "\t\tbatch_scores = self.label_clf(batch_features)\n",
        "\t\tid_mapping = {node_id: index for node_id, index in zip(unique_nodes, range(len(unique_nodes)))}\n",
        "\n",
        "\t\t# the label-aware scores for current batch of nodes\n",
        "\t\tcenter_scores = batch_scores[itemgetter(*nodes)(id_mapping), :]\n",
        "\n",
        "\t\t# get neighbor node id list for each batch node and relation\n",
        "\t\tr1_list = [list(to_neigh) for to_neigh in to_neighs[0]]\n",
        "\t\tr2_list = [list(to_neigh) for to_neigh in to_neighs[1]]\n",
        "\t\tr3_list = [list(to_neigh) for to_neigh in to_neighs[2]]\n",
        "\n",
        "\t\t# assign label-aware scores to neighbor nodes for each batch node and relation\n",
        "\t\tr1_scores = [batch_scores[itemgetter(*to_neigh)(id_mapping), :].view(-1, 2) for to_neigh in r1_list]\n",
        "\t\tr2_scores = [batch_scores[itemgetter(*to_neigh)(id_mapping), :].view(-1, 2) for to_neigh in r2_list]\n",
        "\t\tr3_scores = [batch_scores[itemgetter(*to_neigh)(id_mapping), :].view(-1, 2) for to_neigh in r3_list]\n",
        "\n",
        "\t\t# count the number of neighbors kept for aggregation for each batch node and relation\n",
        "\t\tr1_sample_num_list = [math.ceil(len(neighs) * self.thresholds[0]) for neighs in r1_list]\n",
        "\t\tr2_sample_num_list = [math.ceil(len(neighs) * self.thresholds[1]) for neighs in r2_list]\n",
        "\t\tr3_sample_num_list = [math.ceil(len(neighs) * self.thresholds[2]) for neighs in r3_list]\n",
        "\n",
        "\t\t# intra-aggregation steps for each relation\n",
        "\t\t# Eq. (8) in the paper\n",
        "\t\tr1_feats, r1_scores = self.intra_agg1.forward(nodes, r1_list, center_scores, r1_scores, r1_sample_num_list)\n",
        "\t\tr2_feats, r2_scores = self.intra_agg2.forward(nodes, r2_list, center_scores, r2_scores, r2_sample_num_list)\n",
        "\t\tr3_feats, r3_scores = self.intra_agg3.forward(nodes, r3_list, center_scores, r3_scores, r3_sample_num_list)\n",
        "\n",
        "\t\t# concat the intra-aggregated embeddings from each relation\n",
        "\t\tneigh_feats = torch.cat((r1_feats, r2_feats, r3_feats), dim=0)\n",
        "\n",
        "\t\t# get features or embeddings for batch nodes\n",
        "\t\tif self.cuda and isinstance(nodes, list):\n",
        "\t\t\tindex = torch.LongTensor(nodes).cuda()\n",
        "\t\telse:\n",
        "\t\t\tindex = torch.LongTensor(nodes)\n",
        "\t\tself_feats = self.features(index)\n",
        "\n",
        "\t\t# number of nodes in a batch\n",
        "\t\tn = len(nodes)\n",
        "\n",
        "\t\t# inter-relation aggregation steps\n",
        "\t\t# Eq. (9) in the paper\n",
        "\t\t# if self.inter == 'Att':\n",
        "\t\t# \t# 1) CARE-Att Inter-relation Aggregator\n",
        "\t\t# \tcombined, attention = att_inter_agg(len(self.adj_lists), self.leakyrelu, self_feats, neigh_feats, self.embed_dim,\n",
        "\t\t# \t\t\t\t\t\t\t\t\t\tself.weight, self.a, n, self.dropout, self.training, self.cuda)\n",
        "\t\t# elif self.inter == 'Weight':\n",
        "\t\t# \t# 2) CARE-Weight Inter-relation Aggregator\n",
        "\t\t# \tcombined = weight_inter_agg(len(self.adj_lists), self_feats, neigh_feats, self.embed_dim, self.weight, self.alpha, n, self.cuda)\n",
        "\t\t# \tgem_weights = F.softmax(torch.sum(self.alpha, dim=0), dim=0).tolist()\n",
        "\t\t# \tif train_flag:\n",
        "\t\t# \t\tprint(f'Weights: {gem_weights}')\n",
        "\t\t# elif self.inter == 'Mean':\n",
        "\t\t# \t# 3) CARE-Mean Inter-relation Aggregator\n",
        "\t\t# \tcombined = mean_inter_agg(len(self.adj_lists), self_feats, neigh_feats, self.embed_dim, self.weight, n, self.cuda)\n",
        "\t\tif self.inter == 'GNN':\n",
        "\t\t\t# 4) CARE-GNN Inter-relation Aggregator\n",
        "\t\t\tcombined = threshold_inter_agg(len(self.adj_lists), self_feats, neigh_feats, self.embed_dim, self.weight, self.thresholds, n, self.cuda)\n",
        "\n",
        "\t\t# the reinforcement learning module\n",
        "\t\tif self.RL and train_flag:\n",
        "\t\t\trelation_scores, rewards, thresholds, stop_flag = RLModule([r1_scores, r2_scores, r3_scores],\n",
        "\t\t\t\t\t\t\t\t\t\t\t\t\t\t\t\t\t   self.relation_score_log, labels, self.thresholds,\n",
        "\t\t\t\t\t\t\t\t\t\t\t\t\t\t\t\t\t   self.batch_num, self.step_size)\n",
        "\t\t\tself.thresholds = thresholds\n",
        "\t\t\tself.RL = stop_flag\n",
        "\t\t\tself.relation_score_log.append(relation_scores)\n",
        "\t\t\tself.thresholds_log.append(self.thresholds)\n",
        "\n",
        "\t\treturn combined, center_scores"
      ],
      "metadata": {
        "id": "9Ns0rYMsseEU"
      },
      "execution_count": 18,
      "outputs": []
    },
    {
      "cell_type": "markdown",
      "source": [
        "### Instra Relation Aggregator with LeakyReLU (Proposed)\n",
        "\n"
      ],
      "metadata": {
        "id": "bQ7lHU80sne3"
      }
    },
    {
      "cell_type": "code",
      "source": [
        "class IntraAgg_leaky(nn.Module):\n",
        "\n",
        "\tdef __init__(self, features, feat_dim, cuda=False):\n",
        "\t\t\"\"\"\n",
        "\t\tInitialize the intra-relation aggregator\n",
        "\t\t:param features: the input node features or embeddings for all nodes\n",
        "\t\t:param feat_dim: the input dimension\n",
        "\t\t:param cuda: whether to use GPU\n",
        "\t\t\"\"\"\n",
        "\t\tsuper(IntraAgg_leaky, self).__init__()\n",
        "\n",
        "\t\tself.features = features\n",
        "\t\tself.cuda = cuda\n",
        "\t\tself.feat_dim = feat_dim\n",
        "\n",
        "\tdef forward(self, nodes, to_neighs_list, batch_scores, neigh_scores, sample_list):\n",
        "\t\t\"\"\"\n",
        "\t\tCode partially from https://github.com/williamleif/graphsage-simple/\n",
        "\t\t:param nodes: list of nodes in a batch\n",
        "\t\t:param to_neighs_list: neighbor node id list for each batch node in one relation\n",
        "\t\t:param batch_scores: the label-aware scores of batch nodes\n",
        "\t\t:param neigh_scores: the label-aware scores 1-hop neighbors each batch node in one relation\n",
        "\t\t:param sample_list: the number of neighbors kept for each batch node in one relation\n",
        "\t\t:return to_feats: the aggregated embeddings of batch nodes neighbors in one relation\n",
        "\t\t:return samp_scores: the average neighbor distances for each relation after filtering\n",
        "\t\t\"\"\"\n",
        "\n",
        "\t\t# filer neighbors under given relation\n",
        "\t\tsamp_neighs, samp_scores = filter_neighs_ada_threshold(batch_scores, neigh_scores, to_neighs_list, sample_list)\n",
        "\n",
        "\t\t# find the unique nodes among batch nodes and the filtered neighbors\n",
        "\t\tunique_nodes_list = list(set.union(*samp_neighs))\n",
        "\t\tunique_nodes = {n: i for i, n in enumerate(unique_nodes_list)}\n",
        "\n",
        "\t\t# intra-relation aggregation only with sampled neighbors\n",
        "\t\tmask = Variable(torch.zeros(len(samp_neighs), len(unique_nodes)))\n",
        "\t\tcolumn_indices = [unique_nodes[n] for samp_neigh in samp_neighs for n in samp_neigh]\n",
        "\t\trow_indices = [i for i in range(len(samp_neighs)) for _ in range(len(samp_neighs[i]))]\n",
        "\t\tmask[row_indices, column_indices] = 1\n",
        "\t\tif self.cuda:\n",
        "\t\t\tmask = mask.cuda()\n",
        "\t\tnum_neigh = mask.sum(1, keepdim=True)\n",
        "\t\tmask = mask.div(num_neigh)\n",
        "\t\tif self.cuda:\n",
        "\t\t\tembed_matrix = self.features(torch.LongTensor(unique_nodes_list).cuda())\n",
        "\t\telse:\n",
        "\t\t\tembed_matrix = self.features(torch.LongTensor(unique_nodes_list))\n",
        "\t\tto_feats = mask.mm(embed_matrix)\n",
        "\t\t# to_feats = F.relu(to_feats)\n",
        "\t\tto_feats = nn.LeakyReLU(0.2)(to_feats) # Proposed Leakly Relu Activtion eqn 8\n",
        "\t\treturn to_feats, samp_scores\n"
      ],
      "metadata": {
        "id": "cXeKlo3_so1c"
      },
      "execution_count": 19,
      "outputs": []
    },
    {
      "cell_type": "markdown",
      "source": [
        "### Reinforcement Learning Module"
      ],
      "metadata": {
        "id": "EkkxmM9HsvIu"
      }
    },
    {
      "cell_type": "code",
      "source": [
        "def RLModule(scores, scores_log, labels, thresholds, batch_num, step_size):\n",
        "\t\"\"\"\n",
        "\tThe reinforcement learning module.\n",
        "\tIt updates the neighbor filtering threshold for each relation based\n",
        "\ton the average neighbor distances between two consecutive epochs.\n",
        "\t:param scores: the neighbor nodes label-aware scores for each relation\n",
        "\t:param scores_log: a list stores the relation average distances for each batch\n",
        "\t:param labels: the batch node labels used to select positive nodes\n",
        "\t:param thresholds: the current neighbor filtering thresholds for each relation\n",
        "\t:param batch_num: numbers batches in an epoch\n",
        "\t:param step_size: the RL action step size\n",
        "\t:return relation_scores: the relation average distances for current batch\n",
        "\t:return rewards: the reward for given thresholds in current epoch\n",
        "\t:return new_thresholds: the new filtering thresholds updated according to the rewards\n",
        "\t:return stop_flag: the RL terminal condition flag\n",
        "\t\"\"\"\n",
        "\n",
        "\trelation_scores = []\n",
        "\tstop_flag = True\n",
        "\n",
        "\t# only compute the average neighbor distances for positive nodes\n",
        "\tpos_index = (labels == 1).nonzero().tolist()\n",
        "\tpos_index = [i[0] for i in pos_index]\n",
        "\n",
        "\t# compute average neighbor distances for each relation\n",
        "\tfor score in scores:\n",
        "\t\tpos_scores = itemgetter(*pos_index)(score)\n",
        "\t\tneigh_count = sum([1 if isinstance(i, float) else len(i) for i in pos_scores])\n",
        "\t\tpos_sum = [i if isinstance(i, float) else sum(i) for i in pos_scores]\n",
        "\t\trelation_scores.append(sum(pos_sum) / neigh_count)\n",
        "\n",
        "\tif len(scores_log) % batch_num != 0 or len(scores_log) < 2 * batch_num:\n",
        "\t\t# do not call RL module within the epoch or within the first two epochs\n",
        "\t\trewards = [0, 0, 0]\n",
        "\t\tnew_thresholds = thresholds\n",
        "\telse:\n",
        "\t\t# update thresholds according to average scores in last epoch\n",
        "\t\t# Eq.(5) in the paper\n",
        "\t\tprevious_epoch_scores = [sum(s) / batch_num for s in zip(*scores_log[-2 * batch_num:-batch_num])]\n",
        "\t\tcurrent_epoch_scores = [sum(s) / batch_num for s in zip(*scores_log[-batch_num:])]\n",
        "\n",
        "\t\t# compute reward for each relation and update the thresholds according to reward\n",
        "\t\t# Eq. (6) in the paper\n",
        "\t\trewards = [1 if previous_epoch_scores[i] - s >= 0 else -1 for i, s in enumerate(current_epoch_scores)]\n",
        "\t\tnew_thresholds = [thresholds[i] + step_size if r == 1 else thresholds[i] - step_size for i, r in enumerate(rewards)]\n",
        "\n",
        "\t\t# avoid overflow\n",
        "\t\tnew_thresholds = [0.999 if i > 1 else i for i in new_thresholds]\n",
        "\t\tnew_thresholds = [0.001 if i < 0 else i for i in new_thresholds]\n",
        "\n",
        "\t\tprint(f'epoch scores: {current_epoch_scores}')\n",
        "\t\tprint(f'rewards: {rewards}')\n",
        "\t\tprint(f'thresholds: {new_thresholds}')\n",
        "\n",
        "\treturn relation_scores, rewards, new_thresholds, stop_flag"
      ],
      "metadata": {
        "id": "re-f0bPGsrfh"
      },
      "execution_count": 20,
      "outputs": []
    },
    {
      "cell_type": "code",
      "source": [],
      "metadata": {
        "id": "3vANLVtOsw5j"
      },
      "execution_count": null,
      "outputs": []
    },
    {
      "cell_type": "markdown",
      "source": [
        "### Filter neighbors from label predictor"
      ],
      "metadata": {
        "id": "YZz5ExDfsy9h"
      }
    },
    {
      "cell_type": "code",
      "source": [
        "def filter_neighs_ada_threshold(center_scores, neigh_scores, neighs_list, sample_list):\n",
        "\t\"\"\"\n",
        "\tFilter neighbors according label predictor result with adaptive thresholds\n",
        "\t:param center_scores: the label-aware scores of batch nodes\n",
        "\t:param neigh_scores: the label-aware scores 1-hop neighbors each batch node in one relation\n",
        "\t:param neighs_list: neighbor node id list for each batch node in one relation\n",
        "\t:param sample_list: the number of neighbors kept for each batch node in one relation\n",
        "\t:return samp_neighs: the neighbor indices and neighbor simi scores\n",
        "\t:return samp_scores: the average neighbor distances for each relation after filtering\n",
        "\t\"\"\"\n",
        "\n",
        "\tsamp_neighs = []\n",
        "\tsamp_scores = []\n",
        "\tfor idx, center_score in enumerate(center_scores):\n",
        "\t\tcenter_score = center_scores[idx][0]\n",
        "\t\tneigh_score = neigh_scores[idx][:, 0].view(-1, 1)\n",
        "\t\tcenter_score = center_score.repeat(neigh_score.size()[0], 1)\n",
        "\t\tneighs_indices = neighs_list[idx]\n",
        "\t\tnum_sample = sample_list[idx]\n",
        "\n",
        "\t\t# compute the L1-distance of batch nodes and their neighbors\n",
        "\t\t# Eq. (2) in paper\n",
        "\t\tscore_diff = torch.abs(center_score - neigh_score).squeeze()\n",
        "\t\tsorted_scores, sorted_indices = torch.sort(score_diff, dim=0, descending=False)\n",
        "\t\tselected_indices = sorted_indices.tolist()\n",
        "\n",
        "\t\t# top-p sampling according to distance ranking and thresholds\n",
        "\t\t# Section 3.3.1 in paper\n",
        "\t\tif len(neigh_scores[idx]) > num_sample + 1:\n",
        "\t\t\tselected_neighs = [neighs_indices[n] for n in selected_indices[:num_sample]]\n",
        "\t\t\tselected_scores = sorted_scores.tolist()[:num_sample]\n",
        "\t\telse:\n",
        "\t\t\tselected_neighs = neighs_indices\n",
        "\t\t\tselected_scores = score_diff.tolist()\n",
        "\t\t\tif isinstance(selected_scores, float):\n",
        "\t\t\t\tselected_scores = [selected_scores]\n",
        "\n",
        "\t\tsamp_neighs.append(set(selected_neighs))\n",
        "\t\tsamp_scores.append(selected_scores)\n",
        "\n",
        "\treturn samp_neighs, samp_scores"
      ],
      "metadata": {
        "id": "ctJRnJBiszWl"
      },
      "execution_count": 21,
      "outputs": []
    },
    {
      "cell_type": "markdown",
      "source": [
        "### CARE-GNN-Plus inter-relation aggregator using LeakyReLU (Proposed)"
      ],
      "metadata": {
        "id": "oCJPxrOZs2_k"
      }
    },
    {
      "cell_type": "code",
      "source": [
        "def threshold_inter_agg(num_relations, self_feats, neigh_feats, embed_dim, weight, threshold, n, cuda):\n",
        "\t\"\"\"\n",
        "\tCARE-GNN inter-relation aggregator\n",
        "\tEq. (9) in the paper use Leaky Relu instread of Relu\n",
        "\t:param num_relations: number of relations in the graph\n",
        "\t:param self_feats: batch nodes features or embeddings\n",
        "\t:param neigh_feats: intra-relation aggregated neighbor embeddings for each relation\n",
        "\t:param embed_dim: the dimension of output embedding\n",
        "\t:param weight: parameter used to transform node embeddings before inter-relation aggregation\n",
        "\t:param threshold: the neighbor filtering thresholds used as aggregating weights\n",
        "\t:param n: number of nodes in a batch\n",
        "\t:param cuda: whether use GPU\n",
        "\t:return: inter-relation aggregated node embeddings\n",
        "\t\"\"\"\n",
        "\n",
        "\t# transform batch node embedding and neighbor embedding in each relation with weight parameter\n",
        "\tcenter_h = torch.mm(self_feats, weight)\n",
        "\tneigh_h = torch.mm(neigh_feats, weight)\n",
        "\n",
        "\t# initialize the final neighbor embedding\n",
        "\tif cuda:\n",
        "\t\taggregated = torch.zeros(size=(n, embed_dim)).cuda()\n",
        "\telse:\n",
        "\t\taggregated = torch.zeros(size=(n, embed_dim))\n",
        "\n",
        "\t# add weighted neighbor embeddings in each relation together\n",
        "\tfor r in range(num_relations):\n",
        "\t\taggregated += neigh_h[r * n:(r + 1) * n, :] * threshold[r]\n",
        "\n",
        "\t# sum aggregated neighbor embedding and batch node embedding\n",
        "\t# feed them to activation function\n",
        "\t# combined = F.relu(center_h + aggregated)\n",
        "\tcombined = nn.LeakyReLU(0.2)(center_h + aggregated) # Proposed Leakly Relu Activtion eqn 9\n",
        "\n",
        "\treturn combined"
      ],
      "metadata": {
        "id": "SbRodOqKs0YN"
      },
      "execution_count": 22,
      "outputs": []
    },
    {
      "cell_type": "markdown",
      "source": [
        "## CARE-GNN-Plus Model Architecture"
      ],
      "metadata": {
        "id": "dUOYlzCXs_5Y"
      }
    },
    {
      "cell_type": "code",
      "source": [
        "class MultiLayerCARE_Leaky(nn.Module):\n",
        "    \"\"\"\n",
        "    Multi-Layer CARE-GNN- with additional transform layers and residual connections between embeddings\n",
        "    \"\"\"\n",
        "    def __init__(self, num_classes, features, feat_dim, embed_dim, adj_lists,\n",
        "                 num_layers=2, lambda_1=2.0, step_size=0.02, cuda=False):\n",
        "        super(MultiLayerCARE_Leaky, self).__init__()\n",
        "\n",
        "        self.num_layers = num_layers\n",
        "        self.lambda_1 = lambda_1\n",
        "        self.xent = nn.CrossEntropyLoss()\n",
        "\n",
        "        # Core CARE-GNN components\n",
        "        intra1 = IntraAgg_leaky(features, feat_dim, cuda=cuda)\n",
        "        intra2 = IntraAgg_leaky(features, feat_dim, cuda=cuda)\n",
        "        intra3 = IntraAgg_leaky(features, feat_dim, cuda=cuda)\n",
        "\n",
        "        self.inter1 = InterAgg_leaky(features, feat_dim, embed_dim, adj_lists,\n",
        "                              [intra1, intra2, intra3],\n",
        "                              inter='GNN', step_size=step_size, cuda=cuda)\n",
        "\n",
        "        # Disable RL to prevent modulo by zero error\n",
        "        self.inter1.RL = False\n",
        "\n",
        "        ##### NOVELTY PROPOSED #####\n",
        "        # Novelty: Add additional transformation layers\n",
        "\n",
        "        self.transforms = nn.ModuleList()\n",
        "        for i in range(num_layers - 1):\n",
        "            self.transforms.append(nn.Linear(embed_dim, embed_dim))\n",
        "        #############################\n",
        "        # Final classifier\n",
        "        self.weight = nn.Parameter(torch.FloatTensor(embed_dim, num_classes))\n",
        "        init.xavier_uniform_(self.weight)\n",
        "\n",
        "    def forward(self, nodes, labels, train_flag=True):\n",
        "        # First layer (CARE-GNN without RL issues)\n",
        "        embeddings, label_scores = self.inter1(nodes, labels, train_flag)\n",
        "\n",
        "        # NOVELTY: Apply additional transformations\n",
        "        #applies a sequence of linear layers with ReLU, followed by residual connections (like in ResNet):\n",
        "        prev_embeddings = embeddings\n",
        "        for i, transform in enumerate(self.transforms):\n",
        "            embeddings = F.relu(transform(embeddings))\n",
        "            # ALSOAdd residual connection for deeper layers\n",
        "            if i > 0:\n",
        "                embeddings = embeddings + prev_embeddings\n",
        "            prev_embeddings = embeddings\n",
        "        ##################################################\n",
        "        # Final prediction\n",
        "        scores = torch.mm(embeddings, self.weight)\n",
        "        return scores, label_scores\n",
        "\n",
        "    def to_prob(self, nodes, labels, train_flag=True):\n",
        "        gnn_scores, label_scores = self.forward(nodes, labels, train_flag)\n",
        "        gnn_prob = nn.functional.softmax(gnn_scores, dim=1)\n",
        "        label_prob = nn.functional.softmax(label_scores, dim=1)\n",
        "        return gnn_prob, label_prob\n",
        "\n",
        "    def loss(self, nodes, labels, train_flag=True):\n",
        "        gnn_scores, label_scores = self.forward(nodes, labels, train_flag)\n",
        "\n",
        "        # GNN loss\n",
        "        gnn_loss = self.xent(gnn_scores, labels.squeeze())\n",
        "\n",
        "        # Similarity loss (same as baseline)\n",
        "        label_loss = self.xent(label_scores, labels.squeeze())\n",
        "\n",
        "        # Combined loss\n",
        "        final_loss = gnn_loss + self.lambda_1 * label_loss\n",
        "        return final_loss\n"
      ],
      "metadata": {
        "id": "ROxIuUVts4v7"
      },
      "execution_count": 23,
      "outputs": []
    },
    {
      "cell_type": "markdown",
      "source": [
        "# Experiment"
      ],
      "metadata": {
        "id": "SZk_mQ7NtN7D"
      }
    },
    {
      "cell_type": "markdown",
      "source": [
        "### CARE-GNN Base Model ( paper)"
      ],
      "metadata": {
        "id": "8aD-aqsDtpZH"
      }
    },
    {
      "cell_type": "code",
      "source": [
        "# =========================================================================\n",
        "# CARE-GNN Model Architecture Setup\n",
        "# =========================================================================\n",
        "# Purpose: Configure and initialize the complete CARE-GNN model architecture\n",
        "# This section builds the multi-relation graph neural network with adaptive\n",
        "# neighbor filtering for fraud detection on Amazon dataset\n",
        "# =========================================================================\n",
        "\n",
        "print(\"=== CARE-GNN Architecture ===\")\n",
        "\n",
        "# Core Architecture Parameters\n",
        "embed_dim = 64      # Output embedding dimension for node representations\n",
        "                    # - Controls model capacity and representation richness\n",
        "                    # - 64 dims balance expressiveness vs computational efficiency\n",
        "                    # - Sufficient for capturing fraud patterns in Amazon dataset\n",
        "\n",
        "# Reinforcement Learning Parameters\n",
        "step_size = 0.02    # RL action step size for adaptive threshold learning\n",
        "                    # - Controls how quickly thresholds adapt during training\n",
        "                    # - Smaller values = more stable but slower convergence\n",
        "                    # - 0.02 provides good balance for fraud detection tasks (from the repo.)\n",
        "\n",
        "# Loss Function Parameters\n",
        "lambda_1 = 2.0      # Weight for similarity loss in combined objective\n",
        "                    # - Balances GNN loss vs label-aware similarity loss\n",
        "                    # - lambda_1 > 1 emphasizes similarity learning (good for camouflaged fraud)\n",
        "                    # - Higher values help detect fraudsters who mimic legitimate behavior\n",
        "\n",
        "# Training Parameters\n",
        "batch_size = 256    # Number of nodes processed per training batch\n",
        "                    # - Balances memory usage vs gradient quality\n",
        "                    # - Larger batches = more stable gradients but higher memory\n",
        "                    # - 256 is optimal for most fraud detection datasets\n",
        "\n",
        "print(f\"Model Configuration:\")\n",
        "print(f\"- Embedding dimension: {embed_dim}\")\n",
        "print(f\"- RL step size: {step_size}\")\n",
        "print(f\"- Similarity loss weight: {lambda_1}\")\n",
        "print(f\"- Batch size: {batch_size}\")\n",
        "\n",
        "# Build CARE-GNN model , which follow the main githup repo https://github.com/YingtongDou/CARE-GNN\n",
        "intra1 = IntraAgg(features, feat_data.shape[1], cuda=False)\n",
        "intra2 = IntraAgg(features, feat_data.shape[1], cuda=False)\n",
        "intra3 = IntraAgg(features, feat_data.shape[1], cuda=False)\n",
        "\n",
        "inter = InterAgg(features, feat_data.shape[1], embed_dim, adj_lists,\n",
        "                 [intra1, intra2, intra3], inter='GNN', step_size=step_size, cuda=False)\n",
        "\n",
        "model = OneLayerCARE(num_classes=2, inter1=inter, lambda_1=lambda_1)\n",
        "\n",
        "print(f\"✅ CARE-GNN model built successfully!\")\n",
        "print(f\"Total parameters: {sum(p.numel() for p in model.parameters()):,}\")"
      ],
      "metadata": {
        "colab": {
          "base_uri": "https://localhost:8080/"
        },
        "id": "SvoTdqVrtUn8",
        "outputId": "699dbc22-75cd-498b-dbcb-7ce2d6888944"
      },
      "execution_count": 25,
      "outputs": [
        {
          "output_type": "stream",
          "name": "stdout",
          "text": [
            "=== CARE-GNN Architecture ===\n",
            "Model Configuration:\n",
            "- Embedding dimension: 64\n",
            "- RL step size: 0.02\n",
            "- Similarity loss weight: 2.0\n",
            "- Batch size: 256\n",
            "✅ CARE-GNN model built successfully!\n",
            "Total parameters: 300,700\n"
          ]
        }
      ]
    },
    {
      "cell_type": "markdown",
      "source": [
        "### Proposed Multi-Layer CARE-GNN-Plus with LeakyReLU and residual connections between embedding layers"
      ],
      "metadata": {
        "id": "RxkFfvgQt-hM"
      }
    },
    {
      "cell_type": "code",
      "source": [
        "# 2 layer or neural network\n",
        "model2_leaky = MultiLayerCARE_Leaky(\n",
        "    num_classes=2,\n",
        "    features=features,\n",
        "    feat_dim=feat_data.shape[1],\n",
        "    embed_dim=embed_dim,\n",
        "    adj_lists=adj_lists,\n",
        "    num_layers=2,\n",
        "    lambda_1=lambda_1,\n",
        "    step_size=step_size,\n",
        "    cuda=False\n",
        ")"
      ],
      "metadata": {
        "id": "7VVbPV80tre3"
      },
      "execution_count": 26,
      "outputs": []
    },
    {
      "cell_type": "code",
      "source": [
        "print(type(model2_leaky))"
      ],
      "metadata": {
        "colab": {
          "base_uri": "https://localhost:8080/"
        },
        "id": "NGb9F-W8uLIR",
        "outputId": "f30c1e46-ed16-4640-fd67-8a6671cc6a25"
      },
      "execution_count": 27,
      "outputs": [
        {
          "output_type": "stream",
          "name": "stdout",
          "text": [
            "<class '__main__.MultiLayerCARE_Leaky'>\n"
          ]
        }
      ]
    },
    {
      "cell_type": "code",
      "source": [
        "# 3 layers of neural network\n",
        "model3_leaky = MultiLayerCARE_Leaky(\n",
        "    num_classes=2,\n",
        "    features=features,\n",
        "    feat_dim=feat_data.shape[1],\n",
        "    embed_dim=embed_dim,\n",
        "    adj_lists=adj_lists,\n",
        "    num_layers=3, # 3 layers\n",
        "    lambda_1=lambda_1,\n",
        "    step_size=step_size,\n",
        "    cuda=False\n",
        ")"
      ],
      "metadata": {
        "id": "mNdAQesTuMlq"
      },
      "execution_count": 28,
      "outputs": []
    },
    {
      "cell_type": "markdown",
      "source": [
        "### Ultils Functions for training and evaluation"
      ],
      "metadata": {
        "id": "Pp_4T1n5ubPw"
      }
    },
    {
      "cell_type": "code",
      "source": [
        "def train_care_model(model, model_name, train_pos, train_neg, labels,\n",
        "                      learning_rate=0.01, weight_decay=1e-3, momentum=0.9, num_epochs=15,\n",
        "                      batch_size=256, scale=1, verbose=True, plot_loss=True):\n",
        "    \"\"\"\n",
        "    General training function for CARE-GNN models (including multi-layer variants)\n",
        "\n",
        "    Args:\n",
        "        model: The CARE model to train (model2_leaky, model3_leaky, etc.)\n",
        "        model_name: String name for the model (for logging and plotting)\n",
        "        train_pos: List of positive training sample indices\n",
        "        train_neg: List of negative training sample indices\n",
        "        labels: Array of all node labels\n",
        "        learning_rate: Learning rate for SGD optimizer\n",
        "        weight_decay: Weight decay for SGD optimizer\n",
        "        momentum: Momentum for SGD optimizer\n",
        "        num_epochs: Number of training epochs\n",
        "        batch_size: Batch size for training\n",
        "        scale: Scale factor for undersampling (1 means balanced)\n",
        "        verbose: Whether to print training progress\n",
        "        plot_loss: Whether to plot training loss curve\n",
        "\n",
        "    Returns:\n",
        "        train_losses: List of training losses per epoch\n",
        "        trained_model: The trained model\n",
        "    \"\"\"\n",
        "\n",
        "    if verbose:\n",
        "        print(f\"=== Training {model_name} ===\")\n",
        "\n",
        "    # Setup SGD optimizer\n",
        "    optimizer = torch.optim.SGD(model.parameters(), lr=learning_rate,\n",
        "                               weight_decay=weight_decay, momentum=momentum)\n",
        "\n",
        "    # Track losses\n",
        "    train_losses = []\n",
        "\n",
        "    # Training loop\n",
        "    for epoch in range(num_epochs):\n",
        "        model.train()\n",
        "\n",
        "        # Undersample negative samples for balanced training\n",
        "        sampled_idx_train = undersample(train_pos, train_neg, scale=scale)\n",
        "        random.shuffle(sampled_idx_train)\n",
        "\n",
        "        # Calculate number of batches\n",
        "        num_batches = (len(sampled_idx_train) + batch_size - 1) // batch_size\n",
        "\n",
        "        # Set batch number for RL module (if model has inter1 with RL)\n",
        "        if hasattr(model, 'inter1') and hasattr(model.inter1, 'batch_num'):\n",
        "            model.inter1.batch_num = num_batches\n",
        "\n",
        "        epoch_loss = 0.0\n",
        "\n",
        "        # Batch training\n",
        "        for batch_idx in range(num_batches):\n",
        "            start_idx = batch_idx * batch_size\n",
        "            end_idx = min((batch_idx + 1) * batch_size, len(sampled_idx_train))\n",
        "            batch_nodes = sampled_idx_train[start_idx:end_idx]\n",
        "            batch_labels = torch.LongTensor(labels[batch_nodes])\n",
        "\n",
        "            optimizer.zero_grad()\n",
        "\n",
        "            # Forward pass\n",
        "            loss = model.loss(batch_nodes, batch_labels, train_flag=True)\n",
        "\n",
        "            # Backward pass\n",
        "            loss.backward()\n",
        "            optimizer.step()\n",
        "\n",
        "            epoch_loss += loss.item()\n",
        "\n",
        "        # Calculate average loss for epoch\n",
        "        avg_loss = epoch_loss / num_batches\n",
        "        train_losses.append(avg_loss)\n",
        "\n",
        "        # Print progress\n",
        "        if verbose and epoch % 3 == 0:\n",
        "            print(f\"Epoch {epoch:2d}: Loss = {avg_loss:.4f}\")\n",
        "\n",
        "    if verbose:\n",
        "        print(f\"✅ {model_name} training completed!\")\n",
        "\n",
        "    # Plot training loss\n",
        "    if plot_loss:\n",
        "        plt.figure(figsize=(8, 4))\n",
        "        plt.plot(train_losses, label=model_name)\n",
        "        plt.title(f'{model_name} Training Loss')\n",
        "        plt.xlabel('Epoch')\n",
        "        plt.ylabel('Loss')\n",
        "        plt.legend()\n",
        "        plt.grid(True)\n",
        "        plt.show()\n",
        "\n",
        "    return train_losses, model"
      ],
      "metadata": {
        "id": "QdGKqJ7xuRCP"
      },
      "execution_count": 29,
      "outputs": []
    },
    {
      "cell_type": "markdown",
      "source": [
        "# Train Model"
      ],
      "metadata": {
        "id": "1FahsCEMukFX"
      }
    },
    {
      "cell_type": "markdown",
      "source": [
        "## CARE-GNN Original Paper with Adam Optimizer\n"
      ],
      "metadata": {
        "id": "4txumyILun1_"
      }
    },
    {
      "cell_type": "code",
      "source": [
        "# =========================================================================\n",
        "# Training Configuration and Data Preparation\n",
        "# =========================================================================\n",
        "# Purpose: Set up training/testing data splits and configure optimization\n",
        "# This section handles the unique characteristics of fraud detection datasets:\n",
        "# - Class imbalance (few fraudulent vs many benign users)\n",
        "# - Semi-supervised setting (unlabeled nodes in graph)\n",
        "# - Stratified sampling to maintain fraud ratio across splits\n",
        "# =========================================================================\n",
        "\n",
        "\n",
        "## Training Setup\n",
        "\n",
        "print(\"=== Training Configuration ===\")\n",
        "\n",
        "# =========================================================================\n",
        "# Amazon Dataset Split Strategy\n",
        "# =========================================================================\n",
        "# Amazon fraud detection dataset has a unique structure:\n",
        "# - First 3305 nodes are UNLABELED (used for inductive learning)\n",
        "# - Remaining nodes have ground truth labels for training/testing\n",
        "# This semi-supervised setup reflects real-world fraud detection scenarios\n",
        "\n",
        "# Extract labeled portion of the dataset\n",
        "# Skip first 3305 unlabeled nodes and work with labeled subset\n",
        "\n",
        "labeled_indices = list(range(3305, len(labels)))\n",
        "labeled_labels = labels[3305:]\n",
        "\n",
        "# =========================================================================\n",
        "# Stratified Train/Test Split\n",
        "# =========================================================================\n",
        "# Use stratified sampling to maintain fraud ratio in both splits\n",
        "# Critical for fraud detection where class imbalance is severe\n",
        "idx_train, idx_test, y_train, y_test = train_test_split(\n",
        "    labeled_indices, labeled_labels,\n",
        "    stratify=labeled_labels,\n",
        "    test_size=0.6,  # 60% for testing, 40% for training\n",
        "    random_state=42\n",
        ")\n",
        "\n",
        "# Split rationale for fraud detection:\n",
        "# - test_size=0.6: Following standard fraud detection evaluation protocol\n",
        "# - 40% training / 60% testing split is common in fraud detection literature\n",
        "# - Large test set ensures robust evaluation on imbalanced fraud data\n",
        "# - Stratify preserves fraud/benign ratio in both train/test splits\n",
        "# - This split ratio aligns with CARE-GNN experimental setup\n",
        "\n",
        "print(f\"Training samples: {len(idx_train)}\")\n",
        "print(f\"Test samples: {len(idx_test)}\")\n",
        "\n",
        "# Split positive and negative samples for undersampling\n",
        "train_pos, train_neg = pos_neg_split(idx_train, y_train)\n",
        "print(f\"Training - Positive: {len(train_pos)}, Negative: {len(train_neg)}\")\n",
        "\n",
        "# Training setup from the article\n",
        "learning_rate = 0.01\n",
        "weight_decay = 1e-3\n",
        "num_epochs = 15\n",
        "\n",
        "optimizer = torch.optim.Adam(model.parameters(), lr=learning_rate, weight_decay=weight_decay)\n",
        "\n",
        "print(f\"✅ Training setup complete!\")"
      ],
      "metadata": {
        "colab": {
          "base_uri": "https://localhost:8080/"
        },
        "id": "-MfB92kauqMP",
        "outputId": "a316d17a-501e-41b9-83fe-55142067ed2b"
      },
      "execution_count": 30,
      "outputs": [
        {
          "output_type": "stream",
          "name": "stdout",
          "text": [
            "=== Training Configuration ===\n",
            "Training samples: 3455\n",
            "Test samples: 5184\n",
            "Training - Positive: 328, Negative: 3127\n",
            "✅ Training setup complete!\n"
          ]
        }
      ]
    },
    {
      "cell_type": "code",
      "source": [
        "# =========================================================================\n",
        "# CARE-GNN Model Training\n",
        "# =========================================================================\n",
        "# Purpose: Train the complete CARE-GNN model with adaptive neighbor filtering\n",
        "# This section implements the full training loop including:\n",
        "# - Class-balanced undersampling for fraud detection\n",
        "# - Reinforcement learning threshold adaptation\n",
        "# - Multi-relation graph neural network optimization\n",
        "# - Combined loss function training (GNN + similarity)\n",
        "# =========================================================================\n",
        "\n",
        "print(\"=== Training CARE-GNN ===\")\n",
        "\n",
        "train_losses = []\n",
        "\n",
        "for epoch in range(num_epochs):\n",
        "    model.train()\n",
        "\n",
        "    # =====================================================================\n",
        "    # Class-Balanced Undersampling\n",
        "    # =====================================================================\n",
        "    # Address severe class imbalance in fraud detection\n",
        "    # Critical for preventing bias toward majority class (benign users)\n",
        "    sampled_idx_train = undersample(train_pos, train_neg, scale=1)\n",
        "    # Randomize batch order for better gradient updates\n",
        "    random.shuffle(sampled_idx_train)\n",
        "\n",
        "    # Set batch number for RL module\n",
        "    num_batches = (len(sampled_idx_train) + batch_size - 1) // batch_size\n",
        "    inter.batch_num = num_batches\n",
        "\n",
        "    epoch_loss = 0.0\n",
        "\n",
        "\n",
        "    # =====================================================================\n",
        "    # Mini-Batch Training Loop\n",
        "    # =====================================================================\n",
        "    # Process training data in batches for memory efficiency\n",
        "    # Essential for large fraud detection graphs\n",
        "\n",
        "    for batch_idx in range(num_batches):\n",
        "        # Extract batch of nodes to process\n",
        "        start_idx = batch_idx * batch_size\n",
        "        end_idx = min((batch_idx + 1) * batch_size, len(sampled_idx_train))\n",
        "        batch_nodes = sampled_idx_train[start_idx:end_idx]\n",
        "\n",
        "        # Get corresponding labels for supervision\n",
        "        batch_labels = torch.LongTensor(labels[batch_nodes])\n",
        "\n",
        "        # Reset gradients from previous iteration\n",
        "        optimizer.zero_grad()\n",
        "\n",
        "        # Forward pass\n",
        "        # This includes:\n",
        "        # 1. Multi-relation neighbor extraction (UPU, USU, UVU)\n",
        "        # 2. Label-aware similarity computation\n",
        "        # 3. Adaptive neighbor filtering (using current RL thresholds)\n",
        "        # 4. Intra-relation aggregation for each relation\n",
        "        # 5. Inter-relation aggregation (CARE-GNN method)\n",
        "        # 6. Final classification and similarity loss computation\n",
        "        loss = model.loss(batch_nodes, batch_labels, train_flag=True)\n",
        "\n",
        "        # Backward pass\n",
        "        # This updates:\n",
        "        # - GNN aggregation weights\n",
        "        # - Inter-relation combination parameters\n",
        "        # - Final classification layer weights\n",
        "        # - Label-aware similarity predictor weights\n",
        "        # Note: RL thresholds are updated separately in the RL module\n",
        "        loss.backward()\n",
        "        optimizer.step()\n",
        "\n",
        "        epoch_loss += loss.item()\n",
        "\n",
        "    avg_loss = epoch_loss / num_batches\n",
        "    train_losses.append(avg_loss)\n",
        "\n",
        "    if epoch % 3 == 0:\n",
        "        print(f\"Epoch {epoch:2d}: Loss = {avg_loss:.4f}\")\n",
        "\n",
        "print(\"✅ Training completed!\")\n",
        "\n",
        "# Plot training loss\n",
        "plt.figure(figsize=(8, 4))\n",
        "plt.plot(train_losses)\n",
        "plt.title('Original paper CARE-GNN Training Loss')\n",
        "plt.xlabel('Epoch')\n",
        "plt.ylabel('Loss')\n",
        "plt.grid(True)\n",
        "plt.show()\n"
      ],
      "metadata": {
        "colab": {
          "base_uri": "https://localhost:8080/",
          "height": 1000
        },
        "id": "HZIh0JBmuuPX",
        "outputId": "1bd16ecc-ecb4-4e55-c68a-db9512c67635"
      },
      "execution_count": 32,
      "outputs": [
        {
          "output_type": "stream",
          "name": "stdout",
          "text": [
            "=== Training CARE-GNN ===\n",
            "epoch scores: [0.1149667104688153, 0.10075295031565525, 0.08722528578161885]\n",
            "rewards: [1, -1, 1]\n",
            "thresholds: [0.2599999999999998, 0.2199999999999998, 0.33999999999999986]\n",
            "Epoch  0: Loss = 1.4190\n",
            "epoch scores: [0.1310028312625758, 0.10471147902975843, 0.0980159253550585]\n",
            "rewards: [-1, -1, -1]\n",
            "thresholds: [0.2399999999999998, 0.19999999999999982, 0.31999999999999984]\n",
            "epoch scores: [0.1321420171297443, 0.09642400940382567, 0.0984514697797469]\n",
            "rewards: [-1, 1, -1]\n",
            "thresholds: [0.2199999999999998, 0.2199999999999998, 0.2999999999999998]\n",
            "epoch scores: [0.1295909861732191, 0.10842877388283338, 0.08924049333876723]\n",
            "rewards: [1, -1, 1]\n",
            "thresholds: [0.2399999999999998, 0.19999999999999982, 0.31999999999999984]\n",
            "Epoch  3: Loss = 1.3900\n",
            "epoch scores: [0.13662813451032785, 0.11062960382359432, 0.09406194590031196]\n",
            "rewards: [-1, -1, -1]\n",
            "thresholds: [0.2199999999999998, 0.17999999999999983, 0.2999999999999998]\n",
            "epoch scores: [0.1443081146954104, 0.11611067432113596, 0.09246100877896091]\n",
            "rewards: [-1, -1, 1]\n",
            "thresholds: [0.19999999999999982, 0.15999999999999984, 0.31999999999999984]\n",
            "epoch scores: [0.13448159086642553, 0.11442994290701901, 0.09783729131313053]\n",
            "rewards: [1, 1, -1]\n",
            "thresholds: [0.2199999999999998, 0.17999999999999983, 0.2999999999999998]\n",
            "Epoch  6: Loss = 1.3738\n",
            "epoch scores: [0.14869494443943956, 0.12172885728679234, 0.10050212154733318]\n",
            "rewards: [-1, -1, -1]\n",
            "thresholds: [0.19999999999999982, 0.15999999999999984, 0.2799999999999998]\n",
            "epoch scores: [0.15506972147821638, 0.11934442725542897, 0.10402639877014029]\n",
            "rewards: [-1, 1, -1]\n",
            "thresholds: [0.17999999999999983, 0.17999999999999983, 0.2599999999999998]\n",
            "epoch scores: [0.1467699594328556, 0.1370080852448423, 0.09579204506722468]\n",
            "rewards: [1, -1, 1]\n",
            "thresholds: [0.19999999999999982, 0.15999999999999984, 0.2799999999999998]\n",
            "Epoch  9: Loss = 1.3427\n",
            "epoch scores: [0.1548831300214277, 0.13629311360961713, 0.09977507880891917]\n",
            "rewards: [-1, 1, -1]\n",
            "thresholds: [0.17999999999999983, 0.17999999999999983, 0.2599999999999998]\n",
            "epoch scores: [0.16100387417614118, 0.15550589181815608, 0.10379819628381082]\n",
            "rewards: [-1, -1, -1]\n",
            "thresholds: [0.15999999999999984, 0.15999999999999984, 0.2399999999999998]\n",
            "epoch scores: [0.14755015586391407, 0.14780240270386677, 0.10748442577347889]\n",
            "rewards: [1, 1, -1]\n",
            "thresholds: [0.17999999999999983, 0.17999999999999983, 0.2199999999999998]\n",
            "Epoch 12: Loss = 1.3500\n",
            "epoch scores: [0.1572705364013207, 0.15536041990355887, 0.09535494773132347]\n",
            "rewards: [-1, -1, 1]\n",
            "thresholds: [0.15999999999999984, 0.15999999999999984, 0.2399999999999998]\n",
            "epoch scores: [0.1552393743591746, 0.157812004866795, 0.09488137243761303]\n",
            "rewards: [1, -1, 1]\n",
            "thresholds: [0.17999999999999983, 0.13999999999999985, 0.2599999999999998]\n",
            "✅ Training completed!\n"
          ]
        },
        {
          "output_type": "display_data",
          "data": {
            "text/plain": [
              "<Figure size 800x400 with 1 Axes>"
            ],
            "image/png": "[encoded data removed]"
          },
          "metadata": {}
        }
      ]
    },
    {
      "cell_type": "markdown",
      "source": [],
      "metadata": {
        "id": "zOwY8N4GuY6y"
      }
    },
    {
      "cell_type": "markdown",
      "source": [
        "## Train Proposed Model (CARE-GNN_Plus) with SGD Optimizer"
      ],
      "metadata": {
        "id": "id4Uhpc2vKtT"
      }
    },
    {
      "cell_type": "code",
      "source": [
        "# Train 2-layer model with SGD\n",
        "losses_2layer, trained_model2 = train_care_model(\n",
        "    model=model2_leaky,\n",
        "    model_name=\"Multi-Layer CARE-GNN Plus (2 layers + LeakyReLU)\",\n",
        "    train_pos=train_pos,\n",
        "    train_neg=train_neg,\n",
        "    labels=labels,\n",
        "    learning_rate=0.01,\n",
        "    weight_decay=1e-3,\n",
        "    momentum=0.9,        # SGD momentum\n",
        "    num_epochs=15,\n",
        "    batch_size=256\n",
        ")\n",
        "\n",
        "# Train 3-layer model with SGD\n",
        "losses_3layer, trained_model3 = train_care_model(\n",
        "    model=model3_leaky,\n",
        "    model_name=\"Multi-Layer CARE-GNN-Plus (3 layers + LeakyReLU)\",\n",
        "    train_pos=train_pos,\n",
        "    train_neg=train_neg,\n",
        "    labels=labels,\n",
        "    learning_rate=0.01,\n",
        "    weight_decay=1e-3,\n",
        "    momentum=0.9,        # SGD momentum\n",
        "    num_epochs=15,\n",
        "    batch_size=256\n",
        ")"
      ],
      "metadata": {
        "colab": {
          "base_uri": "https://localhost:8080/",
          "height": 1000
        },
        "id": "w_Eq0OdjvMQi",
        "outputId": "3d45bc2a-05d2-4e58-98ee-405abd5eb6dc"
      },
      "execution_count": 67,
      "outputs": [
        {
          "output_type": "stream",
          "name": "stdout",
          "text": [
            "=== Training Multi-Layer CARE-GNN Plus (2 layers + LeakyReLU) ===\n",
            "Epoch  0: Loss = 1.4846\n",
            "Epoch  3: Loss = 1.4650\n",
            "Epoch  6: Loss = 1.4196\n",
            "Epoch  9: Loss = 1.3945\n",
            "Epoch 12: Loss = 1.3645\n",
            "✅ Multi-Layer CARE-GNN Plus (2 layers + LeakyReLU) training completed!\n"
          ]
        },
        {
          "output_type": "display_data",
          "data": {
            "text/plain": [
              "<Figure size 800x400 with 1 Axes>"
            ],
            "image/png": "[encoded data removed]"
          },
          "metadata": {}
        },
        {
          "output_type": "stream",
          "name": "stdout",
          "text": [
            "=== Training Multi-Layer CARE-GNN-Plus (3 layers + LeakyReLU) ===\n",
            "Epoch  0: Loss = 1.4870\n",
            "Epoch  3: Loss = 1.4612\n",
            "Epoch  6: Loss = 1.4443\n",
            "Epoch  9: Loss = 1.3986\n",
            "Epoch 12: Loss = 1.3949\n",
            "✅ Multi-Layer CARE-GNN-Plus (3 layers + LeakyReLU) training completed!\n"
          ]
        },
        {
          "output_type": "display_data",
          "data": {
            "text/plain": [
              "<Figure size 800x400 with 1 Axes>"
            ],
            "image/png": "[encoded data removed]"
          },
          "metadata": {}
        }
      ]
    },
    {
      "cell_type": "code",
      "source": [
        "losses_2layer"
      ],
      "metadata": {
        "colab": {
          "base_uri": "https://localhost:8080/"
        },
        "id": "ikwpcaXLy06P",
        "outputId": "6c542b8b-652d-4cea-caa1-b4b53b57e1f0"
      },
      "execution_count": 43,
      "outputs": [
        {
          "output_type": "execute_result",
          "data": {
            "text/plain": [
              "[1.6711314916610718,\n",
              " 1.654421369234721,\n",
              " 1.6410319407780964,\n",
              " 1.5959758361180623,\n",
              " 1.6210058530171711,\n",
              " 1.6335264841715496,\n",
              " 1.5868289470672607,\n",
              " 1.5865929524103801,\n",
              " 1.5816866159439087,\n",
              " 1.5722882747650146,\n",
              " 1.541838010152181,\n",
              " 1.5313790241877239,\n",
              " 1.5116862853368123,\n",
              " 1.502577821413676,\n",
              " 1.4719191789627075]"
            ]
          },
          "metadata": {},
          "execution_count": 43
        }
      ]
    },
    {
      "cell_type": "code",
      "source": [
        "\n",
        "losses_base, trained_base = train_care_model(\n",
        "    model=model,\n",
        "    model_name=\"Original CARE-GNN with SGD Optimizer\",\n",
        "    train_pos=train_pos,\n",
        "    train_neg=train_neg,\n",
        "    labels=labels,\n",
        "    learning_rate=0.01,\n",
        "    weight_decay=1e-3,\n",
        "    momentum=0.9,        # SGD momentum\n",
        "    num_epochs=15,\n",
        "    batch_size=256\n",
        ")"
      ],
      "metadata": {
        "colab": {
          "base_uri": "https://localhost:8080/",
          "height": 1000
        },
        "id": "pE9aXC0GxaOR",
        "outputId": "2585b7c2-00c4-4551-be8b-b29eb0f51327"
      },
      "execution_count": 68,
      "outputs": [
        {
          "output_type": "stream",
          "name": "stdout",
          "text": [
            "=== Training Original CARE-GNN with SGD Optimizer ===\n",
            "epoch scores: [0.18452032364620016, 0.21447801362881322, 0.11255511931069885]\n",
            "rewards: [-1, -1, 1]\n",
            "thresholds: [0.13999999999999985, 0.13999999999999985, 0.2199999999999998]\n",
            "Epoch  0: Loss = 1.2299\n",
            "epoch scores: [0.18971255252289201, 0.2084013605684041, 0.11581063658094108]\n",
            "rewards: [-1, 1, -1]\n",
            "thresholds: [0.11999999999999984, 0.15999999999999984, 0.19999999999999982]\n",
            "epoch scores: [0.16134830475821546, 0.20599448219796831, 0.12025838949018497]\n",
            "rewards: [1, 1, -1]\n",
            "thresholds: [0.13999999999999985, 0.17999999999999983, 0.17999999999999983]\n",
            "epoch scores: [0.1696826523264056, 0.21317208899497153, 0.112490903673019]\n",
            "rewards: [-1, -1, 1]\n",
            "thresholds: [0.11999999999999984, 0.15999999999999984, 0.19999999999999982]\n",
            "Epoch  3: Loss = 1.2432\n",
            "epoch scores: [0.1689847126968418, 0.23756003523431565, 0.11687731111590068]\n",
            "rewards: [1, -1, -1]\n",
            "thresholds: [0.13999999999999985, 0.13999999999999985, 0.17999999999999983]\n",
            "epoch scores: [0.16881621173957906, 0.222657460614468, 0.12328209751174875]\n",
            "rewards: [1, 1, -1]\n",
            "thresholds: [0.15999999999999984, 0.15999999999999984, 0.15999999999999984]\n",
            "epoch scores: [0.2133639873098793, 0.2065829421489027, 0.10581687544749352]\n",
            "rewards: [-1, 1, 1]\n",
            "thresholds: [0.13999999999999985, 0.17999999999999983, 0.17999999999999983]\n",
            "Epoch  6: Loss = 1.2355\n",
            "epoch scores: [0.19270176409028317, 0.23536003386152057, 0.12436360231867198]\n",
            "rewards: [1, -1, -1]\n",
            "thresholds: [0.15999999999999984, 0.15999999999999984, 0.15999999999999984]\n",
            "epoch scores: [0.2071808367727506, 0.2603642808535798, 0.11321761504443754]\n",
            "rewards: [-1, -1, 1]\n",
            "thresholds: [0.13999999999999985, 0.13999999999999985, 0.17999999999999983]\n",
            "epoch scores: [0.20196079451557855, 0.22146369429266474, 0.11200306787804874]\n",
            "rewards: [1, 1, 1]\n",
            "thresholds: [0.15999999999999984, 0.15999999999999984, 0.19999999999999982]\n",
            "Epoch  9: Loss = 1.2454\n",
            "epoch scores: [0.20832329315839226, 0.24695533543240358, 0.1279535768709392]\n",
            "rewards: [-1, -1, -1]\n",
            "thresholds: [0.13999999999999985, 0.13999999999999985, 0.17999999999999983]\n",
            "epoch scores: [0.20823369357140945, 0.21992085996634048, 0.1252154425170003]\n",
            "rewards: [1, 1, 1]\n",
            "thresholds: [0.15999999999999984, 0.15999999999999984, 0.19999999999999982]\n",
            "epoch scores: [0.21777012657836456, 0.24999569362503937, 0.12439328985110369]\n",
            "rewards: [-1, -1, 1]\n",
            "thresholds: [0.13999999999999985, 0.13999999999999985, 0.2199999999999998]\n",
            "Epoch 12: Loss = 1.2258\n",
            "epoch scores: [0.2137729536037757, 0.23399261951762876, 0.1464684329356311]\n",
            "rewards: [1, 1, -1]\n",
            "thresholds: [0.15999999999999984, 0.15999999999999984, 0.19999999999999982]\n",
            "epoch scores: [0.21542903269761118, 0.23795741190078404, 0.13501773479369528]\n",
            "rewards: [-1, -1, 1]\n",
            "thresholds: [0.13999999999999985, 0.13999999999999985, 0.2199999999999998]\n",
            "✅ Original CARE-GNN with SGD Optimizer training completed!\n"
          ]
        },
        {
          "output_type": "display_data",
          "data": {
            "text/plain": [
              "<Figure size 800x400 with 1 Axes>"
            ],
            "image/png": "[encoded data removed]"
          },
          "metadata": {}
        }
      ]
    },
    {
      "cell_type": "markdown",
      "source": [
        "# Models Evaluations"
      ],
      "metadata": {
        "id": "XDVYivPhv0eu"
      }
    },
    {
      "cell_type": "code",
      "source": [
        "# === CARE-GNN Evaluation ===\n",
        "\n",
        "print(\"=== Original Paper CARE-GNN Evaluation ===\")\n",
        "\n",
        "# Evaluate on test set\n",
        "gnn_auc, label_auc, gnn_recall, label_recall = test_care(idx_test, y_test, model, batch_size)\n",
        "\n",
        "print(\"\\nFinal Results:\")\n",
        "print(\"=\" * 40)\n",
        "print(f\"Original Paper CARE-GNN Final Model:\")\n",
        "print(f\"  AUC:    {gnn_auc:.4f}\")\n",
        "print(f\"  Recall: {gnn_recall:.4f}\")\n",
        "\n",
        "# Visualize final CARE-GNN performance\n",
        "plt.figure(figsize=(6, 4))\n",
        "\n",
        "metrics = ['AUC', 'Recall']\n",
        "scores = [gnn_auc, gnn_recall]\n",
        "\n",
        "x = np.arange(len(metrics))\n",
        "width = 0.4\n",
        "\n",
        "plt.bar(x, scores, width, color=['skyblue', 'orange'])\n",
        "plt.xticks(x, metrics)\n",
        "plt.ylim([0, 1])\n",
        "plt.ylabel('Score')\n",
        "plt.title('Original Paper CARE-GNN Final Performance')\n",
        "\n",
        "plt.grid(axis='y')\n",
        "plt.show()\n"
      ],
      "metadata": {
        "colab": {
          "base_uri": "https://localhost:8080/",
          "height": 670
        },
        "id": "x_YTBcX4v2cE",
        "outputId": "efb09d82-076d-473c-b3cd-77ac15b4c1f7"
      },
      "execution_count": 35,
      "outputs": [
        {
          "output_type": "stream",
          "name": "stdout",
          "text": [
            "=== Original Paper CARE-GNN Evaluation ===\n",
            "GNN F1: 0.8975\n",
            "GNN Accuracy: 0.9660\n",
            "GNN Recall: 0.8899\n",
            "GNN auc: 0.9431\n",
            "GNN ap: 0.8462\n",
            "Label1 F1: 0.8113\n",
            "Label1 Accuracy: 0.9230\n",
            "Label1 Recall: 0.8719\n",
            "Label1 auc: 0.8754\n",
            "Label1 ap: 0.8022\n",
            "\n",
            "Final Results:\n",
            "========================================\n",
            "Original Paper CARE-GNN Final Model:\n",
            "  AUC:    0.9431\n",
            "  Recall: 0.8899\n"
          ]
        },
        {
          "output_type": "display_data",
          "data": {
            "text/plain": [
              "<Figure size 600x400 with 1 Axes>"
            ],
            "image/png": "[encoded data removed]"
          },
          "metadata": {}
        }
      ]
    },
    {
      "cell_type": "code",
      "source": [
        "# Evaluate 2-layer model\n",
        "print(\"\\n=== 2-Layer CARE Model Evaluation ===\")\n",
        "gnn_auc_2l, label_auc_2l, gnn_recall_2l, label_recall_2l = test_care(idx_test, y_test, trained_model2, batch_size)\n",
        "\n",
        "print(f\"2-Layer Model Results:\")\n",
        "print(f\"  AUC:    {gnn_auc_2l:.4f}\")\n",
        "print(f\"  Recall: {gnn_recall_2l:.4f}\")\n",
        "\n",
        "# Evaluate 3-layer model\n",
        "print(\"\\n=== 3-Layer CARE Model Evaluation ===\")\n",
        "gnn_auc_3l, label_auc_3l, gnn_recall_3l, label_recall_3l = test_care(idx_test, y_test, trained_model3, batch_size)\n",
        "\n",
        "print(f\"3-Layer Model Results:\")\n",
        "print(f\"  AUC:    {gnn_auc_3l:.4f}\")\n",
        "print(f\"  Recall: {gnn_recall_3l:.4f}\")\n",
        "\n",
        "# Manual comparison plot\n",
        "plt.figure(figsize=(12, 5))\n",
        "\n",
        "# AUC comparison\n",
        "plt.subplot(1, 2, 1)\n",
        "models = ['2-Layer', '3-Layer']\n",
        "aucs = [gnn_auc_2l, gnn_auc_3l]\n",
        "plt.bar(models, aucs, color=['skyblue', 'lightcoral'])\n",
        "plt.title('AUC Comparison')\n",
        "plt.ylabel('AUC Score')\n",
        "plt.ylim([0, 1])\n",
        "\n",
        "# Recall comparison\n",
        "plt.subplot(1, 2, 2)\n",
        "recalls = [gnn_recall_2l, gnn_recall_3l]\n",
        "plt.bar(models, recalls, color=['orange', 'lightgreen'])\n",
        "plt.title('Recall Comparison')\n",
        "plt.ylabel('Recall Score')\n",
        "plt.ylim([0, 1])\n",
        "\n",
        "plt.tight_layout()\n",
        "plt.show()"
      ],
      "metadata": {
        "colab": {
          "base_uri": "https://localhost:8080/",
          "height": 1000
        },
        "id": "Nt1Xug_0wSeu",
        "outputId": "4ede8e0a-74f2-4b7e-8bdf-05110e992a2d"
      },
      "execution_count": 69,
      "outputs": [
        {
          "output_type": "stream",
          "name": "stdout",
          "text": [
            "\n",
            "=== 2-Layer CARE Model Evaluation ===\n",
            "GNN F1: 0.8939\n",
            "GNN Accuracy: 0.9645\n",
            "GNN Recall: 0.8869\n",
            "GNN auc: 0.9203\n",
            "GNN ap: 0.8232\n",
            "Label1 F1: 0.7986\n",
            "Label1 Accuracy: 0.9161\n",
            "Label1 Recall: 0.8670\n",
            "Label1 auc: 0.8674\n",
            "Label1 ap: 0.7985\n",
            "2-Layer Model Results:\n",
            "  AUC:    0.9203\n",
            "  Recall: 0.8869\n",
            "\n",
            "=== 3-Layer CARE Model Evaluation ===\n",
            "GNN F1: 0.8939\n",
            "GNN Accuracy: 0.9645\n",
            "GNN Recall: 0.8872\n",
            "GNN auc: 0.9265\n",
            "GNN ap: 0.8285\n",
            "Label1 F1: 0.7199\n",
            "Label1 Accuracy: 0.8592\n",
            "Label1 Recall: 0.8374\n",
            "Label1 auc: 0.8662\n",
            "Label1 ap: 0.7971\n",
            "3-Layer Model Results:\n",
            "  AUC:    0.9265\n",
            "  Recall: 0.8872\n"
          ]
        },
        {
          "output_type": "display_data",
          "data": {
            "text/plain": [
              "<Figure size 1200x500 with 2 Axes>"
            ],
            "image/png": "[encoded data removed]"
          },
          "metadata": {}
        }
      ]
    },
    {
      "cell_type": "code",
      "source": [
        "gnn_auc_base, label_auc_base, gnn_recall_base, label_recall_base = test_care(idx_test, y_test, trained_base, batch_size)"
      ],
      "metadata": {
        "colab": {
          "base_uri": "https://localhost:8080/"
        },
        "id": "6272s--Tx36P",
        "outputId": "940c8298-66cf-4f24-b9c0-280109d24b75"
      },
      "execution_count": 70,
      "outputs": [
        {
          "output_type": "stream",
          "name": "stdout",
          "text": [
            "GNN F1: 0.8957\n",
            "GNN Accuracy: 0.9650\n",
            "GNN Recall: 0.8904\n",
            "GNN auc: 0.9419\n",
            "GNN ap: 0.8454\n",
            "Label1 F1: 0.8355\n",
            "Label1 Accuracy: 0.9362\n",
            "Label1 Recall: 0.8802\n",
            "Label1 auc: 0.8761\n",
            "Label1 ap: 0.8089\n"
          ]
        }
      ]
    },
    {
      "cell_type": "code",
      "source": [
        "print(f\"Base CARE-GNN SGD Optimizer\")\n",
        "print(f\"  AUC:    {gnn_auc_base:.4f}\")\n",
        "print(f\"  Recall: {gnn_recall_base:.4f}\")"
      ],
      "metadata": {
        "colab": {
          "base_uri": "https://localhost:8080/"
        },
        "id": "o1BLF1iXyL6Y",
        "outputId": "0ee3e8bd-6da4-43c9-89e5-1fada670211b"
      },
      "execution_count": 71,
      "outputs": [
        {
          "output_type": "stream",
          "name": "stdout",
          "text": [
            "Base CARE-GNN SGD Optimizer\n",
            "  AUC:    0.9419\n",
            "  Recall: 0.8904\n"
          ]
        }
      ]
    },
    {
      "cell_type": "code",
      "source": [
        "train_losses"
      ],
      "metadata": {
        "colab": {
          "base_uri": "https://localhost:8080/"
        },
        "id": "OdZ83yWOznIQ",
        "outputId": "9d957832-88ae-407a-ee8c-f46a3cc79aad"
      },
      "execution_count": 72,
      "outputs": [
        {
          "output_type": "execute_result",
          "data": {
            "text/plain": [
              "[1.4190183877944946,\n",
              " 1.3976531028747559,\n",
              " 1.4380465745925903,\n",
              " 1.3899972438812256,\n",
              " 1.3770249684651692,\n",
              " 1.389941652615865,\n",
              " 1.373786211013794,\n",
              " 1.3735675811767578,\n",
              " 1.3653054634730022,\n",
              " 1.3427455027898152,\n",
              " 1.3409614562988281,\n",
              " 1.3297990957895915,\n",
              " 1.3499536514282227,\n",
              " 1.309234857559204,\n",
              " 1.32005774974823]"
            ]
          },
          "metadata": {},
          "execution_count": 72
        }
      ]
    },
    {
      "cell_type": "code",
      "source": [
        "import pandas as pd"
      ],
      "metadata": {
        "id": "Kjuvgh7xz--f"
      },
      "execution_count": 47,
      "outputs": []
    },
    {
      "cell_type": "code",
      "source": [
        "df_train_losses = pd.DataFrame([train_losses, losses_base, losses_2layer, losses_3layer]).T"
      ],
      "metadata": {
        "id": "48nnDKmD0Tqt"
      },
      "execution_count": 73,
      "outputs": []
    },
    {
      "cell_type": "code",
      "source": [
        "df_train_losses.columns = ['CARE-GNN', 'CARE-GNN-SDG', 'CARE-GNN-Plus-2 layers', 'CARE-GNN-Plus-3 layers']"
      ],
      "metadata": {
        "id": "mDaycMRc0sKF"
      },
      "execution_count": 74,
      "outputs": []
    },
    {
      "cell_type": "code",
      "source": [
        "df_train_losses"
      ],
      "metadata": {
        "colab": {
          "base_uri": "https://localhost:8080/",
          "height": 504
        },
        "id": "Kgz35ptU1HZR",
        "outputId": "e5907c25-c4aa-4ba4-bfe9-a321beefa8dd"
      },
      "execution_count": 75,
      "outputs": [
        {
          "output_type": "execute_result",
          "data": {
            "text/plain": [
              "    CARE-GNN  CARE-GNN-SDG  CARE-GNN-Plus-2 layers  CARE-GNN-Plus-3 layers\n",
              "0   1.419018      1.229867                1.484589                1.486987\n",
              "1   1.397653      1.250148                1.480679                1.505070\n",
              "2   1.438047      1.262587                1.490133                1.476828\n",
              "3   1.389997      1.243165                1.465033                1.461180\n",
              "4   1.377025      1.246210                1.458894                1.461640\n",
              "5   1.389942      1.248626                1.447815                1.421551\n",
              "6   1.373786      1.235466                1.419581                1.444317\n",
              "7   1.373568      1.223666                1.433638                1.453096\n",
              "8   1.365305      1.189553                1.405645                1.419543\n",
              "9   1.342746      1.245422                1.394531                1.398598\n",
              "10  1.340961      1.231489                1.405382                1.412778\n",
              "11  1.329799      1.191822                1.400409                1.366566\n",
              "12  1.349954      1.225758                1.364481                1.394903\n",
              "13  1.309235      1.215196                1.376611                1.351391\n",
              "14  1.320058      1.203795                1.333110                1.384381"
            ],
            "text/html": [
              "\n",
              "  <div id=\"df-3c163b1f-58dc-4fc2-bc7e-3779b5508b97\" class=\"colab-df-container\">\n",
              "    <div>\n",
              "<style scoped>\n",
              "    .dataframe tbody tr th:only-of-type {\n",
              "        vertical-align: middle;\n",
              "    }\n",
              "\n",
              "    .dataframe tbody tr th {\n",
              "        vertical-align: top;\n",
              "    }\n",
              "\n",
              "    .dataframe thead th {\n",
              "        text-align: right;\n",
              "    }\n",
              "</style>\n",
              "<table border=\"1\" class=\"dataframe\">\n",
              "  <thead>\n",
              "    <tr style=\"text-align: right;\">\n",
              "      <th></th>\n",
              "      <th>CARE-GNN</th>\n",
              "      <th>CARE-GNN-SDG</th>\n",
              "      <th>CARE-GNN-Plus-2 layers</th>\n",
              "      <th>CARE-GNN-Plus-3 layers</th>\n",
              "    </tr>\n",
              "  </thead>\n",
              "  <tbody>\n",
              "    <tr>\n",
              "      <th>0</th>\n",
              "      <td>1.419018</td>\n",
              "      <td>1.229867</td>\n",
              "      <td>1.484589</td>\n",
              "      <td>1.486987</td>\n",
              "    </tr>\n",
              "    <tr>\n",
              "      <th>1</th>\n",
              "      <td>1.397653</td>\n",
              "      <td>1.250148</td>\n",
              "      <td>1.480679</td>\n",
              "      <td>1.505070</td>\n",
              "    </tr>\n",
              "    <tr>\n",
              "      <th>2</th>\n",
              "      <td>1.438047</td>\n",
              "      <td>1.262587</td>\n",
              "      <td>1.490133</td>\n",
              "      <td>1.476828</td>\n",
              "    </tr>\n",
              "    <tr>\n",
              "      <th>3</th>\n",
              "      <td>1.389997</td>\n",
              "      <td>1.243165</td>\n",
              "      <td>1.465033</td>\n",
              "      <td>1.461180</td>\n",
              "    </tr>\n",
              "    <tr>\n",
              "      <th>4</th>\n",
              "      <td>1.377025</td>\n",
              "      <td>1.246210</td>\n",
              "      <td>1.458894</td>\n",
              "      <td>1.461640</td>\n",
              "    </tr>\n",
              "    <tr>\n",
              "      <th>5</th>\n",
              "      <td>1.389942</td>\n",
              "      <td>1.248626</td>\n",
              "      <td>1.447815</td>\n",
              "      <td>1.421551</td>\n",
              "    </tr>\n",
              "    <tr>\n",
              "      <th>6</th>\n",
              "      <td>1.373786</td>\n",
              "      <td>1.235466</td>\n",
              "      <td>1.419581</td>\n",
              "      <td>1.444317</td>\n",
              "    </tr>\n",
              "    <tr>\n",
              "      <th>7</th>\n",
              "      <td>1.373568</td>\n",
              "      <td>1.223666</td>\n",
              "      <td>1.433638</td>\n",
              "      <td>1.453096</td>\n",
              "    </tr>\n",
              "    <tr>\n",
              "      <th>8</th>\n",
              "      <td>1.365305</td>\n",
              "      <td>1.189553</td>\n",
              "      <td>1.405645</td>\n",
              "      <td>1.419543</td>\n",
              "    </tr>\n",
              "    <tr>\n",
              "      <th>9</th>\n",
              "      <td>1.342746</td>\n",
              "      <td>1.245422</td>\n",
              "      <td>1.394531</td>\n",
              "      <td>1.398598</td>\n",
              "    </tr>\n",
              "    <tr>\n",
              "      <th>10</th>\n",
              "      <td>1.340961</td>\n",
              "      <td>1.231489</td>\n",
              "      <td>1.405382</td>\n",
              "      <td>1.412778</td>\n",
              "    </tr>\n",
              "    <tr>\n",
              "      <th>11</th>\n",
              "      <td>1.329799</td>\n",
              "      <td>1.191822</td>\n",
              "      <td>1.400409</td>\n",
              "      <td>1.366566</td>\n",
              "    </tr>\n",
              "    <tr>\n",
              "      <th>12</th>\n",
              "      <td>1.349954</td>\n",
              "      <td>1.225758</td>\n",
              "      <td>1.364481</td>\n",
              "      <td>1.394903</td>\n",
              "    </tr>\n",
              "    <tr>\n",
              "      <th>13</th>\n",
              "      <td>1.309235</td>\n",
              "      <td>1.215196</td>\n",
              "      <td>1.376611</td>\n",
              "      <td>1.351391</td>\n",
              "    </tr>\n",
              "    <tr>\n",
              "      <th>14</th>\n",
              "      <td>1.320058</td>\n",
              "      <td>1.203795</td>\n",
              "      <td>1.333110</td>\n",
              "      <td>1.384381</td>\n",
              "    </tr>\n",
              "  </tbody>\n",
              "</table>\n",
              "</div>\n",
              "    <div class=\"colab-df-buttons\">\n",
              "\n",
              "  <div class=\"colab-df-container\">\n",
              "    <button class=\"colab-df-convert\" onclick=\"convertToInteractive('df-3c163b1f-58dc-4fc2-bc7e-3779b5508b97')\"\n",
              "            title=\"Convert this dataframe to an interactive table.\"\n",
              "            style=\"display:none;\">\n",
              "\n",
              "  <svg xmlns=\"http://www.w3.org/2000/svg\" height=\"24px\" viewBox=\"0 -960 960 960\">\n",
              "    <path d=\"M120-120v-720h720v720H120Zm60-500h600v-160H180v160Zm220 220h160v-160H400v160Zm0 220h160v-160H400v160ZM180-400h160v-160H180v160Zm440 0h160v-160H620v160ZM180-180h160v-160H180v160Zm440 0h160v-160H620v160Z\"/>\n",
              "  </svg>\n",
              "    </button>\n",
              "\n",
              "  <style>\n",
              "    .colab-df-container {\n",
              "      display:flex;\n",
              "      gap: 12px;\n",
              "    }\n",
              "\n",
              "    .colab-df-convert {\n",
              "      background-color: #E8F0FE;\n",
              "      border: none;\n",
              "      border-radius: 50%;\n",
              "      cursor: pointer;\n",
              "      display: none;\n",
              "      fill: #1967D2;\n",
              "      height: 32px;\n",
              "      padding: 0 0 0 0;\n",
              "      width: 32px;\n",
              "    }\n",
              "\n",
              "    .colab-df-convert:hover {\n",
              "      background-color: #E2EBFA;\n",
              "      box-shadow: 0px 1px 2px rgba(60, 64, 67, 0.3), 0px 1px 3px 1px rgba(60, 64, 67, 0.15);\n",
              "      fill: #174EA6;\n",
              "    }\n",
              "\n",
              "    .colab-df-buttons div {\n",
              "      margin-bottom: 4px;\n",
              "    }\n",
              "\n",
              "    [theme=dark] .colab-df-convert {\n",
              "      background-color: #3B4455;\n",
              "      fill: #D2E3FC;\n",
              "    }\n",
              "\n",
              "    [theme=dark] .colab-df-convert:hover {\n",
              "      background-color: #434B5C;\n",
              "      box-shadow: 0px 1px 3px 1px rgba(0, 0, 0, 0.15);\n",
              "      filter: drop-shadow(0px 1px 2px rgba(0, 0, 0, 0.3));\n",
              "      fill: #FFFFFF;\n",
              "    }\n",
              "  </style>\n",
              "\n",
              "    <script>\n",
              "      const buttonEl =\n",
              "        document.querySelector('#df-3c163b1f-58dc-4fc2-bc7e-3779b5508b97 button.colab-df-convert');\n",
              "      buttonEl.style.display =\n",
              "        google.colab.kernel.accessAllowed ? 'block' : 'none';\n",
              "\n",
              "      async function convertToInteractive(key) {\n",
              "        const element = document.querySelector('#df-3c163b1f-58dc-4fc2-bc7e-3779b5508b97');\n",
              "        const dataTable =\n",
              "          await google.colab.kernel.invokeFunction('convertToInteractive',\n",
              "                                                    [key], {});\n",
              "        if (!dataTable) return;\n",
              "\n",
              "        const docLinkHtml = 'Like what you see? Visit the ' +\n",
              "          '<a target=\"_blank\" href=https://colab.research.google.com/notebooks/data_table.ipynb>data table notebook</a>'\n",
              "          + ' to learn more about interactive tables.';\n",
              "        element.innerHTML = '';\n",
              "        dataTable['output_type'] = 'display_data';\n",
              "        await google.colab.output.renderOutput(dataTable, element);\n",
              "        const docLink = document.createElement('div');\n",
              "        docLink.innerHTML = docLinkHtml;\n",
              "        element.appendChild(docLink);\n",
              "      }\n",
              "    </script>\n",
              "  </div>\n",
              "\n",
              "\n",
              "    <div id=\"df-bfcd2e12-07fc-4263-bddf-c0e5aec6d6d4\">\n",
              "      <button class=\"colab-df-quickchart\" onclick=\"quickchart('df-bfcd2e12-07fc-4263-bddf-c0e5aec6d6d4')\"\n",
              "                title=\"Suggest charts\"\n",
              "                style=\"display:none;\">\n",
              "\n",
              "<svg xmlns=\"http://www.w3.org/2000/svg\" height=\"24px\"viewBox=\"0 0 24 24\"\n",
              "     width=\"24px\">\n",
              "    <g>\n",
              "        <path d=\"M19 3H5c-1.1 0-2 .9-2 2v14c0 1.1.9 2 2 2h14c1.1 0 2-.9 2-2V5c0-1.1-.9-2-2-2zM9 17H7v-7h2v7zm4 0h-2V7h2v10zm4 0h-2v-4h2v4z\"/>\n",
              "    </g>\n",
              "</svg>\n",
              "      </button>\n",
              "\n",
              "<style>\n",
              "  .colab-df-quickchart {\n",
              "      --bg-color: #E8F0FE;\n",
              "      --fill-color: #1967D2;\n",
              "      --hover-bg-color: #E2EBFA;\n",
              "      --hover-fill-color: #174EA6;\n",
              "      --disabled-fill-color: #AAA;\n",
              "      --disabled-bg-color: #DDD;\n",
              "  }\n",
              "\n",
              "  [theme=dark] .colab-df-quickchart {\n",
              "      --bg-color: #3B4455;\n",
              "      --fill-color: #D2E3FC;\n",
              "      --hover-bg-color: #434B5C;\n",
              "      --hover-fill-color: #FFFFFF;\n",
              "      --disabled-bg-color: #3B4455;\n",
              "      --disabled-fill-color: #666;\n",
              "  }\n",
              "\n",
              "  .colab-df-quickchart {\n",
              "    background-color: var(--bg-color);\n",
              "    border: none;\n",
              "    border-radius: 50%;\n",
              "    cursor: pointer;\n",
              "    display: none;\n",
              "    fill: var(--fill-color);\n",
              "    height: 32px;\n",
              "    padding: 0;\n",
              "    width: 32px;\n",
              "  }\n",
              "\n",
              "  .colab-df-quickchart:hover {\n",
              "    background-color: var(--hover-bg-color);\n",
              "    box-shadow: 0 1px 2px rgba(60, 64, 67, 0.3), 0 1px 3px 1px rgba(60, 64, 67, 0.15);\n",
              "    fill: var(--button-hover-fill-color);\n",
              "  }\n",
              "\n",
              "  .colab-df-quickchart-complete:disabled,\n",
              "  .colab-df-quickchart-complete:disabled:hover {\n",
              "    background-color: var(--disabled-bg-color);\n",
              "    fill: var(--disabled-fill-color);\n",
              "    box-shadow: none;\n",
              "  }\n",
              "\n",
              "  .colab-df-spinner {\n",
              "    border: 2px solid var(--fill-color);\n",
              "    border-color: transparent;\n",
              "    border-bottom-color: var(--fill-color);\n",
              "    animation:\n",
              "      spin 1s steps(1) infinite;\n",
              "  }\n",
              "\n",
              "  @keyframes spin {\n",
              "    0% {\n",
              "      border-color: transparent;\n",
              "      border-bottom-color: var(--fill-color);\n",
              "      border-left-color: var(--fill-color);\n",
              "    }\n",
              "    20% {\n",
              "      border-color: transparent;\n",
              "      border-left-color: var(--fill-color);\n",
              "      border-top-color: var(--fill-color);\n",
              "    }\n",
              "    30% {\n",
              "      border-color: transparent;\n",
              "      border-left-color: var(--fill-color);\n",
              "      border-top-color: var(--fill-color);\n",
              "      border-right-color: var(--fill-color);\n",
              "    }\n",
              "    40% {\n",
              "      border-color: transparent;\n",
              "      border-right-color: var(--fill-color);\n",
              "      border-top-color: var(--fill-color);\n",
              "    }\n",
              "    60% {\n",
              "      border-color: transparent;\n",
              "      border-right-color: var(--fill-color);\n",
              "    }\n",
              "    80% {\n",
              "      border-color: transparent;\n",
              "      border-right-color: var(--fill-color);\n",
              "      border-bottom-color: var(--fill-color);\n",
              "    }\n",
              "    90% {\n",
              "      border-color: transparent;\n",
              "      border-bottom-color: var(--fill-color);\n",
              "    }\n",
              "  }\n",
              "</style>\n",
              "\n",
              "      <script>\n",
              "        async function quickchart(key) {\n",
              "          const quickchartButtonEl =\n",
              "            document.querySelector('#' + key + ' button');\n",
              "          quickchartButtonEl.disabled = true;  // To prevent multiple clicks.\n",
              "          quickchartButtonEl.classList.add('colab-df-spinner');\n",
              "          try {\n",
              "            const charts = await google.colab.kernel.invokeFunction(\n",
              "                'suggestCharts', [key], {});\n",
              "          } catch (error) {\n",
              "            console.error('Error during call to suggestCharts:', error);\n",
              "          }\n",
              "          quickchartButtonEl.classList.remove('colab-df-spinner');\n",
              "          quickchartButtonEl.classList.add('colab-df-quickchart-complete');\n",
              "        }\n",
              "        (() => {\n",
              "          let quickchartButtonEl =\n",
              "            document.querySelector('#df-bfcd2e12-07fc-4263-bddf-c0e5aec6d6d4 button');\n",
              "          quickchartButtonEl.style.display =\n",
              "            google.colab.kernel.accessAllowed ? 'block' : 'none';\n",
              "        })();\n",
              "      </script>\n",
              "    </div>\n",
              "\n",
              "  <div id=\"id_4a64000a-91c0-4a70-a76c-9cac03827d00\">\n",
              "    <style>\n",
              "      .colab-df-generate {\n",
              "        background-color: #E8F0FE;\n",
              "        border: none;\n",
              "        border-radius: 50%;\n",
              "        cursor: pointer;\n",
              "        display: none;\n",
              "        fill: #1967D2;\n",
              "        height: 32px;\n",
              "        padding: 0 0 0 0;\n",
              "        width: 32px;\n",
              "      }\n",
              "\n",
              "      .colab-df-generate:hover {\n",
              "        background-color: #E2EBFA;\n",
              "        box-shadow: 0px 1px 2px rgba(60, 64, 67, 0.3), 0px 1px 3px 1px rgba(60, 64, 67, 0.15);\n",
              "        fill: #174EA6;\n",
              "      }\n",
              "\n",
              "      [theme=dark] .colab-df-generate {\n",
              "        background-color: #3B4455;\n",
              "        fill: #D2E3FC;\n",
              "      }\n",
              "\n",
              "      [theme=dark] .colab-df-generate:hover {\n",
              "        background-color: #434B5C;\n",
              "        box-shadow: 0px 1px 3px 1px rgba(0, 0, 0, 0.15);\n",
              "        filter: drop-shadow(0px 1px 2px rgba(0, 0, 0, 0.3));\n",
              "        fill: #FFFFFF;\n",
              "      }\n",
              "    </style>\n",
              "    <button class=\"colab-df-generate\" onclick=\"generateWithVariable('df_train_losses')\"\n",
              "            title=\"Generate code using this dataframe.\"\n",
              "            style=\"display:none;\">\n",
              "\n",
              "  <svg xmlns=\"http://www.w3.org/2000/svg\" height=\"24px\"viewBox=\"0 0 24 24\"\n",
              "       width=\"24px\">\n",
              "    <path d=\"M7,19H8.4L18.45,9,17,7.55,7,17.6ZM5,21V16.75L18.45,3.32a2,2,0,0,1,2.83,0l1.4,1.43a1.91,1.91,0,0,1,.58,1.4,1.91,1.91,0,0,1-.58,1.4L9.25,21ZM18.45,9,17,7.55Zm-12,3A5.31,5.31,0,0,0,4.9,8.1,5.31,5.31,0,0,0,1,6.5,5.31,5.31,0,0,0,4.9,4.9,5.31,5.31,0,0,0,6.5,1,5.31,5.31,0,0,0,8.1,4.9,5.31,5.31,0,0,0,12,6.5,5.46,5.46,0,0,0,6.5,12Z\"/>\n",
              "  </svg>\n",
              "    </button>\n",
              "    <script>\n",
              "      (() => {\n",
              "      const buttonEl =\n",
              "        document.querySelector('#id_4a64000a-91c0-4a70-a76c-9cac03827d00 button.colab-df-generate');\n",
              "      buttonEl.style.display =\n",
              "        google.colab.kernel.accessAllowed ? 'block' : 'none';\n",
              "\n",
              "      buttonEl.onclick = () => {\n",
              "        google.colab.notebook.generateWithVariable('df_train_losses');\n",
              "      }\n",
              "      })();\n",
              "    </script>\n",
              "  </div>\n",
              "\n",
              "    </div>\n",
              "  </div>\n"
            ],
            "application/vnd.google.colaboratory.intrinsic+json": {
              "type": "dataframe",
              "variable_name": "df_train_losses",
              "summary": "{\n  \"name\": \"df_train_losses\",\n  \"rows\": 15,\n  \"fields\": [\n    {\n      \"column\": \"CARE-GNN\",\n      \"properties\": {\n        \"dtype\": \"number\",\n        \"std\": 0.036265192925179095,\n        \"min\": 1.309234857559204,\n        \"max\": 1.4380465745925903,\n        \"num_unique_values\": 15,\n        \"samples\": [\n          1.3427455027898152,\n          1.3297990957895915,\n          1.4190183877944946\n        ],\n        \"semantic_type\": \"\",\n        \"description\": \"\"\n      }\n    },\n    {\n      \"column\": \"CARE-GNN-SDG\",\n      \"properties\": {\n        \"dtype\": \"number\",\n        \"std\": 0.021671068327583663,\n        \"min\": 1.1895533800125122,\n        \"max\": 1.2625872294108074,\n        \"num_unique_values\": 15,\n        \"samples\": [\n          1.2454224824905396,\n          1.191821535428365,\n          1.2298672993977864\n        ],\n        \"semantic_type\": \"\",\n        \"description\": \"\"\n      }\n    },\n    {\n      \"column\": \"CARE-GNN-Plus-2 layers\",\n      \"properties\": {\n        \"dtype\": \"number\",\n        \"std\": 0.04705292502729475,\n        \"min\": 1.3331097761789958,\n        \"max\": 1.4901326894760132,\n        \"num_unique_values\": 15,\n        \"samples\": [\n          1.394530971844991,\n          1.4004085063934326,\n          1.4845893780390422\n        ],\n        \"semantic_type\": \"\",\n        \"description\": \"\"\n      }\n    },\n    {\n      \"column\": \"CARE-GNN-Plus-3 layers\",\n      \"properties\": {\n        \"dtype\": \"number\",\n        \"std\": 0.045323300615556235,\n        \"min\": 1.351391116778056,\n        \"max\": 1.5050698518753052,\n        \"num_unique_values\": 15,\n        \"samples\": [\n          1.3985981941223145,\n          1.3665657838185628,\n          1.4869871139526367\n        ],\n        \"semantic_type\": \"\",\n        \"description\": \"\"\n      }\n    }\n  ]\n}"
            }
          },
          "metadata": {},
          "execution_count": 75
        }
      ]
    },
    {
      "cell_type": "code",
      "source": [
        "import matplotlib.pyplot as plt\n",
        "\n",
        "# Plot the dataframe with specified figure size\n",
        "plt.figure(figsize=(8, 4))\n",
        "\n",
        "# Define colors and markers for each column\n",
        "colors = ['blue', 'red', 'green', 'orange', 'purple', 'brown', 'pink', 'gray']\n",
        "markers = ['o', 's', '^', 'D', 'v', '<', '>', 'p']\n",
        "\n",
        "# Plot each column with different color and marker\n",
        "for i, column in enumerate(df_train_losses.columns):\n",
        "    plt.plot(df_train_losses[column],\n",
        "             color=colors[i % len(colors)],\n",
        "             marker=markers[i % len(markers)],\n",
        "             label=column,\n",
        "             markersize=4,\n",
        "             linewidth=1.5)\n",
        "\n",
        "# Add labels and title\n",
        "plt.xlabel(\"Epoch\")\n",
        "plt.ylabel(\"Loss\")\n",
        "plt.title(\"Training Losses Over Time\")\n",
        "\n",
        "# Add legend and grid\n",
        "plt.legend()\n",
        "plt.grid(True)\n",
        "\n",
        "# Show the plot\n",
        "plt.show()"
      ],
      "metadata": {
        "colab": {
          "base_uri": "https://localhost:8080/",
          "height": 409
        },
        "id": "23i0UCNG1e0h",
        "outputId": "b8a6fe05-4ab1-4167-90a6-31537a3d87b8"
      },
      "execution_count": 76,
      "outputs": [
        {
          "output_type": "display_data",
          "data": {
            "text/plain": [
              "<Figure size 800x400 with 1 Axes>"
            ],
            "image/png": "[encoded data removed]"
          },
          "metadata": {}
        }
      ]
    },
    {
      "cell_type": "code",
      "source": [
        "df_auc_recall = pd.DataFrame({\n",
        "    'Model': ['CARE-GNN', 'CARE-GNN-SDG', 'CARE-GNN-Plus-2 layers', 'CARE-GNN-Plus-3 layers'],\n",
        "    'AUC': [gnn_auc, gnn_auc_base, gnn_auc_2l, gnn_auc_3l],\n",
        "    'Recall': [gnn_recall, gnn_recall_base, gnn_recall_2l, gnn_recall_3l]\n",
        "})\n",
        "\n",
        "\n"
      ],
      "metadata": {
        "id": "45tpZf1g1LaB"
      },
      "execution_count": 77,
      "outputs": []
    },
    {
      "cell_type": "code",
      "source": [
        "df_auc_recall"
      ],
      "metadata": {
        "colab": {
          "base_uri": "https://localhost:8080/",
          "height": 170
        },
        "id": "6WaMs2Bw31eS",
        "outputId": "ef6c5746-d6da-45d4-e499-641def5e6c2e"
      },
      "execution_count": 78,
      "outputs": [
        {
          "output_type": "execute_result",
          "data": {
            "text/plain": [
              "                    Model       AUC    Recall\n",
              "0                CARE-GNN  0.943105  0.889906\n",
              "1            CARE-GNN-SDG  0.941890  0.890369\n",
              "2  CARE-GNN-Plus-2 layers  0.920300  0.886933\n",
              "3  CARE-GNN-Plus-3 layers  0.926456  0.887168"
            ],
            "text/html": [
              "\n",
              "  <div id=\"df-018b6540-f0ae-4efc-8fd1-6a6423b2bb96\" class=\"colab-df-container\">\n",
              "    <div>\n",
              "<style scoped>\n",
              "    .dataframe tbody tr th:only-of-type {\n",
              "        vertical-align: middle;\n",
              "    }\n",
              "\n",
              "    .dataframe tbody tr th {\n",
              "        vertical-align: top;\n",
              "    }\n",
              "\n",
              "    .dataframe thead th {\n",
              "        text-align: right;\n",
              "    }\n",
              "</style>\n",
              "<table border=\"1\" class=\"dataframe\">\n",
              "  <thead>\n",
              "    <tr style=\"text-align: right;\">\n",
              "      <th></th>\n",
              "      <th>Model</th>\n",
              "      <th>AUC</th>\n",
              "      <th>Recall</th>\n",
              "    </tr>\n",
              "  </thead>\n",
              "  <tbody>\n",
              "    <tr>\n",
              "      <th>0</th>\n",
              "      <td>CARE-GNN</td>\n",
              "      <td>0.943105</td>\n",
              "      <td>0.889906</td>\n",
              "    </tr>\n",
              "    <tr>\n",
              "      <th>1</th>\n",
              "      <td>CARE-GNN-SDG</td>\n",
              "      <td>0.941890</td>\n",
              "      <td>0.890369</td>\n",
              "    </tr>\n",
              "    <tr>\n",
              "      <th>2</th>\n",
              "      <td>CARE-GNN-Plus-2 layers</td>\n",
              "      <td>0.920300</td>\n",
              "      <td>0.886933</td>\n",
              "    </tr>\n",
              "    <tr>\n",
              "      <th>3</th>\n",
              "      <td>CARE-GNN-Plus-3 layers</td>\n",
              "      <td>0.926456</td>\n",
              "      <td>0.887168</td>\n",
              "    </tr>\n",
              "  </tbody>\n",
              "</table>\n",
              "</div>\n",
              "    <div class=\"colab-df-buttons\">\n",
              "\n",
              "  <div class=\"colab-df-container\">\n",
              "    <button class=\"colab-df-convert\" onclick=\"convertToInteractive('df-018b6540-f0ae-4efc-8fd1-6a6423b2bb96')\"\n",
              "            title=\"Convert this dataframe to an interactive table.\"\n",
              "            style=\"display:none;\">\n",
              "\n",
              "  <svg xmlns=\"http://www.w3.org/2000/svg\" height=\"24px\" viewBox=\"0 -960 960 960\">\n",
              "    <path d=\"M120-120v-720h720v720H120Zm60-500h600v-160H180v160Zm220 220h160v-160H400v160Zm0 220h160v-160H400v160ZM180-400h160v-160H180v160Zm440 0h160v-160H620v160ZM180-180h160v-160H180v160Zm440 0h160v-160H620v160Z\"/>\n",
              "  </svg>\n",
              "    </button>\n",
              "\n",
              "  <style>\n",
              "    .colab-df-container {\n",
              "      display:flex;\n",
              "      gap: 12px;\n",
              "    }\n",
              "\n",
              "    .colab-df-convert {\n",
              "      background-color: #E8F0FE;\n",
              "      border: none;\n",
              "      border-radius: 50%;\n",
              "      cursor: pointer;\n",
              "      display: none;\n",
              "      fill: #1967D2;\n",
              "      height: 32px;\n",
              "      padding: 0 0 0 0;\n",
              "      width: 32px;\n",
              "    }\n",
              "\n",
              "    .colab-df-convert:hover {\n",
              "      background-color: #E2EBFA;\n",
              "      box-shadow: 0px 1px 2px rgba(60, 64, 67, 0.3), 0px 1px 3px 1px rgba(60, 64, 67, 0.15);\n",
              "      fill: #174EA6;\n",
              "    }\n",
              "\n",
              "    .colab-df-buttons div {\n",
              "      margin-bottom: 4px;\n",
              "    }\n",
              "\n",
              "    [theme=dark] .colab-df-convert {\n",
              "      background-color: #3B4455;\n",
              "      fill: #D2E3FC;\n",
              "    }\n",
              "\n",
              "    [theme=dark] .colab-df-convert:hover {\n",
              "      background-color: #434B5C;\n",
              "      box-shadow: 0px 1px 3px 1px rgba(0, 0, 0, 0.15);\n",
              "      filter: drop-shadow(0px 1px 2px rgba(0, 0, 0, 0.3));\n",
              "      fill: #FFFFFF;\n",
              "    }\n",
              "  </style>\n",
              "\n",
              "    <script>\n",
              "      const buttonEl =\n",
              "        document.querySelector('#df-018b6540-f0ae-4efc-8fd1-6a6423b2bb96 button.colab-df-convert');\n",
              "      buttonEl.style.display =\n",
              "        google.colab.kernel.accessAllowed ? 'block' : 'none';\n",
              "\n",
              "      async function convertToInteractive(key) {\n",
              "        const element = document.querySelector('#df-018b6540-f0ae-4efc-8fd1-6a6423b2bb96');\n",
              "        const dataTable =\n",
              "          await google.colab.kernel.invokeFunction('convertToInteractive',\n",
              "                                                    [key], {});\n",
              "        if (!dataTable) return;\n",
              "\n",
              "        const docLinkHtml = 'Like what you see? Visit the ' +\n",
              "          '<a target=\"_blank\" href=https://colab.research.google.com/notebooks/data_table.ipynb>data table notebook</a>'\n",
              "          + ' to learn more about interactive tables.';\n",
              "        element.innerHTML = '';\n",
              "        dataTable['output_type'] = 'display_data';\n",
              "        await google.colab.output.renderOutput(dataTable, element);\n",
              "        const docLink = document.createElement('div');\n",
              "        docLink.innerHTML = docLinkHtml;\n",
              "        element.appendChild(docLink);\n",
              "      }\n",
              "    </script>\n",
              "  </div>\n",
              "\n",
              "\n",
              "    <div id=\"df-04faa369-19ca-4491-a886-9c1987b3cdb2\">\n",
              "      <button class=\"colab-df-quickchart\" onclick=\"quickchart('df-04faa369-19ca-4491-a886-9c1987b3cdb2')\"\n",
              "                title=\"Suggest charts\"\n",
              "                style=\"display:none;\">\n",
              "\n",
              "<svg xmlns=\"http://www.w3.org/2000/svg\" height=\"24px\"viewBox=\"0 0 24 24\"\n",
              "     width=\"24px\">\n",
              "    <g>\n",
              "        <path d=\"M19 3H5c-1.1 0-2 .9-2 2v14c0 1.1.9 2 2 2h14c1.1 0 2-.9 2-2V5c0-1.1-.9-2-2-2zM9 17H7v-7h2v7zm4 0h-2V7h2v10zm4 0h-2v-4h2v4z\"/>\n",
              "    </g>\n",
              "</svg>\n",
              "      </button>\n",
              "\n",
              "<style>\n",
              "  .colab-df-quickchart {\n",
              "      --bg-color: #E8F0FE;\n",
              "      --fill-color: #1967D2;\n",
              "      --hover-bg-color: #E2EBFA;\n",
              "      --hover-fill-color: #174EA6;\n",
              "      --disabled-fill-color: #AAA;\n",
              "      --disabled-bg-color: #DDD;\n",
              "  }\n",
              "\n",
              "  [theme=dark] .colab-df-quickchart {\n",
              "      --bg-color: #3B4455;\n",
              "      --fill-color: #D2E3FC;\n",
              "      --hover-bg-color: #434B5C;\n",
              "      --hover-fill-color: #FFFFFF;\n",
              "      --disabled-bg-color: #3B4455;\n",
              "      --disabled-fill-color: #666;\n",
              "  }\n",
              "\n",
              "  .colab-df-quickchart {\n",
              "    background-color: var(--bg-color);\n",
              "    border: none;\n",
              "    border-radius: 50%;\n",
              "    cursor: pointer;\n",
              "    display: none;\n",
              "    fill: var(--fill-color);\n",
              "    height: 32px;\n",
              "    padding: 0;\n",
              "    width: 32px;\n",
              "  }\n",
              "\n",
              "  .colab-df-quickchart:hover {\n",
              "    background-color: var(--hover-bg-color);\n",
              "    box-shadow: 0 1px 2px rgba(60, 64, 67, 0.3), 0 1px 3px 1px rgba(60, 64, 67, 0.15);\n",
              "    fill: var(--button-hover-fill-color);\n",
              "  }\n",
              "\n",
              "  .colab-df-quickchart-complete:disabled,\n",
              "  .colab-df-quickchart-complete:disabled:hover {\n",
              "    background-color: var(--disabled-bg-color);\n",
              "    fill: var(--disabled-fill-color);\n",
              "    box-shadow: none;\n",
              "  }\n",
              "\n",
              "  .colab-df-spinner {\n",
              "    border: 2px solid var(--fill-color);\n",
              "    border-color: transparent;\n",
              "    border-bottom-color: var(--fill-color);\n",
              "    animation:\n",
              "      spin 1s steps(1) infinite;\n",
              "  }\n",
              "\n",
              "  @keyframes spin {\n",
              "    0% {\n",
              "      border-color: transparent;\n",
              "      border-bottom-color: var(--fill-color);\n",
              "      border-left-color: var(--fill-color);\n",
              "    }\n",
              "    20% {\n",
              "      border-color: transparent;\n",
              "      border-left-color: var(--fill-color);\n",
              "      border-top-color: var(--fill-color);\n",
              "    }\n",
              "    30% {\n",
              "      border-color: transparent;\n",
              "      border-left-color: var(--fill-color);\n",
              "      border-top-color: var(--fill-color);\n",
              "      border-right-color: var(--fill-color);\n",
              "    }\n",
              "    40% {\n",
              "      border-color: transparent;\n",
              "      border-right-color: var(--fill-color);\n",
              "      border-top-color: var(--fill-color);\n",
              "    }\n",
              "    60% {\n",
              "      border-color: transparent;\n",
              "      border-right-color: var(--fill-color);\n",
              "    }\n",
              "    80% {\n",
              "      border-color: transparent;\n",
              "      border-right-color: var(--fill-color);\n",
              "      border-bottom-color: var(--fill-color);\n",
              "    }\n",
              "    90% {\n",
              "      border-color: transparent;\n",
              "      border-bottom-color: var(--fill-color);\n",
              "    }\n",
              "  }\n",
              "</style>\n",
              "\n",
              "      <script>\n",
              "        async function quickchart(key) {\n",
              "          const quickchartButtonEl =\n",
              "            document.querySelector('#' + key + ' button');\n",
              "          quickchartButtonEl.disabled = true;  // To prevent multiple clicks.\n",
              "          quickchartButtonEl.classList.add('colab-df-spinner');\n",
              "          try {\n",
              "            const charts = await google.colab.kernel.invokeFunction(\n",
              "                'suggestCharts', [key], {});\n",
              "          } catch (error) {\n",
              "            console.error('Error during call to suggestCharts:', error);\n",
              "          }\n",
              "          quickchartButtonEl.classList.remove('colab-df-spinner');\n",
              "          quickchartButtonEl.classList.add('colab-df-quickchart-complete');\n",
              "        }\n",
              "        (() => {\n",
              "          let quickchartButtonEl =\n",
              "            document.querySelector('#df-04faa369-19ca-4491-a886-9c1987b3cdb2 button');\n",
              "          quickchartButtonEl.style.display =\n",
              "            google.colab.kernel.accessAllowed ? 'block' : 'none';\n",
              "        })();\n",
              "      </script>\n",
              "    </div>\n",
              "\n",
              "  <div id=\"id_2cdae775-8b0c-456f-a8ca-04e15fb0dd33\">\n",
              "    <style>\n",
              "      .colab-df-generate {\n",
              "        background-color: #E8F0FE;\n",
              "        border: none;\n",
              "        border-radius: 50%;\n",
              "        cursor: pointer;\n",
              "        display: none;\n",
              "        fill: #1967D2;\n",
              "        height: 32px;\n",
              "        padding: 0 0 0 0;\n",
              "        width: 32px;\n",
              "      }\n",
              "\n",
              "      .colab-df-generate:hover {\n",
              "        background-color: #E2EBFA;\n",
              "        box-shadow: 0px 1px 2px rgba(60, 64, 67, 0.3), 0px 1px 3px 1px rgba(60, 64, 67, 0.15);\n",
              "        fill: #174EA6;\n",
              "      }\n",
              "\n",
              "      [theme=dark] .colab-df-generate {\n",
              "        background-color: #3B4455;\n",
              "        fill: #D2E3FC;\n",
              "      }\n",
              "\n",
              "      [theme=dark] .colab-df-generate:hover {\n",
              "        background-color: #434B5C;\n",
              "        box-shadow: 0px 1px 3px 1px rgba(0, 0, 0, 0.15);\n",
              "        filter: drop-shadow(0px 1px 2px rgba(0, 0, 0, 0.3));\n",
              "        fill: #FFFFFF;\n",
              "      }\n",
              "    </style>\n",
              "    <button class=\"colab-df-generate\" onclick=\"generateWithVariable('df_auc_recall')\"\n",
              "            title=\"Generate code using this dataframe.\"\n",
              "            style=\"display:none;\">\n",
              "\n",
              "  <svg xmlns=\"http://www.w3.org/2000/svg\" height=\"24px\"viewBox=\"0 0 24 24\"\n",
              "       width=\"24px\">\n",
              "    <path d=\"M7,19H8.4L18.45,9,17,7.55,7,17.6ZM5,21V16.75L18.45,3.32a2,2,0,0,1,2.83,0l1.4,1.43a1.91,1.91,0,0,1,.58,1.4,1.91,1.91,0,0,1-.58,1.4L9.25,21ZM18.45,9,17,7.55Zm-12,3A5.31,5.31,0,0,0,4.9,8.1,5.31,5.31,0,0,0,1,6.5,5.31,5.31,0,0,0,4.9,4.9,5.31,5.31,0,0,0,6.5,1,5.31,5.31,0,0,0,8.1,4.9,5.31,5.31,0,0,0,12,6.5,5.46,5.46,0,0,0,6.5,12Z\"/>\n",
              "  </svg>\n",
              "    </button>\n",
              "    <script>\n",
              "      (() => {\n",
              "      const buttonEl =\n",
              "        document.querySelector('#id_2cdae775-8b0c-456f-a8ca-04e15fb0dd33 button.colab-df-generate');\n",
              "      buttonEl.style.display =\n",
              "        google.colab.kernel.accessAllowed ? 'block' : 'none';\n",
              "\n",
              "      buttonEl.onclick = () => {\n",
              "        google.colab.notebook.generateWithVariable('df_auc_recall');\n",
              "      }\n",
              "      })();\n",
              "    </script>\n",
              "  </div>\n",
              "\n",
              "    </div>\n",
              "  </div>\n"
            ],
            "application/vnd.google.colaboratory.intrinsic+json": {
              "type": "dataframe",
              "variable_name": "df_auc_recall",
              "summary": "{\n  \"name\": \"df_auc_recall\",\n  \"rows\": 4,\n  \"fields\": [\n    {\n      \"column\": \"Model\",\n      \"properties\": {\n        \"dtype\": \"string\",\n        \"num_unique_values\": 4,\n        \"samples\": [\n          \"CARE-GNN-SDG\",\n          \"CARE-GNN-Plus-3 layers\",\n          \"CARE-GNN\"\n        ],\n        \"semantic_type\": \"\",\n        \"description\": \"\"\n      }\n    },\n    {\n      \"column\": \"AUC\",\n      \"properties\": {\n        \"dtype\": \"number\",\n        \"std\": 0.011331835397842084,\n        \"min\": 0.9203001042521111,\n        \"max\": 0.9431045509008447,\n        \"num_unique_values\": 4,\n        \"samples\": [\n          0.941889933812233,\n          0.9264557784683718,\n          0.9431045509008447\n        ],\n        \"semantic_type\": \"\",\n        \"description\": \"\"\n      }\n    },\n    {\n      \"column\": \"Recall\",\n      \"properties\": {\n        \"dtype\": \"number\",\n        \"std\": 0.00179468510165389,\n        \"min\": 0.8869331174583424,\n        \"max\": 0.8903685745018273,\n        \"num_unique_values\": 4,\n        \"samples\": [\n          0.8903685745018273,\n          0.8871679885832657,\n          0.8899060708126378\n        ],\n        \"semantic_type\": \"\",\n        \"description\": \"\"\n      }\n    }\n  ]\n}"
            }
          },
          "metadata": {},
          "execution_count": 78
        }
      ]
    },
    {
      "cell_type": "code",
      "source": [
        "#import matplotlib.pyplot as plt\n",
        "\n",
        "# Set the model names as index for easier plotting\n",
        "df_plot = df_auc_recall.set_index('Model')\n",
        "\n",
        "# Create bar plot with custom colors (flat list)\n",
        "plt.figure(figsize=(12, 6))\n",
        "ax1 = df_plot.plot(kind='bar', width=0.8,\n",
        "                   color=['#1f77b4', '#ff7f0e', '#2ca02c', '#d62728',\n",
        "                          '#9467bd', '#8c564b', '#e377c2', '#7f7f7f'])\n",
        "\n",
        "# Add value labels on bars\n",
        "for container in ax1.containers:\n",
        "    ax1.bar_label(container, fmt='%.4f', fontsize=9, rotation=0)\n",
        "\n",
        "plt.xlabel('Models')\n",
        "plt.ylabel('Score')\n",
        "plt.title('AUC and Recall Comparison Across Models')\n",
        "plt.legend()\n",
        "plt.xticks(rotation=45, ha='right')\n",
        "plt.grid(True, alpha=0.3)\n",
        "plt.tight_layout()\n",
        "plt.show()"
      ],
      "metadata": {
        "colab": {
          "base_uri": "https://localhost:8080/",
          "height": 503
        },
        "id": "CsAvAinY4M_O",
        "outputId": "cb00613d-97ff-4f6d-e99f-5e7f6613d5d0"
      },
      "execution_count": 79,
      "outputs": [
        {
          "output_type": "display_data",
          "data": {
            "text/plain": [
              "<Figure size 1200x600 with 0 Axes>"
            ]
          },
          "metadata": {}
        },
        {
          "output_type": "display_data",
          "data": {
            "text/plain": [
              "<Figure size 640x480 with 1 Axes>"
            ],
            "image/png": "[encoded data removed]"
          },
          "metadata": {}
        }
      ]
    }
  ]
}