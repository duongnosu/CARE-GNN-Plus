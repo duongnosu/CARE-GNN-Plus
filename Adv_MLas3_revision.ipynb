{
  "nbformat": 4,
  "nbformat_minor": 0,
  "metadata": {
    "colab": {
      "provenance": [],
      "collapsed_sections": [
        "tBh5llaNjOGM",
        "LyNZgQxzjiXE",
        "4Q8z6yZvMvtN",
        "HF6fa-f3MytY",
        "f1tUD_m5M6ke",
        "2KRPlsQLNCuZ",
        "ybKIwzBwNKDJ",
        "DNc2SVDMNZYZ"
      ]
    },
    "kernelspec": {
      "name": "python3",
      "display_name": "Python 3"
    },
    "language_info": {
      "name": "python"
    }
  },
  "cells": [
    {
      "cell_type": "markdown",
      "source": [],
      "metadata": {
        "id": "H_yb6tuXirnJ"
      }
    },
    {
      "cell_type": "markdown",
      "source": [
        "Amazon Fraud Detection using CARE-GNN Implementation\n",
        "\n",
        "This module implements fraud detection on the Amazon dataset using the CAmouflage-REsistant\n",
        "Graph Neural Network (CARE-GNN) approach. The implementation focuses on detecting fraudulent\n",
        "users in a multi-relation graph environment where fraudsters may employ camouflage techniques.\n",
        "\n",
        "Based on the paper: \"Enhancing Graph Neural Network-based Fraud Detectors against\n",
        "Camouflaged Fraudsters\" by Dou et al. (CIKM 2020)\n",
        "\n",
        "Key Features:\n",
        "- Multi-relation graph construction (User-Product-User, User-Service-User, User-View-User)\n",
        "- Feature normalization and preprocessing\n",
        "- Visualization of dataset statistics\n",
        "- Preparation for CARE-GNN training"
      ],
      "metadata": {
        "id": "dwOICiy-issp"
      }
    },
    {
      "cell_type": "code",
      "execution_count": 1,
      "metadata": {
        "colab": {
          "base_uri": "https://localhost:8080/"
        },
        "id": "0wfkNRusKnBr",
        "outputId": "dccf5060-8e4e-41be-a815-18704f6dd649"
      },
      "outputs": [
        {
          "output_type": "stream",
          "name": "stdout",
          "text": [
            "Cloning into 'CARE-GNN'...\n",
            "remote: Enumerating objects: 84, done.\u001b[K\n",
            "remote: Counting objects: 100% (36/36), done.\u001b[K\n",
            "remote: Compressing objects: 100% (19/19), done.\u001b[K\n",
            "remote: Total 84 (delta 22), reused 19 (delta 17), pack-reused 48 (from 1)\u001b[K\n",
            "Receiving objects: 100% (84/84), 39.73 MiB | 13.07 MiB/s, done.\n",
            "Resolving deltas: 100% (35/35), done.\n"
          ]
        }
      ],
      "source": [
        "!git clone https://github.com/YingtongDou/CARE-GNN.git"
      ]
    },
    {
      "cell_type": "code",
      "source": [
        "from google.colab import drive\n",
        "drive.mount('/content/drive')"
      ],
      "metadata": {
        "colab": {
          "base_uri": "https://localhost:8080/"
        },
        "id": "UO08dg1VKzCy",
        "outputId": "f52ed02b-0795-499c-c90f-4932d87fead9"
      },
      "execution_count": 3,
      "outputs": [
        {
          "output_type": "stream",
          "name": "stdout",
          "text": [
            "Mounted at /content/drive\n"
          ]
        }
      ]
    },
    {
      "cell_type": "code",
      "source": [
        "cd CARE-GNN"
      ],
      "metadata": {
        "colab": {
          "base_uri": "https://localhost:8080/"
        },
        "id": "WH97NDJQK9fz",
        "outputId": "b1742e87-48df-47ae-db97-78591b95b3a3"
      },
      "execution_count": 6,
      "outputs": [
        {
          "output_type": "stream",
          "name": "stdout",
          "text": [
            "/content/CARE-GNN\n"
          ]
        }
      ]
    },
    {
      "cell_type": "code",
      "source": [],
      "metadata": {
        "colab": {
          "base_uri": "https://localhost:8080/"
        },
        "id": "L5Iw8z4iLMtv",
        "outputId": "2d76c5b0-0fdb-4d3f-cec1-72eec451a129"
      },
      "execution_count": 7,
      "outputs": [
        {
          "output_type": "stream",
          "name": "stdout",
          "text": [
            "Archive:  data/Amazon.zip\n",
            "  inflating: Amazon.mat              \n"
          ]
        }
      ]
    },
    {
      "cell_type": "code",
      "source": [
        "!unzip Amazon.zip"
      ],
      "metadata": {
        "colab": {
          "base_uri": "https://localhost:8080/"
        },
        "id": "zcU4lkJxLYty",
        "outputId": "7a5493eb-ba42-41f8-e13e-18d42fe3bec1"
      },
      "execution_count": 17,
      "outputs": [
        {
          "output_type": "stream",
          "name": "stdout",
          "text": [
            "Archive:  Amazon.zip\n",
            "  inflating: Amazon.mat              \n"
          ]
        }
      ]
    },
    {
      "cell_type": "code",
      "source": [
        "cd .."
      ],
      "metadata": {
        "colab": {
          "base_uri": "https://localhost:8080/"
        },
        "id": "PjrydyBgLquk",
        "outputId": "42af2e43-f75e-4bdc-ffd3-c8082df30542"
      },
      "execution_count": 19,
      "outputs": [
        {
          "output_type": "stream",
          "name": "stdout",
          "text": [
            "/content/CARE-GNN\n"
          ]
        }
      ]
    },
    {
      "cell_type": "code",
      "source": [
        "!python3 data_process.py"
      ],
      "metadata": {
        "id": "mEmVUDyVLTAU"
      },
      "execution_count": 20,
      "outputs": []
    },
    {
      "cell_type": "code",
      "source": [
        "import numpy as np\n",
        "import torch\n",
        "import torch.nn as nn\n",
        "from scipy.io import loadmat\n",
        "import pickle\n",
        "import matplotlib.pyplot as plt\n",
        "from sklearn.model_selection import train_test_split\n",
        "import networkx as nx\n",
        "import random\n",
        "from matplotlib.patches import Patch\n",
        "\n",
        "from torch.nn import init\n",
        "import torch.nn.functional as F\n",
        "from torch.autograd import Variable\n",
        "from operator import itemgetter\n",
        "import math\n",
        "\n",
        "# Import your existing modules\n",
        "from model import OneLayerCARE\n",
        "from layers import IntraAgg, InterAgg\n",
        "from utils import normalize, pos_neg_split, undersample, test_care\n",
        "\n",
        "\n",
        "# Set seeds for reproducibility\n",
        "np.random.seed(42)\n",
        "torch.manual_seed(42)\n",
        "random.seed(42)\n"
      ],
      "metadata": {
        "id": "lpsVXNveMDet"
      },
      "execution_count": 55,
      "outputs": []
    },
    {
      "cell_type": "code",
      "source": [
        "print(\"=== Amazon Fraud Detection Dataset ===\")\n",
        "\n",
        "# Load public dataset of Amazon.mat file directly\n",
        "data_file = loadmat('Amazon.mat')\n",
        "labels = data_file['label'].flatten() # Binary labels: 0=benign, 1=fraudulent\n",
        "feat_data = data_file['features'].todense().A # Convert sparse matrix to dense array\n",
        "\n",
        "\n",
        "\n",
        "# Load the preprocessed adjacency lists for different user relations\n",
        "# These represent different ways users can be connected in the fraud detection graph\n",
        "\n",
        "# User-Product-User relation: connects users who reviewed the same products\n",
        "with open('amz_upu_adjlists.pickle', 'rb') as f:\n",
        "    relation1 = pickle.load(f)  # User-Product-User\n",
        "\n",
        "# User-Service-User relation: connects users with similar service interactions\n",
        "with open('amz_usu_adjlists.pickle', 'rb') as f:\n",
        "    relation2 = pickle.load(f)  # User-Service-User\n",
        "\n",
        "# User-View-User relation: connects users with similar viewing/rating patterns\n",
        "with open('amz_uvu_adjlists.pickle', 'rb') as f:\n",
        "    relation3 = pickle.load(f)  # User-View-User\n",
        "\n",
        "# Create homogeneous adjacency list (combine all relations)\n",
        "homo = data_file['homo']\n",
        "\n",
        "print(f\"Dataset Statistics:\")\n",
        "print(f\"Total nodes: {len(labels)}\") # Total number of users in the dataset\n",
        "print(f\"Fraudulent users: {np.sum(labels == 1)} ({np.mean(labels==1)*100:.2f}%)\")  # Count and percentage of fraudsters\n",
        "print(f\"Feature dimensions: {feat_data.shape}\") # Shape of feature matrix (users x features)\n",
        "\n",
        "print(f\"\\nRelation Statistics:\")\n",
        "print(f\"User-Product-User nodes: {len(relation1)}\")\n",
        "print(f\"User-Service-User nodes: {len(relation2)}\")\n",
        "print(f\"User-View-User nodes: {len(relation3)}\")\n",
        "\n",
        "print(f\"\\n=== Feature Preprocessing ===\")\n",
        "# Normalize feature data to improve training stability and convergence\n",
        "# This is crucial for neural networks to handle features with different scales\n",
        "feat_data_normalized = normalize(feat_data)\n",
        "\n",
        "# Create PyTorch embedding layer for efficient feature processing\n",
        "# The embedding layer allows for fast lookup of user features during training\n",
        "features = nn.Embedding(feat_data.shape[0], feat_data.shape[1])\n",
        "features.weight = nn.Parameter(torch.FloatTensor(feat_data_normalized), requires_grad=False) # requires_grad=False because user features are fixed (not trainable parameters)\n",
        "\n",
        "# Organize adjacency lists for multi-relation graph processing\n",
        "# Each relation represents a different type of connection between users\n",
        "adj_lists = [relation1, relation2, relation3]\n",
        "print(\"✅ Features normalized and prepared\")\n",
        "print(\"✅ Adjacency lists organized\")\n",
        "\n",
        "# Visualize class distribution\n",
        "plt.figure(figsize=(8, 4))\n",
        "plt.bar(['Benign', 'Fraudulent'], [np.sum(labels == 0), np.sum(labels == 1)])\n",
        "plt.title('Class Distribution in Amazon Dataset')\n",
        "plt.ylabel('Number of Users')\n",
        "plt.show()"
      ],
      "metadata": {
        "colab": {
          "base_uri": "https://localhost:8080/",
          "height": 217
        },
        "id": "QU7zN39SMNRS",
        "outputId": "137b3b3c-0ce8-4bbd-a57b-36e18752b1a5"
      },
      "execution_count": 56,
      "outputs": [
        {
          "output_type": "stream",
          "name": "stdout",
          "text": [
            "=== Amazon Fraud Detection Dataset ===\n"
          ]
        },
        {
          "output_type": "error",
          "ename": "FileNotFoundError",
          "evalue": "[Errno 2] No such file or directory: 'amz_upu_adjlists.pickle'",
          "traceback": [
            "\u001b[0;31m---------------------------------------------------------------------------\u001b[0m",
            "\u001b[0;31mFileNotFoundError\u001b[0m                         Traceback (most recent call last)",
            "\u001b[0;32m<ipython-input-56-2142198efc63>\u001b[0m in \u001b[0;36m<cell line: 0>\u001b[0;34m()\u001b[0m\n\u001b[1;32m     12\u001b[0m \u001b[0;34m\u001b[0m\u001b[0m\n\u001b[1;32m     13\u001b[0m \u001b[0;31m# User-Product-User relation: connects users who reviewed the same products\u001b[0m\u001b[0;34m\u001b[0m\u001b[0;34m\u001b[0m\u001b[0m\n\u001b[0;32m---> 14\u001b[0;31m \u001b[0;32mwith\u001b[0m \u001b[0mopen\u001b[0m\u001b[0;34m(\u001b[0m\u001b[0;34m'amz_upu_adjlists.pickle'\u001b[0m\u001b[0;34m,\u001b[0m \u001b[0;34m'rb'\u001b[0m\u001b[0;34m)\u001b[0m \u001b[0;32mas\u001b[0m \u001b[0mf\u001b[0m\u001b[0;34m:\u001b[0m\u001b[0;34m\u001b[0m\u001b[0;34m\u001b[0m\u001b[0m\n\u001b[0m\u001b[1;32m     15\u001b[0m     \u001b[0mrelation1\u001b[0m \u001b[0;34m=\u001b[0m \u001b[0mpickle\u001b[0m\u001b[0;34m.\u001b[0m\u001b[0mload\u001b[0m\u001b[0;34m(\u001b[0m\u001b[0mf\u001b[0m\u001b[0;34m)\u001b[0m  \u001b[0;31m# User-Product-User\u001b[0m\u001b[0;34m\u001b[0m\u001b[0;34m\u001b[0m\u001b[0m\n\u001b[1;32m     16\u001b[0m \u001b[0;34m\u001b[0m\u001b[0m\n",
            "\u001b[0;31mFileNotFoundError\u001b[0m: [Errno 2] No such file or directory: 'amz_upu_adjlists.pickle'"
          ]
        }
      ]
    },
    {
      "cell_type": "code",
      "source": [
        "# =========================================================================\n",
        "# Graph Structure Visualization\n",
        "# =========================================================================\n",
        "\n",
        "\n",
        "print(\"=== Example of Graph Structure Visualization ===\")\n",
        "\n",
        "# Load the User-Product-User (UPU) adjacency list data\n",
        "# UPU relation connects users who have reviewed the same products\n",
        "with open(\"amz_upu_adjlists.pickle\", \"rb\") as f:\n",
        "    adjlist = pickle.load(f)\n",
        "\n",
        "# Build NetworkX graph from UPU relation\n",
        "# Each node represents a user, edges connect users who reviewed same products\n",
        "G = nx.Graph()\n",
        "for node, neighbors in adjlist.items():\n",
        "    for neighbor in neighbors:\n",
        "        if node != neighbor: # To avoid self-loops\n",
        "            G.add_edge(node, neighbor)\n",
        "\n",
        "# Extract Largest Connected Component\n",
        "# Focus on the main connected component where most fraud activity occurs\n",
        "largest_cc = max(nx.connected_components(G), key=len)\n",
        "subG = G.subgraph(largest_cc).copy()\n",
        "\n",
        "def sample_fraud_subgraph(graph, labels, radius=1, target_size=25):\n",
        "    \"\"\"\n",
        "    Sample a subgraph centered on a fraudulent user for visualization.\n",
        "\n",
        "    Purpose: Create a manageable visualization that shows fraud patterns\n",
        "    Strategy:\n",
        "    - Start with a fraudulent user as center (ego node)\n",
        "    - Include their neighborhood to show fraud clustering\n",
        "    - Limit size for clear visualization\n",
        "\n",
        "    Args:\n",
        "        graph: NetworkX graph to sample from\n",
        "        labels: Dictionary mapping node_id -> label (0=benign, 1=fraud)\n",
        "        radius: How many hops to include (1=direct neighbors only)\n",
        "        target_size: Maximum nodes to include for clear visualization\n",
        "\n",
        "    Returns:\n",
        "        ego_node: The center fraudulent user\n",
        "        ego_subG: Sampled subgraph around the center user\n",
        "    \"\"\"\n",
        "    # Find all fraudulent users in the graph\n",
        "    fraud_nodes = [node for node in graph.nodes() if labels[node]==1]\n",
        "\n",
        "    # Filter to fraud nodes with reasonable connectivity (5-30 connections)\n",
        "    # Too few connections = isolated, too many = visualization becomes messy\n",
        "    filtered_fraud_nodes = [n for n in fraud_nodes if 5 <= graph.degree(n) <= 30]\n",
        "\n",
        "    # Fallback to any fraud node if filtering removes all candidates\n",
        "    if not filtered_fraud_nodes:\n",
        "        filtered_fraud_nodes = fraud_nodes\n",
        "\n",
        "    # Randomly select a fraud node as the center for ego network analysis\n",
        "    ego_node = random.choice(filtered_fraud_nodes)\n",
        "\n",
        "    # Create ego graph: center node + all neighbors within 'radius' hops\n",
        "    # This shows local fraud patterns and how fraudsters connect to others\n",
        "    ego_subG = nx.ego_graph(graph, ego_node, radius=radius)\n",
        "\n",
        "    # Limit size for clear visualization\n",
        "    # If too many nodes, randomly sample while keeping the structure meaningful\n",
        "    if ego_subG.number_of_nodes() > target_size:\n",
        "        sampled_nodes = random.sample(list(ego_subG.nodes()), target_size)\n",
        "        ego_subG = ego_subG.subgraph(sampled_nodes).copy()\n",
        "\n",
        "    return ego_node, ego_subG\n",
        "\n",
        "def visualize_fraud_subgraph(subgraph, labels, ego_node):\n",
        "    \"\"\"\n",
        "    Create a visual representation of the fraud network structure.\n",
        "\n",
        "    Purpose: Show how fraudulent and benign users are connected\n",
        "    Key insights this reveals:\n",
        "    - Fraud clustering patterns (red nodes grouped together)\n",
        "    - Mixed fraud-benign connections (heterophilic edges)\n",
        "    - Network density that justifies GCN aggregation\n",
        "\n",
        "    Color scheme:\n",
        "    - Red: Fraudulent users (the targets we want to detect)\n",
        "    - Sky blue: Benign/legitimate users\n",
        "    - Larger nodes: Fraudulent users (emphasis on fraud patterns)\n",
        "    \"\"\"\n",
        "\n",
        "    # Red = fraudulent (what we want to detect)\n",
        "    # Sky blue = benign/legitimate users\n",
        "    colors = ['red' if labels[node]==1 else 'skyblue' for node in subgraph.nodes()]\n",
        "\n",
        "    # Size nodes based on fraud labels\n",
        "    # Larger fraud nodes help visualize fraud clustering patterns\n",
        "    sizes = [600 if labels[node]==1 else 300 for node in subgraph.nodes()]\n",
        "\n",
        "    plt.figure(figsize=(10, 8))\n",
        "\n",
        "    # k=1.5 provides good spacing, seed=42 for reproducible layouts\n",
        "    pos = nx.spring_layout(subgraph, seed=42, k=1.5)\n",
        "\n",
        "    # Draw edges and nodes\n",
        "    nx.draw_networkx_edges(subgraph, pos, edge_color='grey', alpha=0.6, width=1.2)\n",
        "    nx.draw_networkx_nodes(subgraph, pos, node_color=colors, node_size=sizes,\n",
        "                          alpha=0.9, edgecolors='black', linewidths=1)\n",
        "\n",
        "    # Draw node IDs\n",
        "    for node, (x, y) in pos.items():\n",
        "        plt.text(x, y, str(node), fontsize=9, ha='center', va='center',\n",
        "                color='white', weight='bold')\n",
        "\n",
        "    # Legend\n",
        "    legend_elements = [\n",
        "        Patch(facecolor='red', label='Fraudulent Users'),\n",
        "        Patch(facecolor='skyblue', label='Benign Users')\n",
        "    ]\n",
        "    plt.legend(handles=legend_elements, loc='upper right', fontsize=12)\n",
        "\n",
        "    plt.title(f'Example of User-Product-User (UPU) Relation Network\\n'\n",
        "              f'Ego Network centered on Fraudulent User {ego_node}',\n",
        "              fontsize=14, pad=20)\n",
        "    plt.axis('off')\n",
        "    plt.tight_layout()\n",
        "    plt.show()\n",
        "\n",
        "# Generate visualization\n",
        "print(\"Generating example UPU network visualization...\")\n",
        "ego_node, small_subG = sample_fraud_subgraph(subG, labels, radius=1, target_size=20)\n",
        "print(f\"\\nExample Ego Network (centered on fraudulent user {ego_node}):\")\n",
        "visualize_fraud_subgraph(small_subG, labels, ego_node)"
      ],
      "metadata": {
        "id": "5WowH4B1jIg2"
      },
      "execution_count": null,
      "outputs": []
    },
    {
      "cell_type": "code",
      "source": [
        "import torch\n",
        "import torch.nn as nn\n",
        "from torch.nn import init\n",
        "import torch.nn.functional as F\n",
        "from torch.autograd import Variable\n",
        "\n",
        "\n",
        "from operator import itemgetter\n",
        "import math"
      ],
      "metadata": {
        "id": "N8q_q-O1MtaF"
      },
      "execution_count": 24,
      "outputs": []
    },
    {
      "cell_type": "markdown",
      "source": [
        "# CARE-GNN Model Architecture Setup"
      ],
      "metadata": {
        "id": "tBh5llaNjOGM"
      }
    },
    {
      "cell_type": "markdown",
      "source": [],
      "metadata": {
        "id": "vP0zQC4TjS_-"
      }
    },
    {
      "cell_type": "code",
      "source": [
        "# =========================================================================\n",
        "# CARE-GNN Model Architecture Setup\n",
        "# =========================================================================\n",
        "# Purpose: Configure and initialize the complete CARE-GNN model architecture\n",
        "# This section builds the multi-relation graph neural network with adaptive\n",
        "# neighbor filtering for fraud detection on Amazon dataset\n",
        "# =========================================================================\n",
        "\n",
        "print(\"=== CARE-GNN Architecture ===\")\n",
        "\n",
        "# Core Architecture Parameters\n",
        "embed_dim = 64      # Output embedding dimension for node representations\n",
        "                    # - Controls model capacity and representation richness\n",
        "                    # - 64 dims balance expressiveness vs computational efficiency\n",
        "                    # - Sufficient for capturing fraud patterns in Amazon dataset\n",
        "\n",
        "# Reinforcement Learning Parameters\n",
        "step_size = 0.02    # RL action step size for adaptive threshold learning\n",
        "                    # - Controls how quickly thresholds adapt during training\n",
        "                    # - Smaller values = more stable but slower convergence\n",
        "                    # - 0.02 provides good balance for fraud detection tasks (from the repo.)\n",
        "\n",
        "# Loss Function Parameters\n",
        "lambda_1 = 2.0      # Weight for similarity loss in combined objective\n",
        "                    # - Balances GNN loss vs label-aware similarity loss\n",
        "                    # - lambda_1 > 1 emphasizes similarity learning (good for camouflaged fraud)\n",
        "                    # - Higher values help detect fraudsters who mimic legitimate behavior\n",
        "\n",
        "# Training Parameters\n",
        "batch_size = 256    # Number of nodes processed per training batch\n",
        "                    # - Balances memory usage vs gradient quality\n",
        "                    # - Larger batches = more stable gradients but higher memory\n",
        "                    # - 256 is optimal for most fraud detection datasets\n",
        "\n",
        "print(f\"Model Configuration:\")\n",
        "print(f\"- Embedding dimension: {embed_dim}\")\n",
        "print(f\"- RL step size: {step_size}\")\n",
        "print(f\"- Similarity loss weight: {lambda_1}\")\n",
        "print(f\"- Batch size: {batch_size}\")\n",
        "\n",
        "# Build CARE-GNN model , which follow the main githup repo https://github.com/YingtongDou/CARE-GNN\n",
        "intra1 = IntraAgg(features, feat_data.shape[1], cuda=False)\n",
        "intra2 = IntraAgg(features, feat_data.shape[1], cuda=False)\n",
        "intra3 = IntraAgg(features, feat_data.shape[1], cuda=False)\n",
        "\n",
        "inter = InterAgg(features, feat_data.shape[1], embed_dim, adj_lists,\n",
        "                 [intra1, intra2, intra3], inter='GNN', step_size=step_size, cuda=False)\n",
        "\n",
        "model = OneLayerCARE(num_classes=2, inter1=inter, lambda_1=lambda_1)\n",
        "\n",
        "print(f\"✅ CARE-GNN model built successfully!\")\n",
        "print(f\"Total parameters: {sum(p.numel() for p in model.parameters()):,}\")"
      ],
      "metadata": {
        "id": "8fVVyngUjWN-"
      },
      "execution_count": null,
      "outputs": []
    },
    {
      "cell_type": "markdown",
      "source": [
        "# Proposed CARE-GNN-Plus"
      ],
      "metadata": {
        "id": "LyNZgQxzjiXE"
      }
    },
    {
      "cell_type": "markdown",
      "source": [
        "## Layer"
      ],
      "metadata": {
        "id": "4Q8z6yZvMvtN"
      }
    },
    {
      "cell_type": "code",
      "source": [],
      "metadata": {
        "id": "ReiexM6VMxbK"
      },
      "execution_count": null,
      "outputs": []
    },
    {
      "cell_type": "markdown",
      "source": [
        "### Inter Relation Aggregator using GNN\n",
        "\n"
      ],
      "metadata": {
        "id": "HF6fa-f3MytY"
      }
    },
    {
      "cell_type": "code",
      "source": [
        "class InterAgg_leaky(nn.Module):\n",
        "\n",
        "\tdef __init__(self, features, feature_dim,\n",
        "\t\t\t\t embed_dim, adj_lists, intraggs,\n",
        "\t\t\t\t inter='GNN', step_size=0.02, cuda=True):\n",
        "\t\t\"\"\"\n",
        "\t\tInitialize the inter-relation aggregator\n",
        "\t\t:param features: the input node features or embeddings for all nodes\n",
        "\t\t:param feature_dim: the input dimension\n",
        "\t\t:param embed_dim: the output dimension\n",
        "\t\t:param adj_lists: a list of adjacency lists for each single-relation graph\n",
        "\t\t:param intraggs: the intra-relation aggregators used by each single-relation graph\n",
        "\t\t:param inter: the aggregator type: 'Att', 'Weight', 'Mean', 'GNN'\n",
        "\t\t:param step_size: the RL action step size\n",
        "\t\t:param cuda: whether to use GPU\n",
        "\t\t\"\"\"\n",
        "\t\tsuper(InterAgg_leaky, self).__init__()\n",
        "\n",
        "\t\tself.features = features\n",
        "\t\tself.dropout = 0.6\n",
        "\t\tself.adj_lists = adj_lists\n",
        "\t\tself.intra_agg1 = intraggs[0]\n",
        "\t\tself.intra_agg2 = intraggs[1]\n",
        "\t\tself.intra_agg3 = intraggs[2]\n",
        "\t\tself.embed_dim = embed_dim\n",
        "\t\tself.feat_dim = feature_dim\n",
        "\t\tself.inter = inter\n",
        "\t\tself.step_size = step_size\n",
        "\t\tself.cuda = cuda\n",
        "\t\tself.intra_agg1.cuda = cuda\n",
        "\t\tself.intra_agg2.cuda = cuda\n",
        "\t\tself.intra_agg3.cuda = cuda\n",
        "\n",
        "\t\t# RL condition flag\n",
        "\t\tself.RL = True\n",
        "\n",
        "\t\t# number of batches for current epoch, assigned during training\n",
        "\t\tself.batch_num = 0\n",
        "\n",
        "\t\t# initial filtering thresholds\n",
        "\t\tself.thresholds = [0.5, 0.5, 0.5]\n",
        "\n",
        "\t\t# the activation function used by attention mechanism\n",
        "\t\tself.leakyrelu = nn.LeakyReLU(0.2)\n",
        "\n",
        "\t\t# parameter used to transform node embeddings before inter-relation aggregation\n",
        "\t\tself.weight = nn.Parameter(torch.FloatTensor(self.feat_dim, self.embed_dim))\n",
        "\t\tinit.xavier_uniform_(self.weight)\n",
        "\n",
        "\t\t# weight parameter for each relation used by CARE-Weight\n",
        "\t\tself.alpha = nn.Parameter(torch.FloatTensor(self.embed_dim, 3))\n",
        "\t\tinit.xavier_uniform_(self.alpha)\n",
        "\n",
        "\t\t# parameters used by attention layer\n",
        "\t\tself.a = nn.Parameter(torch.FloatTensor(2 * self.embed_dim, 1))\n",
        "\t\tinit.xavier_uniform_(self.a)\n",
        "\n",
        "\t\t# label predictor for similarity measure\n",
        "\t\tself.label_clf = nn.Linear(self.feat_dim, 2)\n",
        "\n",
        "\t\t# initialize the parameter logs\n",
        "\t\tself.weights_log = []\n",
        "\t\tself.thresholds_log = [self.thresholds]\n",
        "\t\tself.relation_score_log = []\n",
        "\n",
        "\tdef forward(self, nodes, labels, train_flag=True):\n",
        "\t\t\"\"\"\n",
        "\t\t:param nodes: a list of batch node ids\n",
        "\t\t:param labels: a list of batch node labels, only used by the RLModule\n",
        "\t\t:param train_flag: indicates whether in training or testing mode\n",
        "\t\t:return combined: the embeddings of a batch of input node features\n",
        "\t\t:return center_scores: the label-aware scores of batch nodes\n",
        "\t\t\"\"\"\n",
        "\n",
        "\t\t# extract 1-hop neighbor ids from adj lists of each single-relation graph\n",
        "\t\tto_neighs = []\n",
        "\t\tfor adj_list in self.adj_lists:\n",
        "\t\t\tto_neighs.append([set(adj_list[int(node)]) for node in nodes])\n",
        "\n",
        "\t\t# find unique nodes and their neighbors used in current batch\n",
        "\t\tunique_nodes = set.union(set.union(*to_neighs[0]), set.union(*to_neighs[1]),\n",
        "\t\t\t\t\t\t\t\t set.union(*to_neighs[2], set(nodes)))\n",
        "\n",
        "\t\t# calculate label-aware scores\n",
        "\t\tif self.cuda:\n",
        "\t\t\tbatch_features = self.features(torch.cuda.LongTensor(list(unique_nodes)))\n",
        "\t\telse:\n",
        "\t\t\tbatch_features = self.features(torch.LongTensor(list(unique_nodes)))\n",
        "\t\tbatch_scores = self.label_clf(batch_features)\n",
        "\t\tid_mapping = {node_id: index for node_id, index in zip(unique_nodes, range(len(unique_nodes)))}\n",
        "\n",
        "\t\t# the label-aware scores for current batch of nodes\n",
        "\t\tcenter_scores = batch_scores[itemgetter(*nodes)(id_mapping), :]\n",
        "\n",
        "\t\t# get neighbor node id list for each batch node and relation\n",
        "\t\tr1_list = [list(to_neigh) for to_neigh in to_neighs[0]]\n",
        "\t\tr2_list = [list(to_neigh) for to_neigh in to_neighs[1]]\n",
        "\t\tr3_list = [list(to_neigh) for to_neigh in to_neighs[2]]\n",
        "\n",
        "\t\t# assign label-aware scores to neighbor nodes for each batch node and relation\n",
        "\t\tr1_scores = [batch_scores[itemgetter(*to_neigh)(id_mapping), :].view(-1, 2) for to_neigh in r1_list]\n",
        "\t\tr2_scores = [batch_scores[itemgetter(*to_neigh)(id_mapping), :].view(-1, 2) for to_neigh in r2_list]\n",
        "\t\tr3_scores = [batch_scores[itemgetter(*to_neigh)(id_mapping), :].view(-1, 2) for to_neigh in r3_list]\n",
        "\n",
        "\t\t# count the number of neighbors kept for aggregation for each batch node and relation\n",
        "\t\tr1_sample_num_list = [math.ceil(len(neighs) * self.thresholds[0]) for neighs in r1_list]\n",
        "\t\tr2_sample_num_list = [math.ceil(len(neighs) * self.thresholds[1]) for neighs in r2_list]\n",
        "\t\tr3_sample_num_list = [math.ceil(len(neighs) * self.thresholds[2]) for neighs in r3_list]\n",
        "\n",
        "\t\t# intra-aggregation steps for each relation\n",
        "\t\t# Eq. (8) in the paper\n",
        "\t\tr1_feats, r1_scores = self.intra_agg1.forward(nodes, r1_list, center_scores, r1_scores, r1_sample_num_list)\n",
        "\t\tr2_feats, r2_scores = self.intra_agg2.forward(nodes, r2_list, center_scores, r2_scores, r2_sample_num_list)\n",
        "\t\tr3_feats, r3_scores = self.intra_agg3.forward(nodes, r3_list, center_scores, r3_scores, r3_sample_num_list)\n",
        "\n",
        "\t\t# concat the intra-aggregated embeddings from each relation\n",
        "\t\tneigh_feats = torch.cat((r1_feats, r2_feats, r3_feats), dim=0)\n",
        "\n",
        "\t\t# get features or embeddings for batch nodes\n",
        "\t\tif self.cuda and isinstance(nodes, list):\n",
        "\t\t\tindex = torch.LongTensor(nodes).cuda()\n",
        "\t\telse:\n",
        "\t\t\tindex = torch.LongTensor(nodes)\n",
        "\t\tself_feats = self.features(index)\n",
        "\n",
        "\t\t# number of nodes in a batch\n",
        "\t\tn = len(nodes)\n",
        "\n",
        "\t\t# inter-relation aggregation steps\n",
        "\t\t# Eq. (9) in the paper\n",
        "\t\t# if self.inter == 'Att':\n",
        "\t\t# \t# 1) CARE-Att Inter-relation Aggregator\n",
        "\t\t# \tcombined, attention = att_inter_agg(len(self.adj_lists), self.leakyrelu, self_feats, neigh_feats, self.embed_dim,\n",
        "\t\t# \t\t\t\t\t\t\t\t\t\tself.weight, self.a, n, self.dropout, self.training, self.cuda)\n",
        "\t\t# elif self.inter == 'Weight':\n",
        "\t\t# \t# 2) CARE-Weight Inter-relation Aggregator\n",
        "\t\t# \tcombined = weight_inter_agg(len(self.adj_lists), self_feats, neigh_feats, self.embed_dim, self.weight, self.alpha, n, self.cuda)\n",
        "\t\t# \tgem_weights = F.softmax(torch.sum(self.alpha, dim=0), dim=0).tolist()\n",
        "\t\t# \tif train_flag:\n",
        "\t\t# \t\tprint(f'Weights: {gem_weights}')\n",
        "\t\t# elif self.inter == 'Mean':\n",
        "\t\t# \t# 3) CARE-Mean Inter-relation Aggregator\n",
        "\t\t# \tcombined = mean_inter_agg(len(self.adj_lists), self_feats, neigh_feats, self.embed_dim, self.weight, n, self.cuda)\n",
        "\t\tif self.inter == 'GNN':\n",
        "\t\t\t# 4) CARE-GNN Inter-relation Aggregator\n",
        "\t\t\tcombined = threshold_inter_agg(len(self.adj_lists), self_feats, neigh_feats, self.embed_dim, self.weight, self.thresholds, n, self.cuda)\n",
        "\n",
        "\t\t# the reinforcement learning module\n",
        "\t\tif self.RL and train_flag:\n",
        "\t\t\trelation_scores, rewards, thresholds, stop_flag = RLModule([r1_scores, r2_scores, r3_scores],\n",
        "\t\t\t\t\t\t\t\t\t\t\t\t\t\t\t\t\t   self.relation_score_log, labels, self.thresholds,\n",
        "\t\t\t\t\t\t\t\t\t\t\t\t\t\t\t\t\t   self.batch_num, self.step_size)\n",
        "\t\t\tself.thresholds = thresholds\n",
        "\t\t\tself.RL = stop_flag\n",
        "\t\t\tself.relation_score_log.append(relation_scores)\n",
        "\t\t\tself.thresholds_log.append(self.thresholds)\n",
        "\n",
        "\t\treturn combined, center_scores"
      ],
      "metadata": {
        "id": "P-lK4ZlFM2jo"
      },
      "execution_count": 25,
      "outputs": []
    },
    {
      "cell_type": "markdown",
      "source": [
        "### Instra Relation Aggregator with LeakyReLU (Proposed)\n",
        "\n"
      ],
      "metadata": {
        "id": "f1tUD_m5M6ke"
      }
    },
    {
      "cell_type": "code",
      "source": [
        "class IntraAgg_leaky(nn.Module):\n",
        "\n",
        "\tdef __init__(self, features, feat_dim, cuda=False):\n",
        "\t\t\"\"\"\n",
        "\t\tInitialize the intra-relation aggregator\n",
        "\t\t:param features: the input node features or embeddings for all nodes\n",
        "\t\t:param feat_dim: the input dimension\n",
        "\t\t:param cuda: whether to use GPU\n",
        "\t\t\"\"\"\n",
        "\t\tsuper(IntraAgg_leaky, self).__init__()\n",
        "\n",
        "\t\tself.features = features\n",
        "\t\tself.cuda = cuda\n",
        "\t\tself.feat_dim = feat_dim\n",
        "\n",
        "\tdef forward(self, nodes, to_neighs_list, batch_scores, neigh_scores, sample_list):\n",
        "\t\t\"\"\"\n",
        "\t\tCode partially from https://github.com/williamleif/graphsage-simple/\n",
        "\t\t:param nodes: list of nodes in a batch\n",
        "\t\t:param to_neighs_list: neighbor node id list for each batch node in one relation\n",
        "\t\t:param batch_scores: the label-aware scores of batch nodes\n",
        "\t\t:param neigh_scores: the label-aware scores 1-hop neighbors each batch node in one relation\n",
        "\t\t:param sample_list: the number of neighbors kept for each batch node in one relation\n",
        "\t\t:return to_feats: the aggregated embeddings of batch nodes neighbors in one relation\n",
        "\t\t:return samp_scores: the average neighbor distances for each relation after filtering\n",
        "\t\t\"\"\"\n",
        "\n",
        "\t\t# filer neighbors under given relation\n",
        "\t\tsamp_neighs, samp_scores = filter_neighs_ada_threshold(batch_scores, neigh_scores, to_neighs_list, sample_list)\n",
        "\n",
        "\t\t# find the unique nodes among batch nodes and the filtered neighbors\n",
        "\t\tunique_nodes_list = list(set.union(*samp_neighs))\n",
        "\t\tunique_nodes = {n: i for i, n in enumerate(unique_nodes_list)}\n",
        "\n",
        "\t\t# intra-relation aggregation only with sampled neighbors\n",
        "\t\tmask = Variable(torch.zeros(len(samp_neighs), len(unique_nodes)))\n",
        "\t\tcolumn_indices = [unique_nodes[n] for samp_neigh in samp_neighs for n in samp_neigh]\n",
        "\t\trow_indices = [i for i in range(len(samp_neighs)) for _ in range(len(samp_neighs[i]))]\n",
        "\t\tmask[row_indices, column_indices] = 1\n",
        "\t\tif self.cuda:\n",
        "\t\t\tmask = mask.cuda()\n",
        "\t\tnum_neigh = mask.sum(1, keepdim=True)\n",
        "\t\tmask = mask.div(num_neigh)\n",
        "\t\tif self.cuda:\n",
        "\t\t\tembed_matrix = self.features(torch.LongTensor(unique_nodes_list).cuda())\n",
        "\t\telse:\n",
        "\t\t\tembed_matrix = self.features(torch.LongTensor(unique_nodes_list))\n",
        "\t\tto_feats = mask.mm(embed_matrix)\n",
        "\t\t# to_feats = F.relu(to_feats)\n",
        "\t\tto_feats = nn.LeakyReLU(0.2)(to_feats) # Proposed Leakly Relu Activtion eqn 8\n",
        "\t\treturn to_feats, samp_scores\n"
      ],
      "metadata": {
        "id": "6HhqlorEM93v"
      },
      "execution_count": 26,
      "outputs": []
    },
    {
      "cell_type": "markdown",
      "source": [
        "### Reinforcement Learning Module"
      ],
      "metadata": {
        "id": "2KRPlsQLNCuZ"
      }
    },
    {
      "cell_type": "code",
      "source": [
        "def RLModule(scores, scores_log, labels, thresholds, batch_num, step_size):\n",
        "\t\"\"\"\n",
        "\tThe reinforcement learning module.\n",
        "\tIt updates the neighbor filtering threshold for each relation based\n",
        "\ton the average neighbor distances between two consecutive epochs.\n",
        "\t:param scores: the neighbor nodes label-aware scores for each relation\n",
        "\t:param scores_log: a list stores the relation average distances for each batch\n",
        "\t:param labels: the batch node labels used to select positive nodes\n",
        "\t:param thresholds: the current neighbor filtering thresholds for each relation\n",
        "\t:param batch_num: numbers batches in an epoch\n",
        "\t:param step_size: the RL action step size\n",
        "\t:return relation_scores: the relation average distances for current batch\n",
        "\t:return rewards: the reward for given thresholds in current epoch\n",
        "\t:return new_thresholds: the new filtering thresholds updated according to the rewards\n",
        "\t:return stop_flag: the RL terminal condition flag\n",
        "\t\"\"\"\n",
        "\n",
        "\trelation_scores = []\n",
        "\tstop_flag = True\n",
        "\n",
        "\t# only compute the average neighbor distances for positive nodes\n",
        "\tpos_index = (labels == 1).nonzero().tolist()\n",
        "\tpos_index = [i[0] for i in pos_index]\n",
        "\n",
        "\t# compute average neighbor distances for each relation\n",
        "\tfor score in scores:\n",
        "\t\tpos_scores = itemgetter(*pos_index)(score)\n",
        "\t\tneigh_count = sum([1 if isinstance(i, float) else len(i) for i in pos_scores])\n",
        "\t\tpos_sum = [i if isinstance(i, float) else sum(i) for i in pos_scores]\n",
        "\t\trelation_scores.append(sum(pos_sum) / neigh_count)\n",
        "\n",
        "\tif len(scores_log) % batch_num != 0 or len(scores_log) < 2 * batch_num:\n",
        "\t\t# do not call RL module within the epoch or within the first two epochs\n",
        "\t\trewards = [0, 0, 0]\n",
        "\t\tnew_thresholds = thresholds\n",
        "\telse:\n",
        "\t\t# update thresholds according to average scores in last epoch\n",
        "\t\t# Eq.(5) in the paper\n",
        "\t\tprevious_epoch_scores = [sum(s) / batch_num for s in zip(*scores_log[-2 * batch_num:-batch_num])]\n",
        "\t\tcurrent_epoch_scores = [sum(s) / batch_num for s in zip(*scores_log[-batch_num:])]\n",
        "\n",
        "\t\t# compute reward for each relation and update the thresholds according to reward\n",
        "\t\t# Eq. (6) in the paper\n",
        "\t\trewards = [1 if previous_epoch_scores[i] - s >= 0 else -1 for i, s in enumerate(current_epoch_scores)]\n",
        "\t\tnew_thresholds = [thresholds[i] + step_size if r == 1 else thresholds[i] - step_size for i, r in enumerate(rewards)]\n",
        "\n",
        "\t\t# avoid overflow\n",
        "\t\tnew_thresholds = [0.999 if i > 1 else i for i in new_thresholds]\n",
        "\t\tnew_thresholds = [0.001 if i < 0 else i for i in new_thresholds]\n",
        "\n",
        "\t\tprint(f'epoch scores: {current_epoch_scores}')\n",
        "\t\tprint(f'rewards: {rewards}')\n",
        "\t\tprint(f'thresholds: {new_thresholds}')\n",
        "\n",
        "\treturn relation_scores, rewards, new_thresholds, stop_flag"
      ],
      "metadata": {
        "id": "iZLOxlL1NGoz"
      },
      "execution_count": 27,
      "outputs": []
    },
    {
      "cell_type": "markdown",
      "source": [
        "### Filter neighbors from label predictor"
      ],
      "metadata": {
        "id": "ybKIwzBwNKDJ"
      }
    },
    {
      "cell_type": "code",
      "source": [
        "def filter_neighs_ada_threshold(center_scores, neigh_scores, neighs_list, sample_list):\n",
        "\t\"\"\"\n",
        "\tFilter neighbors according label predictor result with adaptive thresholds\n",
        "\t:param center_scores: the label-aware scores of batch nodes\n",
        "\t:param neigh_scores: the label-aware scores 1-hop neighbors each batch node in one relation\n",
        "\t:param neighs_list: neighbor node id list for each batch node in one relation\n",
        "\t:param sample_list: the number of neighbors kept for each batch node in one relation\n",
        "\t:return samp_neighs: the neighbor indices and neighbor simi scores\n",
        "\t:return samp_scores: the average neighbor distances for each relation after filtering\n",
        "\t\"\"\"\n",
        "\n",
        "\tsamp_neighs = []\n",
        "\tsamp_scores = []\n",
        "\tfor idx, center_score in enumerate(center_scores):\n",
        "\t\tcenter_score = center_scores[idx][0]\n",
        "\t\tneigh_score = neigh_scores[idx][:, 0].view(-1, 1)\n",
        "\t\tcenter_score = center_score.repeat(neigh_score.size()[0], 1)\n",
        "\t\tneighs_indices = neighs_list[idx]\n",
        "\t\tnum_sample = sample_list[idx]\n",
        "\n",
        "\t\t# compute the L1-distance of batch nodes and their neighbors\n",
        "\t\t# Eq. (2) in paper\n",
        "\t\tscore_diff = torch.abs(center_score - neigh_score).squeeze()\n",
        "\t\tsorted_scores, sorted_indices = torch.sort(score_diff, dim=0, descending=False)\n",
        "\t\tselected_indices = sorted_indices.tolist()\n",
        "\n",
        "\t\t# top-p sampling according to distance ranking and thresholds\n",
        "\t\t# Section 3.3.1 in paper\n",
        "\t\tif len(neigh_scores[idx]) > num_sample + 1:\n",
        "\t\t\tselected_neighs = [neighs_indices[n] for n in selected_indices[:num_sample]]\n",
        "\t\t\tselected_scores = sorted_scores.tolist()[:num_sample]\n",
        "\t\telse:\n",
        "\t\t\tselected_neighs = neighs_indices\n",
        "\t\t\tselected_scores = score_diff.tolist()\n",
        "\t\t\tif isinstance(selected_scores, float):\n",
        "\t\t\t\tselected_scores = [selected_scores]\n",
        "\n",
        "\t\tsamp_neighs.append(set(selected_neighs))\n",
        "\t\tsamp_scores.append(selected_scores)\n",
        "\n",
        "\treturn samp_neighs, samp_scores"
      ],
      "metadata": {
        "id": "SfVsJMEENKfk"
      },
      "execution_count": 28,
      "outputs": []
    },
    {
      "cell_type": "markdown",
      "source": [
        "### CARE-GNN-Plus inter-relation aggregator using LeakyReLU (Proposed)"
      ],
      "metadata": {
        "id": "AND4I-DrNNyv"
      }
    },
    {
      "cell_type": "code",
      "source": [
        "def threshold_inter_agg(num_relations, self_feats, neigh_feats, embed_dim, weight, threshold, n, cuda):\n",
        "\t\"\"\"\n",
        "\tCARE-GNN inter-relation aggregator\n",
        "\tEq. (9) in the paper use Leaky Relu instread of Relu\n",
        "\t:param num_relations: number of relations in the graph\n",
        "\t:param self_feats: batch nodes features or embeddings\n",
        "\t:param neigh_feats: intra-relation aggregated neighbor embeddings for each relation\n",
        "\t:param embed_dim: the dimension of output embedding\n",
        "\t:param weight: parameter used to transform node embeddings before inter-relation aggregation\n",
        "\t:param threshold: the neighbor filtering thresholds used as aggregating weights\n",
        "\t:param n: number of nodes in a batch\n",
        "\t:param cuda: whether use GPU\n",
        "\t:return: inter-relation aggregated node embeddings\n",
        "\t\"\"\"\n",
        "\n",
        "\t# transform batch node embedding and neighbor embedding in each relation with weight parameter\n",
        "\tcenter_h = torch.mm(self_feats, weight)\n",
        "\tneigh_h = torch.mm(neigh_feats, weight)\n",
        "\n",
        "\t# initialize the final neighbor embedding\n",
        "\tif cuda:\n",
        "\t\taggregated = torch.zeros(size=(n, embed_dim)).cuda()\n",
        "\telse:\n",
        "\t\taggregated = torch.zeros(size=(n, embed_dim))\n",
        "\n",
        "\t# add weighted neighbor embeddings in each relation together\n",
        "\tfor r in range(num_relations):\n",
        "\t\taggregated += neigh_h[r * n:(r + 1) * n, :] * threshold[r]\n",
        "\n",
        "\t# sum aggregated neighbor embedding and batch node embedding\n",
        "\t# feed them to activation function\n",
        "\t# combined = F.relu(center_h + aggregated)\n",
        "\tcombined = nn.LeakyReLU(0.2)(center_h + aggregated) # Proposed Leakly Relu Activtion eqn 9\n",
        "\n",
        "\treturn combined"
      ],
      "metadata": {
        "id": "j5uKgWp6NOPc"
      },
      "execution_count": 53,
      "outputs": []
    },
    {
      "cell_type": "code",
      "source": [
        "# Model"
      ],
      "metadata": {
        "id": "PIsDCaN7NPoY"
      },
      "execution_count": 54,
      "outputs": []
    },
    {
      "cell_type": "markdown",
      "source": [
        "## CARE-GNN-Plus Model"
      ],
      "metadata": {
        "id": "mBQ4xtVVNTJs"
      }
    },
    {
      "cell_type": "code",
      "source": [
        "class MultiLayerCARE_Leaky(nn.Module):\n",
        "    \"\"\"\n",
        "    Multi-Layer CARE-GNN- with additional transform layers and residual connections between embeddings\n",
        "    \"\"\"\n",
        "    def __init__(self, num_classes, features, feat_dim, embed_dim, adj_lists,\n",
        "                 num_layers=2, lambda_1=2.0, step_size=0.02, cuda=False):\n",
        "        super(MultiLayerCARE_Leaky, self).__init__()\n",
        "\n",
        "        self.num_layers = num_layers\n",
        "        self.lambda_1 = lambda_1\n",
        "        self.xent = nn.CrossEntropyLoss()\n",
        "\n",
        "        # Core CARE-GNN components\n",
        "        intra1 = IntraAgg_leaky(features, feat_dim, cuda=cuda)\n",
        "        intra2 = IntraAgg_leaky(features, feat_dim, cuda=cuda)\n",
        "        intra3 = IntraAgg_leaky(features, feat_dim, cuda=cuda)\n",
        "\n",
        "        self.inter1 = InterAgg_leaky(features, feat_dim, embed_dim, adj_lists,\n",
        "                              [intra1, intra2, intra3],\n",
        "                              inter='GNN', step_size=step_size, cuda=cuda)\n",
        "\n",
        "        # Disable RL to prevent modulo by zero error\n",
        "        self.inter1.RL = False\n",
        "\n",
        "        ##### NOVELTY PROPOSED #####\n",
        "        # Novelty: Add additional transformation layers\n",
        "\n",
        "        self.transforms = nn.ModuleList()\n",
        "        for i in range(num_layers - 1):\n",
        "            self.transforms.append(nn.Linear(embed_dim, embed_dim))\n",
        "        #############################\n",
        "        # Final classifier\n",
        "        self.weight = nn.Parameter(torch.FloatTensor(embed_dim, num_classes))\n",
        "        init.xavier_uniform_(self.weight)\n",
        "\n",
        "    def forward(self, nodes, labels, train_flag=True):\n",
        "        # First layer (CARE-GNN without RL issues)\n",
        "        embeddings, label_scores = self.inter1(nodes, labels, train_flag)\n",
        "\n",
        "        # NOVELTY: Apply additional transformations\n",
        "        #applies a sequence of linear layers with ReLU, followed by residual connections (like in ResNet):\n",
        "        prev_embeddings = embeddings\n",
        "        for i, transform in enumerate(self.transforms):\n",
        "            embeddings = F.relu(transform(embeddings))\n",
        "            # ALSOAdd residual connection for deeper layers\n",
        "            if i > 0:\n",
        "                embeddings = embeddings + prev_embeddings\n",
        "            prev_embeddings = embeddings\n",
        "        ##################################################\n",
        "        # Final prediction\n",
        "        scores = torch.mm(embeddings, self.weight)\n",
        "        return scores, label_scores\n",
        "\n",
        "    def to_prob(self, nodes, labels, train_flag=True):\n",
        "        gnn_scores, label_scores = self.forward(nodes, labels, train_flag)\n",
        "        gnn_prob = nn.functional.softmax(gnn_scores, dim=1)\n",
        "        label_prob = nn.functional.softmax(label_scores, dim=1)\n",
        "        return gnn_prob, label_prob\n",
        "\n",
        "    def loss(self, nodes, labels, train_flag=True):\n",
        "        gnn_scores, label_scores = self.forward(nodes, labels, train_flag)\n",
        "\n",
        "        # GNN loss\n",
        "        gnn_loss = self.xent(gnn_scores, labels.squeeze())\n",
        "\n",
        "        # Similarity loss (same as baseline)\n",
        "        label_loss = self.xent(label_scores, labels.squeeze())\n",
        "\n",
        "        # Combined loss\n",
        "        final_loss = gnn_loss + self.lambda_1 * label_loss\n",
        "        return final_loss\n"
      ],
      "metadata": {
        "id": "KOntiw6ZNTla"
      },
      "execution_count": 30,
      "outputs": []
    },
    {
      "cell_type": "code",
      "source": [],
      "metadata": {
        "id": "4ILYDHfONX5M"
      },
      "execution_count": null,
      "outputs": []
    },
    {
      "cell_type": "markdown",
      "source": [
        "# Experiment"
      ],
      "metadata": {
        "id": "DNc2SVDMNZYZ"
      }
    },
    {
      "cell_type": "code",
      "source": [],
      "metadata": {
        "id": "jEm4Kb7yNa2i"
      },
      "execution_count": null,
      "outputs": []
    },
    {
      "cell_type": "markdown",
      "source": [
        "### Data Preparation"
      ],
      "metadata": {
        "id": "hdyjbhw2NdDC"
      }
    },
    {
      "cell_type": "code",
      "source": [
        "import numpy as np\n",
        "import torch\n",
        "import torch.nn as nn\n",
        "from scipy.io import loadmat\n",
        "import pickle\n",
        "import matplotlib.pyplot as plt\n",
        "from sklearn.model_selection import train_test_split\n",
        "import networkx as nx\n",
        "import random\n",
        "from matplotlib.patches import Patch\n",
        "\n",
        "from torch.nn import init\n",
        "import torch.nn.functional as F\n",
        "from torch.autograd import Variable\n",
        "from operator import itemgetter\n",
        "import math\n",
        "\n",
        "# Import your existing modules\n",
        "from model import OneLayerCARE\n",
        "from layers import IntraAgg, InterAgg\n",
        "from utils import normalize, pos_neg_split, undersample, test_care\n",
        "\n",
        "\n",
        "# Set seeds for reproducibility\n",
        "np.random.seed(42)\n",
        "torch.manual_seed(42)\n",
        "random.seed(42)\n"
      ],
      "metadata": {
        "id": "UXizT_MqNdjJ"
      },
      "execution_count": 32,
      "outputs": []
    },
    {
      "cell_type": "code",
      "source": [
        "print(\"=== Amazon Fraud Detection Dataset ===\")\n",
        "\n",
        "# Load Amazon.mat file directly\n",
        "data_file = loadmat('data/Amazon.mat')\n",
        "labels = data_file['label'].flatten()\n",
        "feat_data = data_file['features'].todense().A\n",
        "print(\"complete\")\n"
      ],
      "metadata": {
        "colab": {
          "base_uri": "https://localhost:8080/"
        },
        "id": "vnkAwoHANgwB",
        "outputId": "cd742f1e-efa6-4ef5-8078-712f8ddac763"
      },
      "execution_count": 34,
      "outputs": [
        {
          "output_type": "stream",
          "name": "stdout",
          "text": [
            "=== Amazon Fraud Detection Dataset ===\n",
            "complete\n"
          ]
        }
      ]
    },
    {
      "cell_type": "code",
      "source": [
        "\n",
        "\n",
        "# # Load the preprocessed adjacency lists\n",
        "# with open('data/amz_upu_adjlists.pickle', 'rb') as f:\n",
        "#     relation1 = pickle.load(f)  # User-Product-User\n",
        "# with open('data/amz_usu_adjlists.pickle', 'rb') as f:\n",
        "#     relation2 = pickle.load(f)  # User-Service-User\n",
        "# with open('data/amz_uvu_adjlists.pickle', 'rb') as f:\n",
        "#     relation3 = pickle.load(f)  # User-View-User\n",
        "\n",
        "# # Create homogeneous adjacency list (combine all relations)\n",
        "# homo = data_file['homo']\n",
        "\n",
        "# print(f\"Dataset Statistics:\")\n",
        "# print(f\"Total nodes: {len(labels)}\")\n",
        "# print(f\"Fraudulent users: {np.sum(labels == 1)} ({np.mean(labels==1)*100:.2f}%)\")\n",
        "# print(f\"Feature dimensions: {feat_data.shape}\")\n",
        "\n",
        "# print(f\"\\nRelation Statistics:\")\n",
        "# print(f\"User-Product-User nodes: {len(relation1)}\")\n",
        "# print(f\"User-Service-User nodes: {len(relation2)}\")\n",
        "# print(f\"User-View-User nodes: {len(relation3)}\")\n",
        "\n",
        "# # ADD THIS BLOCK HERE (moved from Section 2):\n",
        "# print(f\"\\n=== Feature Preprocessing ===\")\n",
        "# # Prepare features and adjacency lists\n",
        "# feat_data_normalized = normalize(feat_data)\n",
        "# features = nn.Embedding(feat_data.shape[0], feat_data.shape[1])\n",
        "# features.weight = nn.Parameter(torch.FloatTensor(feat_data_normalized), requires_grad=False)\n",
        "\n",
        "# adj_lists = [relation1, relation2, relation3]\n",
        "# print(\"✅ Features normalized and prepared\")\n",
        "# print(\"✅ Adjacency lists organized\")\n",
        "\n",
        "# # # Visualize class distribution\n",
        "# # plt.figure(figsize=(8, 4))\n",
        "# # plt.bar(['Legitimate', 'Fraudulent'], [np.sum(labels == 0), np.sum(labels == 1)])\n",
        "# # plt.title('Class Distribution in Amazon Dataset')\n",
        "# # plt.ylabel('Number of Users')\n",
        "# # plt.show()"
      ],
      "metadata": {
        "colab": {
          "base_uri": "https://localhost:8080/"
        },
        "id": "g0FFB456NpPA",
        "outputId": "408efa74-a7dc-443a-bced-e4d624f46433"
      },
      "execution_count": 35,
      "outputs": [
        {
          "output_type": "stream",
          "name": "stdout",
          "text": [
            "Dataset Statistics:\n",
            "Total nodes: 11944\n",
            "Fraudulent users: 821 (6.87%)\n",
            "Feature dimensions: (11944, 25)\n",
            "\n",
            "Relation Statistics:\n",
            "User-Product-User nodes: 11944\n",
            "User-Service-User nodes: 11944\n",
            "User-View-User nodes: 11944\n",
            "\n",
            "=== Feature Preprocessing ===\n",
            "✅ Features normalized and prepared\n",
            "✅ Adjacency lists organized\n"
          ]
        }
      ]
    },
    {
      "cell_type": "code",
      "source": [],
      "metadata": {
        "id": "3nzpJ735NtCf"
      },
      "execution_count": null,
      "outputs": []
    },
    {
      "cell_type": "markdown",
      "source": [
        "## Create Model"
      ],
      "metadata": {
        "id": "JKCk4kpTNvzD"
      }
    },
    {
      "cell_type": "code",
      "source": [],
      "metadata": {
        "id": "8i-1bgshNwPj"
      },
      "execution_count": null,
      "outputs": []
    },
    {
      "cell_type": "markdown",
      "source": [
        "### CARE-GNN Base Model ( paper)"
      ],
      "metadata": {
        "id": "_qiqCz_ZNyVz"
      }
    },
    {
      "cell_type": "code",
      "source": [
        "# =========================================================================\n",
        "# CARE-GNN Model Architecture Setup\n",
        "# =========================================================================\n",
        "# Purpose: Configure and initialize the complete CARE-GNN model architecture\n",
        "# This section builds the multi-relation graph neural network with adaptive\n",
        "# neighbor filtering for fraud detection on Amazon dataset\n",
        "# =========================================================================\n",
        "\n",
        "print(\"=== CARE-GNN Architecture ===\")\n",
        "\n",
        "# Core Architecture Parameters\n",
        "embed_dim = 64      # Output embedding dimension for node representations\n",
        "                    # - Controls model capacity and representation richness\n",
        "                    # - 64 dims balance expressiveness vs computational efficiency\n",
        "                    # - Sufficient for capturing fraud patterns in Amazon dataset\n",
        "\n",
        "# Reinforcement Learning Parameters\n",
        "step_size = 0.02    # RL action step size for adaptive threshold learning\n",
        "                    # - Controls how quickly thresholds adapt during training\n",
        "                    # - Smaller values = more stable but slower convergence\n",
        "                    # - 0.02 provides good balance for fraud detection tasks (from the repo.)\n",
        "\n",
        "# Loss Function Parameters\n",
        "lambda_1 = 2.0      # Weight for similarity loss in combined objective\n",
        "                    # - Balances GNN loss vs label-aware similarity loss\n",
        "                    # - lambda_1 > 1 emphasizes similarity learning (good for camouflaged fraud)\n",
        "                    # - Higher values help detect fraudsters who mimic legitimate behavior\n",
        "\n",
        "# Training Parameters\n",
        "batch_size = 256    # Number of nodes processed per training batch\n",
        "                    # - Balances memory usage vs gradient quality\n",
        "                    # - Larger batches = more stable gradients but higher memory\n",
        "                    # - 256 is optimal for most fraud detection datasets\n",
        "\n",
        "print(f\"Model Configuration:\")\n",
        "print(f\"- Embedding dimension: {embed_dim}\")\n",
        "print(f\"- RL step size: {step_size}\")\n",
        "print(f\"- Similarity loss weight: {lambda_1}\")\n",
        "print(f\"- Batch size: {batch_size}\")\n",
        "\n",
        "# Build CARE-GNN model , which follow the main githup repo https://github.com/YingtongDou/CARE-GNN\n",
        "intra1 = IntraAgg(features, feat_data.shape[1], cuda=False)\n",
        "intra2 = IntraAgg(features, feat_data.shape[1], cuda=False)\n",
        "intra3 = IntraAgg(features, feat_data.shape[1], cuda=False)\n",
        "\n",
        "inter = InterAgg(features, feat_data.shape[1], embed_dim, adj_lists,\n",
        "                 [intra1, intra2, intra3], inter='GNN', step_size=step_size, cuda=False)\n",
        "\n",
        "model = OneLayerCARE(num_classes=2, inter1=inter, lambda_1=lambda_1)\n",
        "\n",
        "print(f\"✅ CARE-GNN model built successfully!\")\n",
        "print(f\"Total parameters: {sum(p.numel() for p in model.parameters()):,}\")"
      ],
      "metadata": {
        "colab": {
          "base_uri": "https://localhost:8080/"
        },
        "id": "nEmU_s9TNyxL",
        "outputId": "b6fabe4c-fc87-4254-e6db-928693680db5"
      },
      "execution_count": 36,
      "outputs": [
        {
          "output_type": "stream",
          "name": "stdout",
          "text": [
            "Model Configuration:\n",
            "- Embedding dimension: 64\n",
            "- RL step size: 0.02\n",
            "- Similarity loss weight: 2.0\n",
            "- Batch size: 256\n",
            "✅ CARE-GNN base model built successfully!\n",
            "Total parameters: 300,700\n"
          ]
        }
      ]
    },
    {
      "cell_type": "markdown",
      "source": [
        "### Proposed Multi-Layer CARE-GNN with LeakyReLU and residual connections between embedding layers"
      ],
      "metadata": {
        "id": "wX9AePlgN27U"
      }
    },
    {
      "cell_type": "code",
      "source": [
        "\n",
        "model2_leaky = MultiLayerCARE_Leaky(\n",
        "    num_classes=2,\n",
        "    features=features,\n",
        "    feat_dim=feat_data.shape[1],\n",
        "    embed_dim=embed_dim,\n",
        "    adj_lists=adj_lists,\n",
        "    num_layers=2,\n",
        "    lambda_1=lambda_1,\n",
        "    step_size=step_size,\n",
        "    cuda=False\n",
        ")"
      ],
      "metadata": {
        "id": "GaxPYIg2N3aK"
      },
      "execution_count": 37,
      "outputs": []
    },
    {
      "cell_type": "code",
      "source": [
        "print(type(model2_leaky))"
      ],
      "metadata": {
        "colab": {
          "base_uri": "https://localhost:8080/"
        },
        "id": "z_oD7eBvN5Yu",
        "outputId": "44f8206c-23f4-453c-f5e1-3c723e9c73c6"
      },
      "execution_count": 38,
      "outputs": [
        {
          "output_type": "stream",
          "name": "stdout",
          "text": [
            "<class '__main__.MultiLayerCARE_Leaky'>\n"
          ]
        }
      ]
    },
    {
      "cell_type": "code",
      "source": [
        "model3_leaky = MultiLayerCARE_Leaky(\n",
        "    num_classes=2,\n",
        "    features=features,\n",
        "    feat_dim=feat_data.shape[1],\n",
        "    embed_dim=embed_dim,\n",
        "    adj_lists=adj_lists,\n",
        "    num_layers=3, # 3 layers\n",
        "    lambda_1=lambda_1,\n",
        "    step_size=step_size,\n",
        "    cuda=False\n",
        ")"
      ],
      "metadata": {
        "id": "Q59JV6KNN8Sz"
      },
      "execution_count": 39,
      "outputs": []
    },
    {
      "cell_type": "code",
      "source": [
        "print(type(model3_leaky))"
      ],
      "metadata": {
        "colab": {
          "base_uri": "https://localhost:8080/"
        },
        "id": "TlR-hxewN84v",
        "outputId": "3d9612cb-6315-49cb-e5ce-c5630cab3d36"
      },
      "execution_count": 40,
      "outputs": [
        {
          "output_type": "stream",
          "name": "stdout",
          "text": [
            "<class '__main__.MultiLayerCARE_Leaky'>\n"
          ]
        }
      ]
    },
    {
      "cell_type": "code",
      "source": [],
      "metadata": {
        "id": "ozGBWCT2N-LL"
      },
      "execution_count": null,
      "outputs": []
    },
    {
      "cell_type": "markdown",
      "source": [
        "# Ultils Functions for training and evaluation"
      ],
      "metadata": {
        "id": "gUCkvxS-OA8M"
      }
    },
    {
      "cell_type": "code",
      "source": [
        "def train_care_model(model, model_name, train_pos, train_neg, labels,\n",
        "                      learning_rate=0.01, weight_decay=1e-3, momentum=0.9, num_epochs=15,\n",
        "                      batch_size=256, scale=1, verbose=True, plot_loss=True):\n",
        "    \"\"\"\n",
        "    General training function for CARE-GNN models (including multi-layer variants)\n",
        "\n",
        "    Args:\n",
        "        model: The CARE model to train (model2_leaky, model3_leaky, etc.)\n",
        "        model_name: String name for the model (for logging and plotting)\n",
        "        train_pos: List of positive training sample indices\n",
        "        train_neg: List of negative training sample indices\n",
        "        labels: Array of all node labels\n",
        "        learning_rate: Learning rate for SGD optimizer\n",
        "        weight_decay: Weight decay for SGD optimizer\n",
        "        momentum: Momentum for SGD optimizer\n",
        "        num_epochs: Number of training epochs\n",
        "        batch_size: Batch size for training\n",
        "        scale: Scale factor for undersampling (1 means balanced)\n",
        "        verbose: Whether to print training progress\n",
        "        plot_loss: Whether to plot training loss curve\n",
        "\n",
        "    Returns:\n",
        "        train_losses: List of training losses per epoch\n",
        "        trained_model: The trained model\n",
        "    \"\"\"\n",
        "\n",
        "    if verbose:\n",
        "        print(f\"=== Training {model_name} ===\")\n",
        "\n",
        "    # Setup SGD optimizer\n",
        "    optimizer = torch.optim.SGD(model.parameters(), lr=learning_rate,\n",
        "                               weight_decay=weight_decay, momentum=momentum)\n",
        "\n",
        "    # Track losses\n",
        "    train_losses = []\n",
        "\n",
        "    # Training loop\n",
        "    for epoch in range(num_epochs):\n",
        "        model.train()\n",
        "\n",
        "        # Undersample negative samples for balanced training\n",
        "        sampled_idx_train = undersample(train_pos, train_neg, scale=scale)\n",
        "        random.shuffle(sampled_idx_train)\n",
        "\n",
        "        # Calculate number of batches\n",
        "        num_batches = (len(sampled_idx_train) + batch_size - 1) // batch_size\n",
        "\n",
        "        # Set batch number for RL module (if model has inter1 with RL)\n",
        "        if hasattr(model, 'inter1') and hasattr(model.inter1, 'batch_num'):\n",
        "            model.inter1.batch_num = num_batches\n",
        "\n",
        "        epoch_loss = 0.0\n",
        "\n",
        "        # Batch training\n",
        "        for batch_idx in range(num_batches):\n",
        "            start_idx = batch_idx * batch_size\n",
        "            end_idx = min((batch_idx + 1) * batch_size, len(sampled_idx_train))\n",
        "            batch_nodes = sampled_idx_train[start_idx:end_idx]\n",
        "            batch_labels = torch.LongTensor(labels[batch_nodes])\n",
        "\n",
        "            optimizer.zero_grad()\n",
        "\n",
        "            # Forward pass\n",
        "            loss = model.loss(batch_nodes, batch_labels, train_flag=True)\n",
        "\n",
        "            # Backward pass\n",
        "            loss.backward()\n",
        "            optimizer.step()\n",
        "\n",
        "            epoch_loss += loss.item()\n",
        "\n",
        "        # Calculate average loss for epoch\n",
        "        avg_loss = epoch_loss / num_batches\n",
        "        train_losses.append(avg_loss)\n",
        "\n",
        "        # Print progress\n",
        "        if verbose and epoch % 3 == 0:\n",
        "            print(f\"Epoch {epoch:2d}: Loss = {avg_loss:.4f}\")\n",
        "\n",
        "    if verbose:\n",
        "        print(f\"✅ {model_name} training completed!\")\n",
        "\n",
        "    # Plot training loss\n",
        "    if plot_loss:\n",
        "        plt.figure(figsize=(8, 4))\n",
        "        plt.plot(train_losses, label=model_name)\n",
        "        plt.title(f'{model_name} Training Loss')\n",
        "        plt.xlabel('Epoch')\n",
        "        plt.ylabel('Loss')\n",
        "        plt.legend()\n",
        "        plt.grid(True)\n",
        "        plt.show()\n",
        "\n",
        "    return train_losses, model"
      ],
      "metadata": {
        "id": "uQ71j75uODC8"
      },
      "execution_count": 42,
      "outputs": []
    },
    {
      "cell_type": "markdown",
      "source": [
        "# Train Model"
      ],
      "metadata": {
        "id": "bYpbNah0OEkB"
      }
    },
    {
      "cell_type": "markdown",
      "source": [
        "## CARE-GNN Original Paper with Adam Optimizer\n"
      ],
      "metadata": {
        "id": "aPRhAL2unllx"
      }
    },
    {
      "cell_type": "code",
      "source": [
        "# =========================================================================\n",
        "# Training Configuration and Data Preparation\n",
        "# =========================================================================\n",
        "# Purpose: Set up training/testing data splits and configure optimization\n",
        "# This section handles the unique characteristics of fraud detection datasets:\n",
        "# - Class imbalance (few fraudulent vs many benign users)\n",
        "# - Semi-supervised setting (unlabeled nodes in graph)\n",
        "# - Stratified sampling to maintain fraud ratio across splits\n",
        "# =========================================================================\n",
        "\n",
        "\n",
        "## Training Setup\n",
        "\n",
        "print(\"=== Training Configuration ===\")\n",
        "\n",
        "# =========================================================================\n",
        "# Amazon Dataset Split Strategy\n",
        "# =========================================================================\n",
        "# Amazon fraud detection dataset has a unique structure:\n",
        "# - First 3305 nodes are UNLABELED (used for inductive learning)\n",
        "# - Remaining nodes have ground truth labels for training/testing\n",
        "# This semi-supervised setup reflects real-world fraud detection scenarios\n",
        "\n",
        "# Extract labeled portion of the dataset\n",
        "# Skip first 3305 unlabeled nodes and work with labeled subset\n",
        "\n",
        "labeled_indices = list(range(3305, len(labels)))\n",
        "labeled_labels = labels[3305:]\n",
        "\n",
        "# =========================================================================\n",
        "# Stratified Train/Test Split\n",
        "# =========================================================================\n",
        "# Use stratified sampling to maintain fraud ratio in both splits\n",
        "# Critical for fraud detection where class imbalance is severe\n",
        "idx_train, idx_test, y_train, y_test = train_test_split(\n",
        "    labeled_indices, labeled_labels,\n",
        "    stratify=labeled_labels,\n",
        "    test_size=0.6,  # 60% for testing, 40% for training\n",
        "    random_state=42\n",
        ")\n",
        "\n",
        "# Split rationale for fraud detection:\n",
        "# - test_size=0.6: Following standard fraud detection evaluation protocol\n",
        "# - 40% training / 60% testing split is common in fraud detection literature\n",
        "# - Large test set ensures robust evaluation on imbalanced fraud data\n",
        "# - Stratify preserves fraud/benign ratio in both train/test splits\n",
        "# - This split ratio aligns with CARE-GNN experimental setup\n",
        "\n",
        "print(f\"Training samples: {len(idx_train)}\")\n",
        "print(f\"Test samples: {len(idx_test)}\")\n",
        "\n",
        "# Split positive and negative samples for undersampling\n",
        "train_pos, train_neg = pos_neg_split(idx_train, y_train)\n",
        "print(f\"Training - Positive: {len(train_pos)}, Negative: {len(train_neg)}\")\n",
        "\n",
        "# Training setup from the article\n",
        "learning_rate = 0.01\n",
        "weight_decay = 1e-3\n",
        "num_epochs = 15\n",
        "\n",
        "optimizer = torch.optim.Adam(model.parameters(), lr=learning_rate, weight_decay=weight_decay)\n",
        "\n",
        "print(f\"✅ Training setup complete!\")"
      ],
      "metadata": {
        "colab": {
          "base_uri": "https://localhost:8080/"
        },
        "id": "OK01sMRYOE90",
        "outputId": "2ce36d45-3eb5-4642-e4ee-572adf184384"
      },
      "execution_count": 41,
      "outputs": [
        {
          "output_type": "stream",
          "name": "stdout",
          "text": [
            "=== Training Configuration ===\n",
            "Training samples: 3455\n",
            "Test samples: 5184\n",
            "Training - Positive: 328, Negative: 3127\n"
          ]
        }
      ]
    },
    {
      "cell_type": "code",
      "source": [
        "# =========================================================================\n",
        "# CARE-GNN Model Training\n",
        "# =========================================================================\n",
        "# Purpose: Train the complete CARE-GNN model with adaptive neighbor filtering\n",
        "# This section implements the full training loop including:\n",
        "# - Class-balanced undersampling for fraud detection\n",
        "# - Reinforcement learning threshold adaptation\n",
        "# - Multi-relation graph neural network optimization\n",
        "# - Combined loss function training (GNN + similarity)\n",
        "# =========================================================================\n",
        "\n",
        "print(\"=== Training CARE-GNN ===\")\n",
        "\n",
        "train_losses = []\n",
        "\n",
        "for epoch in range(num_epochs):\n",
        "    model.train()\n",
        "\n",
        "    # =====================================================================\n",
        "    # Class-Balanced Undersampling\n",
        "    # =====================================================================\n",
        "    # Address severe class imbalance in fraud detection\n",
        "    # Critical for preventing bias toward majority class (benign users)\n",
        "    sampled_idx_train = undersample(train_pos, train_neg, scale=1)\n",
        "    # Randomize batch order for better gradient updates\n",
        "    random.shuffle(sampled_idx_train)\n",
        "\n",
        "    # Set batch number for RL module\n",
        "    num_batches = (len(sampled_idx_train) + batch_size - 1) // batch_size\n",
        "    inter.batch_num = num_batches\n",
        "\n",
        "    epoch_loss = 0.0\n",
        "\n",
        "\n",
        "    # =====================================================================\n",
        "    # Mini-Batch Training Loop\n",
        "    # =====================================================================\n",
        "    # Process training data in batches for memory efficiency\n",
        "    # Essential for large fraud detection graphs\n",
        "\n",
        "    for batch_idx in range(num_batches):\n",
        "        # Extract batch of nodes to process\n",
        "        start_idx = batch_idx * batch_size\n",
        "        end_idx = min((batch_idx + 1) * batch_size, len(sampled_idx_train))\n",
        "        batch_nodes = sampled_idx_train[start_idx:end_idx]\n",
        "\n",
        "        # Get corresponding labels for supervision\n",
        "        batch_labels = torch.LongTensor(labels[batch_nodes])\n",
        "\n",
        "        # Reset gradients from previous iteration\n",
        "        optimizer.zero_grad()\n",
        "\n",
        "        # Forward pass\n",
        "        # This includes:\n",
        "        # 1. Multi-relation neighbor extraction (UPU, USU, UVU)\n",
        "        # 2. Label-aware similarity computation\n",
        "        # 3. Adaptive neighbor filtering (using current RL thresholds)\n",
        "        # 4. Intra-relation aggregation for each relation\n",
        "        # 5. Inter-relation aggregation (CARE-GNN method)\n",
        "        # 6. Final classification and similarity loss computation\n",
        "        loss = model.loss(batch_nodes, batch_labels, train_flag=True)\n",
        "\n",
        "        # Backward pass\n",
        "        # This updates:\n",
        "        # - GNN aggregation weights\n",
        "        # - Inter-relation combination parameters\n",
        "        # - Final classification layer weights\n",
        "        # - Label-aware similarity predictor weights\n",
        "        # Note: RL thresholds are updated separately in the RL module\n",
        "        loss.backward()\n",
        "        optimizer.step()\n",
        "\n",
        "        epoch_loss += loss.item()\n",
        "\n",
        "    avg_loss = epoch_loss / num_batches\n",
        "    train_losses.append(avg_loss)\n",
        "\n",
        "    if epoch % 3 == 0:\n",
        "        print(f\"Epoch {epoch:2d}: Loss = {avg_loss:.4f}\")\n",
        "\n",
        "print(\"✅ Training completed!\")\n",
        "\n",
        "# Plot training loss\n",
        "plt.figure(figsize=(8, 4))\n",
        "plt.plot(train_losses)\n",
        "plt.title('CARE-GNN Training Loss')\n",
        "plt.xlabel('Epoch')\n",
        "plt.ylabel('Loss')\n",
        "plt.grid(True)\n",
        "plt.show()\n"
      ],
      "metadata": {
        "id": "xxirvKkZmevp"
      },
      "execution_count": null,
      "outputs": []
    },
    {
      "cell_type": "code",
      "source": [],
      "metadata": {
        "id": "rXOt2hOUOHDp"
      },
      "execution_count": null,
      "outputs": []
    },
    {
      "cell_type": "markdown",
      "source": [
        "## Train Proposed Model (CARE-GNN_Plus) with SGD Optimizer"
      ],
      "metadata": {
        "id": "rYBd-FG5OVtp"
      }
    },
    {
      "cell_type": "code",
      "source": [
        "# Train 2-layer model with SGD\n",
        "losses_2layer, trained_model2 = train_care_model(\n",
        "    model=model2_leaky,\n",
        "    model_name=\"Multi-Layer CARE (2 layers + LeakyReLU)\",\n",
        "    train_pos=train_pos,\n",
        "    train_neg=train_neg,\n",
        "    labels=labels,\n",
        "    learning_rate=0.01,\n",
        "    weight_decay=1e-3,\n",
        "    momentum=0.9,        # SGD momentum\n",
        "    num_epochs=15,\n",
        "    batch_size=256\n",
        ")\n",
        "\n",
        "# Train 3-layer model with SGD\n",
        "losses_3layer, trained_model3 = train_care_model(\n",
        "    model=model3_leaky,\n",
        "    model_name=\"Multi-Layer CARE (3 layers + LeakyReLU)\",\n",
        "    train_pos=train_pos,\n",
        "    train_neg=train_neg,\n",
        "    labels=labels,\n",
        "    learning_rate=0.01,\n",
        "    weight_decay=1e-3,\n",
        "    momentum=0.9,        # SGD momentum\n",
        "    num_epochs=15,\n",
        "    batch_size=256\n",
        ")"
      ],
      "metadata": {
        "colab": {
          "base_uri": "https://localhost:8080/",
          "height": 1000
        },
        "id": "WNXTeLHcOXvW",
        "outputId": "b0bdc787-ab4e-4306-da30-a64fff408216"
      },
      "execution_count": 50,
      "outputs": [
        {
          "output_type": "stream",
          "name": "stdout",
          "text": [
            "=== Training Multi-Layer CARE (2 layers + LeakyReLU) ===\n",
            "Epoch  0: Loss = 1.3730\n",
            "Epoch  3: Loss = 1.3755\n",
            "Epoch  6: Loss = 1.3465\n",
            "Epoch  9: Loss = 1.3363\n",
            "Epoch 12: Loss = 1.3063\n",
            "✅ Multi-Layer CARE (2 layers + LeakyReLU) training completed!\n"
          ]
        },
        {
          "output_type": "display_data",
          "data": {
            "text/plain": [
              "<Figure size 800x400 with 1 Axes>"
            ],
            "image/png": "[encoded data removed]"
          },
          "metadata": {}
        },
        {
          "output_type": "stream",
          "name": "stdout",
          "text": [
            "=== Training Multi-Layer CARE (3 layers + LeakyReLU) ===\n",
            "Epoch  0: Loss = 1.3572\n",
            "Epoch  3: Loss = 1.3239\n",
            "Epoch  6: Loss = 1.3254\n",
            "Epoch  9: Loss = 1.3090\n",
            "Epoch 12: Loss = 1.3133\n",
            "✅ Multi-Layer CARE (3 layers + LeakyReLU) training completed!\n"
          ]
        },
        {
          "output_type": "display_data",
          "data": {
            "text/plain": [
              "<Figure size 800x400 with 1 Axes>"
            ],
            "image/png": "[encoded data removed]"
          },
          "metadata": {}
        }
      ]
    },
    {
      "cell_type": "code",
      "source": [
        "plt.figure(figsize=(12, 5))\n",
        "\n",
        "# Training loss comparison\n",
        "plt.subplot(1, 2, 1)\n",
        "plt.plot(losses_2layer, label='2-Layer CARE + LeakyReLU', linewidth=2, color='blue')\n",
        "plt.plot(losses_3layer, label='3-Layer CARE + LeakyReLU', linewidth=2, color='red')\n",
        "plt.title('Training Loss Comparison (SGD)')\n",
        "plt.xlabel('Epoch')\n",
        "plt.ylabel('Loss')\n",
        "plt.legend()\n",
        "plt.grid(True, alpha=0.3)\n",
        "\n",
        "# Final loss comparison bar chart\n",
        "plt.subplot(1, 2, 2)\n",
        "models = ['2-Layer', '3-Layer']\n",
        "final_losses = [losses_2layer[-1], losses_3layer[-1]]\n",
        "colors = ['blue', 'red']\n",
        "plt.bar(models, final_losses, color=colors, alpha=0.7)\n",
        "plt.title('Final Training Loss')\n",
        "plt.ylabel('Loss')\n",
        "plt.grid(axis='y', alpha=0.3)\n",
        "\n",
        "# Add value labels on bars\n",
        "for i, v in enumerate(final_losses):\n",
        "    plt.text(i, v + 0.001, f'{v:.4f}', ha='center', va='bottom')\n",
        "\n",
        "plt.tight_layout()\n",
        "plt.show()"
      ],
      "metadata": {
        "colab": {
          "base_uri": "https://localhost:8080/",
          "height": 507
        },
        "id": "ze1-Fla_OeHd",
        "outputId": "9691ec26-69c0-42a0-c2a6-cfc6c8ec780b"
      },
      "execution_count": 51,
      "outputs": [
        {
          "output_type": "display_data",
          "data": {
            "text/plain": [
              "<Figure size 1200x500 with 2 Axes>"
            ],
            "image/png": "[encoded data removed]"
          },
          "metadata": {}
        }
      ]
    },
    {
      "cell_type": "markdown",
      "source": [
        "## Evaluate proposed model (CARE-GNN_PLus)"
      ],
      "metadata": {
        "id": "uH3yKUfEO6SC"
      }
    },
    {
      "cell_type": "code",
      "source": [
        "# Evaluate 2-layer model\n",
        "print(\"\\n=== 2-Layer CARE Model Evaluation ===\")\n",
        "gnn_auc_2l, label_auc_2l, gnn_recall_2l, label_recall_2l = test_care(idx_test, y_test, trained_model2, batch_size)\n",
        "\n",
        "print(f\"2-Layer Model Results:\")\n",
        "print(f\"  AUC:    {gnn_auc_2l:.4f}\")\n",
        "print(f\"  Recall: {gnn_recall_2l:.4f}\")\n",
        "\n",
        "# Evaluate 3-layer model\n",
        "print(\"\\n=== 3-Layer CARE Model Evaluation ===\")\n",
        "gnn_auc_3l, label_auc_3l, gnn_recall_3l, label_recall_3l = test_care(idx_test, y_test, trained_model3, batch_size)\n",
        "\n",
        "print(f\"3-Layer Model Results:\")\n",
        "print(f\"  AUC:    {gnn_auc_3l:.4f}\")\n",
        "print(f\"  Recall: {gnn_recall_3l:.4f}\")\n",
        "\n",
        "# Manual comparison plot\n",
        "plt.figure(figsize=(12, 5))\n",
        "\n",
        "# AUC comparison\n",
        "plt.subplot(1, 2, 1)\n",
        "models = ['2-Layer', '3-Layer']\n",
        "aucs = [gnn_auc_2l, gnn_auc_3l]\n",
        "plt.bar(models, aucs, color=['skyblue', 'lightcoral'])\n",
        "plt.title('AUC Comparison')\n",
        "plt.ylabel('AUC Score')\n",
        "plt.ylim([0, 1])\n",
        "\n",
        "# Recall comparison\n",
        "plt.subplot(1, 2, 2)\n",
        "recalls = [gnn_recall_2l, gnn_recall_3l]\n",
        "plt.bar(models, recalls, color=['orange', 'lightgreen'])\n",
        "plt.title('Recall Comparison')\n",
        "plt.ylabel('Recall Score')\n",
        "plt.ylim([0, 1])\n",
        "\n",
        "plt.tight_layout()\n",
        "plt.show()"
      ],
      "metadata": {
        "colab": {
          "base_uri": "https://localhost:8080/",
          "height": 1000
        },
        "id": "SCyMa4FFO-Ie",
        "outputId": "7cb71264-95d2-445a-e29c-5ff63845531a"
      },
      "execution_count": 52,
      "outputs": [
        {
          "output_type": "stream",
          "name": "stdout",
          "text": [
            "\n",
            "=== 2-Layer CARE Model Evaluation ===\n",
            "GNN F1: 0.9022\n",
            "GNN Accuracy: 0.9678\n",
            "GNN Recall: 0.8896\n",
            "GNN auc: 0.9277\n",
            "GNN ap: 0.8310\n",
            "Label1 F1: 0.8374\n",
            "Label1 Accuracy: 0.9379\n",
            "Label1 Recall: 0.8782\n",
            "Label1 auc: 0.8674\n",
            "Label1 ap: 0.8000\n",
            "2-Layer Model Results:\n",
            "  AUC:    0.9277\n",
            "  Recall: 18.6822\n",
            "\n",
            "=== 3-Layer CARE Model Evaluation ===\n",
            "GNN F1: 0.8937\n",
            "GNN Accuracy: 0.9645\n",
            "GNN Recall: 0.8862\n",
            "GNN auc: 0.9138\n",
            "GNN ap: 0.8202\n",
            "Label1 F1: 0.8251\n",
            "Label1 Accuracy: 0.9315\n",
            "Label1 Recall: 0.8747\n",
            "Label1 auc: 0.8668\n",
            "Label1 ap: 0.7994\n",
            "3-Layer Model Results:\n",
            "  AUC:    0.9138\n",
            "  Recall: 18.6099\n"
          ]
        },
        {
          "output_type": "display_data",
          "data": {
            "text/plain": [
              "<Figure size 1200x500 with 2 Axes>"
            ],
            "image/png": "[encoded data removed]"
          },
          "metadata": {}
        }
      ]
    },
    {
      "cell_type": "markdown",
      "source": [],
      "metadata": {
        "id": "wnGyLqroPxdC"
      }
    },
    {
      "cell_type": "code",
      "source": [
        "## Training Base-GNN"
      ],
      "metadata": {
        "id": "UtRJFsSUPtgd"
      },
      "execution_count": null,
      "outputs": []
    },
    {
      "cell_type": "markdown",
      "source": [
        "## Training Base-GNN with SGD"
      ],
      "metadata": {
        "id": "_Lv-usFRPySa"
      }
    },
    {
      "cell_type": "code",
      "source": [
        "\n",
        "losses_base, trained_base = train_care_model(\n",
        "    model=model,\n",
        "    model_name=\"CARE-GNN with SGD Optimizer\",\n",
        "    train_pos=train_pos,\n",
        "    train_neg=train_neg,\n",
        "    labels=labels,\n",
        "    learning_rate=0.01,\n",
        "    weight_decay=1e-3,\n",
        "    momentum=0.9,        # SGD momentum\n",
        "    num_epochs=15,\n",
        "    batch_size=256\n",
        ")"
      ],
      "metadata": {
        "colab": {
          "base_uri": "https://localhost:8080/",
          "height": 1000
        },
        "id": "Od09EyUSPyt5",
        "outputId": "be294509-1b51-4ec8-c7e5-12d47c55d46d"
      },
      "execution_count": 47,
      "outputs": [
        {
          "output_type": "stream",
          "name": "stdout",
          "text": [
            "=== Training base CARE-GNN ===\n",
            "Epoch  0: Loss = 1.9848\n",
            "epoch scores: [0.04014615856151774, 0.03319858098593848, 0.039873976812591146]\n",
            "rewards: [-1, -1, -1]\n",
            "thresholds: [0.48, 0.48, 0.48]\n",
            "epoch scores: [0.04553570283041214, 0.03932480626011584, 0.041639292924551444]\n",
            "rewards: [-1, -1, -1]\n",
            "thresholds: [0.45999999999999996, 0.45999999999999996, 0.45999999999999996]\n",
            "Epoch  3: Loss = 1.9314\n",
            "epoch scores: [0.05318169731642705, 0.042313930915042285, 0.04683579366152396]\n",
            "rewards: [-1, -1, -1]\n",
            "thresholds: [0.43999999999999995, 0.43999999999999995, 0.43999999999999995]\n",
            "epoch scores: [0.06315487569610538, 0.045645366942326404, 0.04864493951653472]\n",
            "rewards: [-1, -1, -1]\n",
            "thresholds: [0.41999999999999993, 0.41999999999999993, 0.41999999999999993]\n",
            "epoch scores: [0.06713306818009852, 0.051541102676748836, 0.05518038137173914]\n",
            "rewards: [-1, -1, -1]\n",
            "thresholds: [0.3999999999999999, 0.3999999999999999, 0.3999999999999999]\n",
            "Epoch  6: Loss = 1.8536\n",
            "epoch scores: [0.07793754801246462, 0.06094918024644144, 0.056869906657695785]\n",
            "rewards: [-1, -1, -1]\n",
            "thresholds: [0.3799999999999999, 0.3799999999999999, 0.3799999999999999]\n",
            "epoch scores: [0.08435998509657645, 0.06316888287591842, 0.057961116624327826]\n",
            "rewards: [-1, -1, -1]\n",
            "thresholds: [0.3599999999999999, 0.3599999999999999, 0.3599999999999999]\n",
            "epoch scores: [0.09126807721808154, 0.07088477768539786, 0.06187294472322504]\n",
            "rewards: [-1, -1, -1]\n",
            "thresholds: [0.33999999999999986, 0.33999999999999986, 0.33999999999999986]\n",
            "Epoch  9: Loss = 1.8203\n",
            "epoch scores: [0.09881136497046024, 0.07481828366847397, 0.06648882774686597]\n",
            "rewards: [-1, -1, -1]\n",
            "thresholds: [0.31999999999999984, 0.31999999999999984, 0.31999999999999984]\n",
            "epoch scores: [0.10314524573910039, 0.07994588053189153, 0.061208508928540795]\n",
            "rewards: [-1, -1, 1]\n",
            "thresholds: [0.2999999999999998, 0.2999999999999998, 0.33999999999999986]\n",
            "epoch scores: [0.11476875443447924, 0.08279385177800118, 0.07724998813167577]\n",
            "rewards: [-1, -1, -1]\n",
            "thresholds: [0.2799999999999998, 0.2799999999999998, 0.31999999999999984]\n",
            "Epoch 12: Loss = 1.7592\n",
            "epoch scores: [0.11640498744138413, 0.0980424758574666, 0.07449104786802178]\n",
            "rewards: [-1, -1, 1]\n",
            "thresholds: [0.2599999999999998, 0.2599999999999998, 0.33999999999999986]\n",
            "epoch scores: [0.1157025815051012, 0.09168707257782664, 0.08559503317866102]\n",
            "rewards: [1, 1, -1]\n",
            "thresholds: [0.2799999999999998, 0.2799999999999998, 0.31999999999999984]\n",
            "epoch scores: [0.12880975429178468, 0.11173936797063233, 0.0794320848002524]\n",
            "rewards: [-1, -1, 1]\n",
            "thresholds: [0.2599999999999998, 0.2599999999999998, 0.33999999999999986]\n",
            "Epoch 15: Loss = 1.6782\n",
            "epoch scores: [0.1338885141831157, 0.1062334585847791, 0.09351863380939963]\n",
            "rewards: [-1, 1, -1]\n",
            "thresholds: [0.2399999999999998, 0.2799999999999998, 0.31999999999999984]\n",
            "epoch scores: [0.1325059411319157, 0.11901096329335625, 0.09372504510112657]\n",
            "rewards: [1, -1, -1]\n",
            "thresholds: [0.2599999999999998, 0.2599999999999998, 0.2999999999999998]\n",
            "epoch scores: [0.14368710180251884, 0.12255227010641827, 0.08988120251868344]\n",
            "rewards: [-1, -1, 1]\n",
            "thresholds: [0.2399999999999998, 0.2399999999999998, 0.31999999999999984]\n",
            "Epoch 18: Loss = 1.6585\n",
            "epoch scores: [0.1456118241126747, 0.11772619927351823, 0.09661841211698492]\n",
            "rewards: [-1, 1, -1]\n",
            "thresholds: [0.2199999999999998, 0.2599999999999998, 0.2999999999999998]\n",
            "epoch scores: [0.134651838142977, 0.13098115097597418, 0.09664653478105685]\n",
            "rewards: [1, -1, -1]\n",
            "thresholds: [0.2399999999999998, 0.2399999999999998, 0.2799999999999998]\n",
            "epoch scores: [0.1483921179251719, 0.1380473976051573, 0.1032073228006531]\n",
            "rewards: [-1, -1, -1]\n",
            "thresholds: [0.2199999999999998, 0.2199999999999998, 0.2599999999999998]\n",
            "Epoch 21: Loss = 1.6254\n",
            "epoch scores: [0.1525244272396047, 0.12806702477085316, 0.0915339434941843]\n",
            "rewards: [-1, 1, 1]\n",
            "thresholds: [0.19999999999999982, 0.2399999999999998, 0.2799999999999998]\n",
            "epoch scores: [0.14588109783350803, 0.14597417320710881, 0.09557923688028214]\n",
            "rewards: [1, -1, -1]\n",
            "thresholds: [0.2199999999999998, 0.2199999999999998, 0.2599999999999998]\n",
            "epoch scores: [0.17575569310306452, 0.14206154332299034, 0.09930442857989248]\n",
            "rewards: [-1, 1, -1]\n",
            "thresholds: [0.19999999999999982, 0.2399999999999998, 0.2399999999999998]\n",
            "Epoch 24: Loss = 1.5952\n",
            "epoch scores: [0.15829654365771773, 0.1532921312412263, 0.09872487044903282]\n",
            "rewards: [1, -1, 1]\n",
            "thresholds: [0.2199999999999998, 0.2199999999999998, 0.2599999999999998]\n",
            "epoch scores: [0.16990699037435006, 0.15728103467434087, 0.10872525416539865]\n",
            "rewards: [-1, -1, -1]\n",
            "thresholds: [0.19999999999999982, 0.19999999999999982, 0.2399999999999998]\n",
            "epoch scores: [0.1735734778844006, 0.16285676634898283, 0.10126250014454745]\n",
            "rewards: [-1, -1, 1]\n",
            "thresholds: [0.17999999999999983, 0.17999999999999983, 0.2599999999999998]\n",
            "Epoch 27: Loss = 1.5669\n",
            "epoch scores: [0.16373481231730344, 0.1573432372249326, 0.10050300538613022]\n",
            "rewards: [1, 1, 1]\n",
            "thresholds: [0.19999999999999982, 0.19999999999999982, 0.2799999999999998]\n",
            "epoch scores: [0.1778723378380367, 0.1590328715001457, 0.11302275298033819]\n",
            "rewards: [-1, -1, -1]\n",
            "thresholds: [0.17999999999999983, 0.17999999999999983, 0.2599999999999998]\n",
            "epoch scores: [0.17161845215224283, 0.15924745641087545, 0.12461735873633184]\n",
            "rewards: [1, -1, -1]\n",
            "thresholds: [0.19999999999999982, 0.15999999999999984, 0.2399999999999998]\n",
            "Epoch 30: Loss = 1.5354\n",
            "epoch scores: [0.18175924607080196, 0.1572168512102787, 0.10925094088349074]\n",
            "rewards: [-1, 1, 1]\n",
            "thresholds: [0.17999999999999983, 0.17999999999999983, 0.2599999999999998]\n",
            "✅ base CARE-GNN training completed!\n"
          ]
        },
        {
          "output_type": "display_data",
          "data": {
            "text/plain": [
              "<Figure size 800x400 with 1 Axes>"
            ],
            "image/png": "[encoded data removed]"
          },
          "metadata": {}
        }
      ]
    },
    {
      "cell_type": "code",
      "source": [
        "\n",
        "print(\"\\n=== Base CARE-GNN Base Model SGD Optimizer Evaluation ===\")\n",
        "gnn_auc_base, label_auc_base, gnn_recall_base, label_recall_base = test_care(idx_test, y_test, trained_base, batch_size)\n",
        "\n",
        "print(f\"CARE-GNN Base Model Results:\")\n",
        "print(f\"  AUC:    {gnn_auc_base:.4f}\")\n",
        "print(f\"  Recall: {gnn_recall_base:.4f}\")"
      ],
      "metadata": {
        "colab": {
          "base_uri": "https://localhost:8080/"
        },
        "id": "oDnyD3-QQjg-",
        "outputId": "4ec7f507-fc8e-4641-878e-cab205c286a3"
      },
      "execution_count": 49,
      "outputs": [
        {
          "output_type": "stream",
          "name": "stdout",
          "text": [
            "\n",
            "=== Base CARE Model Evaluation ===\n",
            "GNN F1: 0.8649\n",
            "GNN Accuracy: 0.9518\n",
            "GNN Recall: 0.8826\n",
            "GNN auc: 0.8705\n",
            "GNN ap: 0.8055\n",
            "Label1 F1: 0.7211\n",
            "Label1 Accuracy: 0.8597\n",
            "Label1 Recall: 0.8377\n",
            "Label1 auc: 0.8646\n",
            "Label1 ap: 0.7975\n",
            "Base Model Results:\n",
            "  AUC:    0.8705\n",
            "  Recall: 18.5352\n"
          ]
        }
      ]
    }
  ]
}